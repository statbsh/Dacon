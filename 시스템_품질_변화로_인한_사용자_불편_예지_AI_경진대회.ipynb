{
  "nbformat": 4,
  "nbformat_minor": 0,
  "metadata": {
    "colab": {
      "name": "시스템 품질 변화로 인한 사용자 불편 예지 AI 경진대회.ipynb",
      "provenance": [],
      "collapsed_sections": [],
      "toc_visible": true
    },
    "kernelspec": {
      "name": "python3",
      "display_name": "Python 3"
    }
  },
  "cells": [
    {
      "cell_type": "markdown",
      "metadata": {
        "id": "TEuvWH-1wyUN"
      },
      "source": [
        "Import"
      ]
    },
    {
      "cell_type": "code",
      "metadata": {
        "id": "-HZ4SL0akEn3"
      },
      "source": [
        "import pandas as pd\r\n",
        "import numpy as np\r\n",
        "import seaborn as sns\r\n",
        "import datetime as dt\r\n",
        "import matplotlib.pyplot as plt\r\n",
        "from tqdm import tqdm\r\n",
        "import gc\r\n",
        "import random\r\n",
        "import lightgbm as lgb\r\n",
        "from lightgbm import LGBMClassifier\r\n",
        "from lightgbm import LGBMClassifier, plot_importance\r\n",
        "from sklearn.ensemble import RandomForestClassifier\r\n",
        "from sklearn.ensemble import  GradientBoostingClassifier\r\n",
        "from sklearn.ensemble import VotingClassifier\r\n",
        "from sklearn.model_selection import cross_val_score\r\n",
        "import re\r\n",
        "import missingno as msno\r\n",
        "from sklearn.metrics import *\r\n",
        "from sklearn.model_selection import KFold\r\n",
        "import warnings\r\n",
        "warnings.filterwarnings(action='ignore')\r\n",
        "pd.set_option('display.float_format', '{:.0f}'.format)"
      ],
      "execution_count": 2,
      "outputs": []
    },
    {
      "cell_type": "code",
      "metadata": {
        "colab": {
          "base_uri": "https://localhost:8080/"
        },
        "id": "VHW-eVD7kIl6",
        "outputId": "9bf1b2a5-eb4a-4d69-89e3-1db235c69113"
      },
      "source": [
        "from google.colab import drive\r\n",
        "drive.mount('/content/gdrive', force_remount=True)\r\n"
      ],
      "execution_count": 4,
      "outputs": [
        {
          "output_type": "stream",
          "text": [
            "Mounted at /content/gdrive\n"
          ],
          "name": "stdout"
        }
      ]
    },
    {
      "cell_type": "code",
      "metadata": {
        "colab": {
          "base_uri": "https://localhost:8080/"
        },
        "id": "Sb3N4w0tva2y",
        "outputId": "c2501226-a5db-4e75-80fc-32053ca1b2ae"
      },
      "source": [
        "!ls \"/content/gdrive/MyDrive/data\" "
      ],
      "execution_count": 5,
      "outputs": [
        {
          "output_type": "stream",
          "text": [
            "dacon_2101124.csv  dacon_baseline.csv\t  train_err_data.csv\n",
            "dacon_2101125.csv  sample_submission.csv  train_problem_data.csv\n",
            "dacon_2101126.csv  test_err_data.csv\t  train_quality_data.csv\n",
            "dacon_2101127.csv  test_quality_data.csv\n"
          ],
          "name": "stdout"
        }
      ]
    },
    {
      "cell_type": "code",
      "metadata": {
        "id": "it3UOAlTkIud"
      },
      "source": [
        "path = \"/content/gdrive/MyDrive/data\"\r\n",
        "train_problem = path + '/train_problem_data.csv'\r\n",
        "train_quality = path + '/train_quality_data.csv'\r\n",
        "train_err = path + '/train_err_data.csv'\r\n",
        "test_err = path + '/test_err_data.csv'\r\n",
        "test_quality = path + '/test_quality_data.csv'\r\n",
        "sample_submission = path + '/sample_submission.csv'"
      ],
      "execution_count": 6,
      "outputs": []
    },
    {
      "cell_type": "code",
      "metadata": {
        "id": "hwV5Dns4kIx7"
      },
      "source": [
        "train_prob = pd.read_csv(train_problem)\r\n",
        "train_qual = pd.read_csv(train_quality)\r\n",
        "train_err = pd.read_csv(train_err)\r\n",
        "test_err = pd.read_csv(test_err)\r\n",
        "test_qual = pd.read_csv(test_quality)\r\n",
        "sample_submission= pd.read_csv(sample_submission)"
      ],
      "execution_count": 7,
      "outputs": []
    },
    {
      "cell_type": "markdown",
      "metadata": {
        "id": "UCzcb7YIiS06"
      },
      "source": [
        "User-defined functions"
      ]
    },
    {
      "cell_type": "code",
      "metadata": {
        "id": "UNJgvF0OE4wI"
      },
      "source": [
        "# 필요한 함수 정의\r\n",
        "def make_datetime(x):\r\n",
        "    # string 타입의 Time column을 datetime 타입으로 변경\r\n",
        "    x     = str(x)\r\n",
        "    year  = int(x[:4])\r\n",
        "    month = int(x[4:6])\r\n",
        "    day   = int(x[6:8])\r\n",
        "    hour  = int(x[8:10])\r\n",
        "    #mim  = int(x[10:12])\r\n",
        "    #sec  = int(x[12:])\r\n",
        "    return dt.datetime(year, month, day, hour)\r\n",
        "\r\n",
        "def string2num(x):\r\n",
        "    # (,)( )과 같은 불필요한 데이터 정제\r\n",
        "    x = re.sub(r\"[^0-9]+\", '', str(x))\r\n",
        "    if x =='':\r\n",
        "        return 0\r\n",
        "    else:\r\n",
        "        return int(x)\r\n"
      ],
      "execution_count": 8,
      "outputs": []
    },
    {
      "cell_type": "code",
      "metadata": {
        "id": "FatomCxMiSW1"
      },
      "source": [
        "def get_df_name(df):\r\n",
        "    name =[x for x in globals() if globals()[x] is df][0]\r\n",
        "    return name"
      ],
      "execution_count": 9,
      "outputs": []
    },
    {
      "cell_type": "markdown",
      "metadata": {
        "id": "UE5sOfFGipkj"
      },
      "source": [
        "# 1. EDA\r\n"
      ]
    },
    {
      "cell_type": "markdown",
      "metadata": {
        "id": "0C5wA2cxiYsG"
      },
      "source": [
        "### Check the datasets"
      ]
    },
    {
      "cell_type": "code",
      "metadata": {
        "colab": {
          "base_uri": "https://localhost:8080/",
          "height": 195
        },
        "id": "CksOPK-RiY_T",
        "outputId": "90dfea99-3232-43b9-dbf9-d106362c5927"
      },
      "source": [
        "for x in [train_err, train_qual, train_prob, test_err, test_qual]:\r\n",
        "  print( \"<<\", get_df_name(x), \">>\" )\r\n",
        "  display( x.shape )"
      ],
      "execution_count": 10,
      "outputs": [
        {
          "output_type": "stream",
          "text": [
            "<< train_err >>\n"
          ],
          "name": "stdout"
        },
        {
          "output_type": "display_data",
          "data": {
            "text/plain": [
              "(16554663, 6)"
            ]
          },
          "metadata": {
            "tags": []
          }
        },
        {
          "output_type": "stream",
          "text": [
            "<< train_qual >>\n"
          ],
          "name": "stdout"
        },
        {
          "output_type": "display_data",
          "data": {
            "text/plain": [
              "(828624, 16)"
            ]
          },
          "metadata": {
            "tags": []
          }
        },
        {
          "output_type": "stream",
          "text": [
            "<< train_prob >>\n"
          ],
          "name": "stdout"
        },
        {
          "output_type": "display_data",
          "data": {
            "text/plain": [
              "(5429, 2)"
            ]
          },
          "metadata": {
            "tags": []
          }
        },
        {
          "output_type": "stream",
          "text": [
            "<< test_err >>\n"
          ],
          "name": "stdout"
        },
        {
          "output_type": "display_data",
          "data": {
            "text/plain": [
              "(16532648, 6)"
            ]
          },
          "metadata": {
            "tags": []
          }
        },
        {
          "output_type": "stream",
          "text": [
            "<< test_qual >>\n"
          ],
          "name": "stdout"
        },
        {
          "output_type": "display_data",
          "data": {
            "text/plain": [
              "(747972, 16)"
            ]
          },
          "metadata": {
            "tags": []
          }
        }
      ]
    },
    {
      "cell_type": "code",
      "metadata": {
        "colab": {
          "base_uri": "https://localhost:8080/",
          "height": 1000
        },
        "id": "O7KNhK6Mid0D",
        "outputId": "70219f5f-fd87-4bc9-a656-d2ef643a5a06"
      },
      "source": [
        "for x in [train_err, train_qual, train_prob, test_err, test_qual]:\r\n",
        "  print( \"<<\", get_df_name(x), \">>\" )\r\n",
        "  display( x.head() )"
      ],
      "execution_count": 11,
      "outputs": [
        {
          "output_type": "stream",
          "text": [
            "<< train_err >>\n"
          ],
          "name": "stdout"
        },
        {
          "output_type": "display_data",
          "data": {
            "text/html": [
              "<div>\n",
              "<style scoped>\n",
              "    .dataframe tbody tr th:only-of-type {\n",
              "        vertical-align: middle;\n",
              "    }\n",
              "\n",
              "    .dataframe tbody tr th {\n",
              "        vertical-align: top;\n",
              "    }\n",
              "\n",
              "    .dataframe thead th {\n",
              "        text-align: right;\n",
              "    }\n",
              "</style>\n",
              "<table border=\"1\" class=\"dataframe\">\n",
              "  <thead>\n",
              "    <tr style=\"text-align: right;\">\n",
              "      <th></th>\n",
              "      <th>user_id</th>\n",
              "      <th>time</th>\n",
              "      <th>model_nm</th>\n",
              "      <th>fwver</th>\n",
              "      <th>errtype</th>\n",
              "      <th>errcode</th>\n",
              "    </tr>\n",
              "  </thead>\n",
              "  <tbody>\n",
              "    <tr>\n",
              "      <th>0</th>\n",
              "      <td>10000</td>\n",
              "      <td>20201101025616</td>\n",
              "      <td>model_3</td>\n",
              "      <td>05.15.2138</td>\n",
              "      <td>15</td>\n",
              "      <td>1</td>\n",
              "    </tr>\n",
              "    <tr>\n",
              "      <th>1</th>\n",
              "      <td>10000</td>\n",
              "      <td>20201101030309</td>\n",
              "      <td>model_3</td>\n",
              "      <td>05.15.2138</td>\n",
              "      <td>12</td>\n",
              "      <td>1</td>\n",
              "    </tr>\n",
              "    <tr>\n",
              "      <th>2</th>\n",
              "      <td>10000</td>\n",
              "      <td>20201101030309</td>\n",
              "      <td>model_3</td>\n",
              "      <td>05.15.2138</td>\n",
              "      <td>11</td>\n",
              "      <td>1</td>\n",
              "    </tr>\n",
              "    <tr>\n",
              "      <th>3</th>\n",
              "      <td>10000</td>\n",
              "      <td>20201101050514</td>\n",
              "      <td>model_3</td>\n",
              "      <td>05.15.2138</td>\n",
              "      <td>16</td>\n",
              "      <td>1</td>\n",
              "    </tr>\n",
              "    <tr>\n",
              "      <th>4</th>\n",
              "      <td>10000</td>\n",
              "      <td>20201101050515</td>\n",
              "      <td>model_3</td>\n",
              "      <td>05.15.2138</td>\n",
              "      <td>4</td>\n",
              "      <td>0</td>\n",
              "    </tr>\n",
              "  </tbody>\n",
              "</table>\n",
              "</div>"
            ],
            "text/plain": [
              "   user_id            time model_nm       fwver  errtype errcode\n",
              "0    10000  20201101025616  model_3  05.15.2138       15       1\n",
              "1    10000  20201101030309  model_3  05.15.2138       12       1\n",
              "2    10000  20201101030309  model_3  05.15.2138       11       1\n",
              "3    10000  20201101050514  model_3  05.15.2138       16       1\n",
              "4    10000  20201101050515  model_3  05.15.2138        4       0"
            ]
          },
          "metadata": {
            "tags": []
          }
        },
        {
          "output_type": "stream",
          "text": [
            "<< train_qual >>\n"
          ],
          "name": "stdout"
        },
        {
          "output_type": "display_data",
          "data": {
            "text/html": [
              "<div>\n",
              "<style scoped>\n",
              "    .dataframe tbody tr th:only-of-type {\n",
              "        vertical-align: middle;\n",
              "    }\n",
              "\n",
              "    .dataframe tbody tr th {\n",
              "        vertical-align: top;\n",
              "    }\n",
              "\n",
              "    .dataframe thead th {\n",
              "        text-align: right;\n",
              "    }\n",
              "</style>\n",
              "<table border=\"1\" class=\"dataframe\">\n",
              "  <thead>\n",
              "    <tr style=\"text-align: right;\">\n",
              "      <th></th>\n",
              "      <th>time</th>\n",
              "      <th>user_id</th>\n",
              "      <th>fwver</th>\n",
              "      <th>quality_0</th>\n",
              "      <th>quality_1</th>\n",
              "      <th>quality_2</th>\n",
              "      <th>quality_3</th>\n",
              "      <th>quality_4</th>\n",
              "      <th>quality_5</th>\n",
              "      <th>quality_6</th>\n",
              "      <th>quality_7</th>\n",
              "      <th>quality_8</th>\n",
              "      <th>quality_9</th>\n",
              "      <th>quality_10</th>\n",
              "      <th>quality_11</th>\n",
              "      <th>quality_12</th>\n",
              "    </tr>\n",
              "  </thead>\n",
              "  <tbody>\n",
              "    <tr>\n",
              "      <th>0</th>\n",
              "      <td>20201129090000</td>\n",
              "      <td>10000</td>\n",
              "      <td>05.15.2138</td>\n",
              "      <td>0</td>\n",
              "      <td>0</td>\n",
              "      <td>0</td>\n",
              "      <td>0</td>\n",
              "      <td>0</td>\n",
              "      <td>0</td>\n",
              "      <td>0</td>\n",
              "      <td>0</td>\n",
              "      <td>0</td>\n",
              "      <td>0</td>\n",
              "      <td>4</td>\n",
              "      <td>0</td>\n",
              "      <td>0</td>\n",
              "    </tr>\n",
              "    <tr>\n",
              "      <th>1</th>\n",
              "      <td>20201129090000</td>\n",
              "      <td>10000</td>\n",
              "      <td>05.15.2138</td>\n",
              "      <td>0</td>\n",
              "      <td>0</td>\n",
              "      <td>0</td>\n",
              "      <td>0</td>\n",
              "      <td>0</td>\n",
              "      <td>0</td>\n",
              "      <td>0</td>\n",
              "      <td>0</td>\n",
              "      <td>0</td>\n",
              "      <td>0</td>\n",
              "      <td>4</td>\n",
              "      <td>0</td>\n",
              "      <td>0</td>\n",
              "    </tr>\n",
              "    <tr>\n",
              "      <th>2</th>\n",
              "      <td>20201129090000</td>\n",
              "      <td>10000</td>\n",
              "      <td>05.15.2138</td>\n",
              "      <td>0</td>\n",
              "      <td>0</td>\n",
              "      <td>0</td>\n",
              "      <td>0</td>\n",
              "      <td>0</td>\n",
              "      <td>0</td>\n",
              "      <td>0</td>\n",
              "      <td>0</td>\n",
              "      <td>0</td>\n",
              "      <td>0</td>\n",
              "      <td>4</td>\n",
              "      <td>0</td>\n",
              "      <td>0</td>\n",
              "    </tr>\n",
              "    <tr>\n",
              "      <th>3</th>\n",
              "      <td>20201129090000</td>\n",
              "      <td>10000</td>\n",
              "      <td>05.15.2138</td>\n",
              "      <td>0</td>\n",
              "      <td>0</td>\n",
              "      <td>0</td>\n",
              "      <td>0</td>\n",
              "      <td>0</td>\n",
              "      <td>0</td>\n",
              "      <td>0</td>\n",
              "      <td>0</td>\n",
              "      <td>0</td>\n",
              "      <td>0</td>\n",
              "      <td>4</td>\n",
              "      <td>0</td>\n",
              "      <td>0</td>\n",
              "    </tr>\n",
              "    <tr>\n",
              "      <th>4</th>\n",
              "      <td>20201129090000</td>\n",
              "      <td>10000</td>\n",
              "      <td>05.15.2138</td>\n",
              "      <td>0</td>\n",
              "      <td>0</td>\n",
              "      <td>0</td>\n",
              "      <td>0</td>\n",
              "      <td>0</td>\n",
              "      <td>0</td>\n",
              "      <td>0</td>\n",
              "      <td>0</td>\n",
              "      <td>0</td>\n",
              "      <td>0</td>\n",
              "      <td>4</td>\n",
              "      <td>0</td>\n",
              "      <td>0</td>\n",
              "    </tr>\n",
              "  </tbody>\n",
              "</table>\n",
              "</div>"
            ],
            "text/plain": [
              "             time  user_id       fwver  ...  quality_10  quality_11  quality_12\n",
              "0  20201129090000    10000  05.15.2138  ...           4           0           0\n",
              "1  20201129090000    10000  05.15.2138  ...           4           0           0\n",
              "2  20201129090000    10000  05.15.2138  ...           4           0           0\n",
              "3  20201129090000    10000  05.15.2138  ...           4           0           0\n",
              "4  20201129090000    10000  05.15.2138  ...           4           0           0\n",
              "\n",
              "[5 rows x 16 columns]"
            ]
          },
          "metadata": {
            "tags": []
          }
        },
        {
          "output_type": "stream",
          "text": [
            "<< train_prob >>\n"
          ],
          "name": "stdout"
        },
        {
          "output_type": "display_data",
          "data": {
            "text/html": [
              "<div>\n",
              "<style scoped>\n",
              "    .dataframe tbody tr th:only-of-type {\n",
              "        vertical-align: middle;\n",
              "    }\n",
              "\n",
              "    .dataframe tbody tr th {\n",
              "        vertical-align: top;\n",
              "    }\n",
              "\n",
              "    .dataframe thead th {\n",
              "        text-align: right;\n",
              "    }\n",
              "</style>\n",
              "<table border=\"1\" class=\"dataframe\">\n",
              "  <thead>\n",
              "    <tr style=\"text-align: right;\">\n",
              "      <th></th>\n",
              "      <th>user_id</th>\n",
              "      <th>time</th>\n",
              "    </tr>\n",
              "  </thead>\n",
              "  <tbody>\n",
              "    <tr>\n",
              "      <th>0</th>\n",
              "      <td>19224</td>\n",
              "      <td>20201102200000</td>\n",
              "    </tr>\n",
              "    <tr>\n",
              "      <th>1</th>\n",
              "      <td>23664</td>\n",
              "      <td>20201116140000</td>\n",
              "    </tr>\n",
              "    <tr>\n",
              "      <th>2</th>\n",
              "      <td>15166</td>\n",
              "      <td>20201114130000</td>\n",
              "    </tr>\n",
              "    <tr>\n",
              "      <th>3</th>\n",
              "      <td>12590</td>\n",
              "      <td>20201108210000</td>\n",
              "    </tr>\n",
              "    <tr>\n",
              "      <th>4</th>\n",
              "      <td>15932</td>\n",
              "      <td>20201103210000</td>\n",
              "    </tr>\n",
              "  </tbody>\n",
              "</table>\n",
              "</div>"
            ],
            "text/plain": [
              "   user_id            time\n",
              "0    19224  20201102200000\n",
              "1    23664  20201116140000\n",
              "2    15166  20201114130000\n",
              "3    12590  20201108210000\n",
              "4    15932  20201103210000"
            ]
          },
          "metadata": {
            "tags": []
          }
        },
        {
          "output_type": "stream",
          "text": [
            "<< test_err >>\n"
          ],
          "name": "stdout"
        },
        {
          "output_type": "display_data",
          "data": {
            "text/html": [
              "<div>\n",
              "<style scoped>\n",
              "    .dataframe tbody tr th:only-of-type {\n",
              "        vertical-align: middle;\n",
              "    }\n",
              "\n",
              "    .dataframe tbody tr th {\n",
              "        vertical-align: top;\n",
              "    }\n",
              "\n",
              "    .dataframe thead th {\n",
              "        text-align: right;\n",
              "    }\n",
              "</style>\n",
              "<table border=\"1\" class=\"dataframe\">\n",
              "  <thead>\n",
              "    <tr style=\"text-align: right;\">\n",
              "      <th></th>\n",
              "      <th>user_id</th>\n",
              "      <th>time</th>\n",
              "      <th>model_nm</th>\n",
              "      <th>fwver</th>\n",
              "      <th>errtype</th>\n",
              "      <th>errcode</th>\n",
              "    </tr>\n",
              "  </thead>\n",
              "  <tbody>\n",
              "    <tr>\n",
              "      <th>0</th>\n",
              "      <td>30000</td>\n",
              "      <td>20201101030227</td>\n",
              "      <td>model_1</td>\n",
              "      <td>04.16.3553</td>\n",
              "      <td>31</td>\n",
              "      <td>1</td>\n",
              "    </tr>\n",
              "    <tr>\n",
              "      <th>1</th>\n",
              "      <td>30000</td>\n",
              "      <td>20201101030227</td>\n",
              "      <td>model_1</td>\n",
              "      <td>04.16.3553</td>\n",
              "      <td>33</td>\n",
              "      <td>2</td>\n",
              "    </tr>\n",
              "    <tr>\n",
              "      <th>2</th>\n",
              "      <td>30000</td>\n",
              "      <td>20201101030228</td>\n",
              "      <td>model_1</td>\n",
              "      <td>04.16.3553</td>\n",
              "      <td>15</td>\n",
              "      <td>1</td>\n",
              "    </tr>\n",
              "    <tr>\n",
              "      <th>3</th>\n",
              "      <td>30000</td>\n",
              "      <td>20201101030256</td>\n",
              "      <td>model_1</td>\n",
              "      <td>04.16.3553</td>\n",
              "      <td>22</td>\n",
              "      <td>1</td>\n",
              "    </tr>\n",
              "    <tr>\n",
              "      <th>4</th>\n",
              "      <td>30000</td>\n",
              "      <td>20201101030300</td>\n",
              "      <td>model_1</td>\n",
              "      <td>04.16.3553</td>\n",
              "      <td>11</td>\n",
              "      <td>1</td>\n",
              "    </tr>\n",
              "  </tbody>\n",
              "</table>\n",
              "</div>"
            ],
            "text/plain": [
              "   user_id            time model_nm       fwver  errtype errcode\n",
              "0    30000  20201101030227  model_1  04.16.3553       31       1\n",
              "1    30000  20201101030227  model_1  04.16.3553       33       2\n",
              "2    30000  20201101030228  model_1  04.16.3553       15       1\n",
              "3    30000  20201101030256  model_1  04.16.3553       22       1\n",
              "4    30000  20201101030300  model_1  04.16.3553       11       1"
            ]
          },
          "metadata": {
            "tags": []
          }
        },
        {
          "output_type": "stream",
          "text": [
            "<< test_qual >>\n"
          ],
          "name": "stdout"
        },
        {
          "output_type": "display_data",
          "data": {
            "text/html": [
              "<div>\n",
              "<style scoped>\n",
              "    .dataframe tbody tr th:only-of-type {\n",
              "        vertical-align: middle;\n",
              "    }\n",
              "\n",
              "    .dataframe tbody tr th {\n",
              "        vertical-align: top;\n",
              "    }\n",
              "\n",
              "    .dataframe thead th {\n",
              "        text-align: right;\n",
              "    }\n",
              "</style>\n",
              "<table border=\"1\" class=\"dataframe\">\n",
              "  <thead>\n",
              "    <tr style=\"text-align: right;\">\n",
              "      <th></th>\n",
              "      <th>time</th>\n",
              "      <th>user_id</th>\n",
              "      <th>fwver</th>\n",
              "      <th>quality_0</th>\n",
              "      <th>quality_1</th>\n",
              "      <th>quality_2</th>\n",
              "      <th>quality_3</th>\n",
              "      <th>quality_4</th>\n",
              "      <th>quality_5</th>\n",
              "      <th>quality_6</th>\n",
              "      <th>quality_7</th>\n",
              "      <th>quality_8</th>\n",
              "      <th>quality_9</th>\n",
              "      <th>quality_10</th>\n",
              "      <th>quality_11</th>\n",
              "      <th>quality_12</th>\n",
              "    </tr>\n",
              "  </thead>\n",
              "  <tbody>\n",
              "    <tr>\n",
              "      <th>0</th>\n",
              "      <td>20201128195000</td>\n",
              "      <td>30000</td>\n",
              "      <td>04.33.1261</td>\n",
              "      <td>0</td>\n",
              "      <td>0</td>\n",
              "      <td>0</td>\n",
              "      <td>0</td>\n",
              "      <td>0</td>\n",
              "      <td>0</td>\n",
              "      <td>0</td>\n",
              "      <td>5</td>\n",
              "      <td>0</td>\n",
              "      <td>0</td>\n",
              "      <td>2</td>\n",
              "      <td>0</td>\n",
              "      <td>0</td>\n",
              "    </tr>\n",
              "    <tr>\n",
              "      <th>1</th>\n",
              "      <td>20201128195000</td>\n",
              "      <td>30000</td>\n",
              "      <td>04.33.1261</td>\n",
              "      <td>0</td>\n",
              "      <td>0</td>\n",
              "      <td>0</td>\n",
              "      <td>0</td>\n",
              "      <td>0</td>\n",
              "      <td>0</td>\n",
              "      <td>0</td>\n",
              "      <td>5</td>\n",
              "      <td>0</td>\n",
              "      <td>0</td>\n",
              "      <td>2</td>\n",
              "      <td>0</td>\n",
              "      <td>0</td>\n",
              "    </tr>\n",
              "    <tr>\n",
              "      <th>2</th>\n",
              "      <td>20201128195000</td>\n",
              "      <td>30000</td>\n",
              "      <td>04.33.1261</td>\n",
              "      <td>0</td>\n",
              "      <td>0</td>\n",
              "      <td>0</td>\n",
              "      <td>0</td>\n",
              "      <td>0</td>\n",
              "      <td>0</td>\n",
              "      <td>0</td>\n",
              "      <td>5</td>\n",
              "      <td>0</td>\n",
              "      <td>0</td>\n",
              "      <td>2</td>\n",
              "      <td>0</td>\n",
              "      <td>0</td>\n",
              "    </tr>\n",
              "    <tr>\n",
              "      <th>3</th>\n",
              "      <td>20201128195000</td>\n",
              "      <td>30000</td>\n",
              "      <td>04.33.1261</td>\n",
              "      <td>0</td>\n",
              "      <td>0</td>\n",
              "      <td>0</td>\n",
              "      <td>0</td>\n",
              "      <td>0</td>\n",
              "      <td>0</td>\n",
              "      <td>0</td>\n",
              "      <td>5</td>\n",
              "      <td>0</td>\n",
              "      <td>0</td>\n",
              "      <td>2</td>\n",
              "      <td>0</td>\n",
              "      <td>0</td>\n",
              "    </tr>\n",
              "    <tr>\n",
              "      <th>4</th>\n",
              "      <td>20201128195000</td>\n",
              "      <td>30000</td>\n",
              "      <td>04.33.1261</td>\n",
              "      <td>0</td>\n",
              "      <td>0</td>\n",
              "      <td>0</td>\n",
              "      <td>0</td>\n",
              "      <td>0</td>\n",
              "      <td>0</td>\n",
              "      <td>0</td>\n",
              "      <td>5</td>\n",
              "      <td>0</td>\n",
              "      <td>0</td>\n",
              "      <td>2</td>\n",
              "      <td>0</td>\n",
              "      <td>0</td>\n",
              "    </tr>\n",
              "  </tbody>\n",
              "</table>\n",
              "</div>"
            ],
            "text/plain": [
              "             time  user_id       fwver  ...  quality_10 quality_11  quality_12\n",
              "0  20201128195000    30000  04.33.1261  ...           2          0           0\n",
              "1  20201128195000    30000  04.33.1261  ...           2          0           0\n",
              "2  20201128195000    30000  04.33.1261  ...           2          0           0\n",
              "3  20201128195000    30000  04.33.1261  ...           2          0           0\n",
              "4  20201128195000    30000  04.33.1261  ...           2          0           0\n",
              "\n",
              "[5 rows x 16 columns]"
            ]
          },
          "metadata": {
            "tags": []
          }
        }
      ]
    },
    {
      "cell_type": "markdown",
      "metadata": {
        "id": "qztQK5mPigFk"
      },
      "source": [
        "Check the types of data"
      ]
    },
    {
      "cell_type": "code",
      "metadata": {
        "colab": {
          "base_uri": "https://localhost:8080/",
          "height": 1000
        },
        "id": "tERAMLFrigUT",
        "outputId": "d18f5bc1-ac50-46aa-badb-d3062bacbc6d"
      },
      "source": [
        "for x in [train_err, train_qual, train_prob, test_err, test_qual]:\r\n",
        "  print( \"<<\", get_df_name(x), \">>\" )\r\n",
        "  display( x.info() )"
      ],
      "execution_count": 12,
      "outputs": [
        {
          "output_type": "stream",
          "text": [
            "<< train_err >>\n",
            "<class 'pandas.core.frame.DataFrame'>\n",
            "RangeIndex: 16554663 entries, 0 to 16554662\n",
            "Data columns (total 6 columns):\n",
            " #   Column    Dtype \n",
            "---  ------    ----- \n",
            " 0   user_id   int64 \n",
            " 1   time      int64 \n",
            " 2   model_nm  object\n",
            " 3   fwver     object\n",
            " 4   errtype   int64 \n",
            " 5   errcode   object\n",
            "dtypes: int64(3), object(3)\n",
            "memory usage: 757.8+ MB\n"
          ],
          "name": "stdout"
        },
        {
          "output_type": "display_data",
          "data": {
            "text/plain": [
              "None"
            ]
          },
          "metadata": {
            "tags": []
          }
        },
        {
          "output_type": "stream",
          "text": [
            "<< train_qual >>\n",
            "<class 'pandas.core.frame.DataFrame'>\n",
            "RangeIndex: 828624 entries, 0 to 828623\n",
            "Data columns (total 16 columns):\n",
            " #   Column      Non-Null Count   Dtype  \n",
            "---  ------      --------------   -----  \n",
            " 0   time        828624 non-null  int64  \n",
            " 1   user_id     828624 non-null  int64  \n",
            " 2   fwver       788544 non-null  object \n",
            " 3   quality_0   684192 non-null  float64\n",
            " 4   quality_1   828624 non-null  int64  \n",
            " 5   quality_2   788511 non-null  float64\n",
            " 6   quality_3   828624 non-null  int64  \n",
            " 7   quality_4   828624 non-null  int64  \n",
            " 8   quality_5   828604 non-null  object \n",
            " 9   quality_6   828624 non-null  int64  \n",
            " 10  quality_7   828624 non-null  object \n",
            " 11  quality_8   828624 non-null  object \n",
            " 12  quality_9   828624 non-null  object \n",
            " 13  quality_10  828624 non-null  object \n",
            " 14  quality_11  828624 non-null  int64  \n",
            " 15  quality_12  828624 non-null  int64  \n",
            "dtypes: float64(2), int64(8), object(6)\n",
            "memory usage: 101.2+ MB\n"
          ],
          "name": "stdout"
        },
        {
          "output_type": "display_data",
          "data": {
            "text/plain": [
              "None"
            ]
          },
          "metadata": {
            "tags": []
          }
        },
        {
          "output_type": "stream",
          "text": [
            "<< train_prob >>\n",
            "<class 'pandas.core.frame.DataFrame'>\n",
            "RangeIndex: 5429 entries, 0 to 5428\n",
            "Data columns (total 2 columns):\n",
            " #   Column   Non-Null Count  Dtype\n",
            "---  ------   --------------  -----\n",
            " 0   user_id  5429 non-null   int64\n",
            " 1   time     5429 non-null   int64\n",
            "dtypes: int64(2)\n",
            "memory usage: 85.0 KB\n"
          ],
          "name": "stdout"
        },
        {
          "output_type": "display_data",
          "data": {
            "text/plain": [
              "None"
            ]
          },
          "metadata": {
            "tags": []
          }
        },
        {
          "output_type": "stream",
          "text": [
            "<< test_err >>\n",
            "<class 'pandas.core.frame.DataFrame'>\n",
            "RangeIndex: 16532648 entries, 0 to 16532647\n",
            "Data columns (total 6 columns):\n",
            " #   Column    Dtype \n",
            "---  ------    ----- \n",
            " 0   user_id   int64 \n",
            " 1   time      int64 \n",
            " 2   model_nm  object\n",
            " 3   fwver     object\n",
            " 4   errtype   int64 \n",
            " 5   errcode   object\n",
            "dtypes: int64(3), object(3)\n",
            "memory usage: 756.8+ MB\n"
          ],
          "name": "stdout"
        },
        {
          "output_type": "display_data",
          "data": {
            "text/plain": [
              "None"
            ]
          },
          "metadata": {
            "tags": []
          }
        },
        {
          "output_type": "stream",
          "text": [
            "<< test_qual >>\n",
            "<class 'pandas.core.frame.DataFrame'>\n",
            "RangeIndex: 747972 entries, 0 to 747971\n",
            "Data columns (total 16 columns):\n",
            " #   Column      Non-Null Count   Dtype  \n",
            "---  ------      --------------   -----  \n",
            " 0   time        747972 non-null  int64  \n",
            " 1   user_id     747972 non-null  int64  \n",
            " 2   fwver       725208 non-null  object \n",
            " 3   quality_0   641388 non-null  float64\n",
            " 4   quality_1   747961 non-null  object \n",
            " 5   quality_2   726857 non-null  float64\n",
            " 6   quality_3   747972 non-null  int64  \n",
            " 7   quality_4   747972 non-null  int64  \n",
            " 8   quality_5   747928 non-null  object \n",
            " 9   quality_6   747972 non-null  int64  \n",
            " 10  quality_7   747972 non-null  object \n",
            " 11  quality_8   747972 non-null  object \n",
            " 12  quality_9   747972 non-null  object \n",
            " 13  quality_10  747972 non-null  object \n",
            " 14  quality_11  747972 non-null  int64  \n",
            " 15  quality_12  747972 non-null  int64  \n",
            "dtypes: float64(2), int64(7), object(7)\n",
            "memory usage: 91.3+ MB\n"
          ],
          "name": "stdout"
        },
        {
          "output_type": "display_data",
          "data": {
            "text/plain": [
              "None"
            ]
          },
          "metadata": {
            "tags": []
          }
        }
      ]
    },
    {
      "cell_type": "code",
      "metadata": {
        "colab": {
          "base_uri": "https://localhost:8080/"
        },
        "id": "4MRCqxGkGHEO",
        "outputId": "3c1b209f-daba-4a84-a2d3-6166955cd668"
      },
      "source": [
        "train_err[\"model_nm\"].value_counts()"
      ],
      "execution_count": 13,
      "outputs": [
        {
          "output_type": "execute_result",
          "data": {
            "text/plain": [
              "model_1    5384491\n",
              "model_0    4176279\n",
              "model_2    3473254\n",
              "model_3    1907438\n",
              "model_4    1507802\n",
              "model_8      36064\n",
              "model_7      35356\n",
              "model_5      32233\n",
              "model_6       1746\n",
              "Name: model_nm, dtype: int64"
            ]
          },
          "metadata": {
            "tags": []
          },
          "execution_count": 13
        }
      ]
    },
    {
      "cell_type": "code",
      "metadata": {
        "colab": {
          "base_uri": "https://localhost:8080/",
          "height": 601
        },
        "id": "PSStc7mOixd0",
        "outputId": "2319e336-3b3b-4776-9f25-0474326b6f2c"
      },
      "source": [
        "for x in [train_err, train_qual]:\r\n",
        "  print( \"<<\", get_df_name(x), \">>\" )\r\n",
        "  display( x.describe() )"
      ],
      "execution_count": 14,
      "outputs": [
        {
          "output_type": "stream",
          "text": [
            "<< train_err >>\n"
          ],
          "name": "stdout"
        },
        {
          "output_type": "display_data",
          "data": {
            "text/html": [
              "<div>\n",
              "<style scoped>\n",
              "    .dataframe tbody tr th:only-of-type {\n",
              "        vertical-align: middle;\n",
              "    }\n",
              "\n",
              "    .dataframe tbody tr th {\n",
              "        vertical-align: top;\n",
              "    }\n",
              "\n",
              "    .dataframe thead th {\n",
              "        text-align: right;\n",
              "    }\n",
              "</style>\n",
              "<table border=\"1\" class=\"dataframe\">\n",
              "  <thead>\n",
              "    <tr style=\"text-align: right;\">\n",
              "      <th></th>\n",
              "      <th>user_id</th>\n",
              "      <th>time</th>\n",
              "      <th>errtype</th>\n",
              "    </tr>\n",
              "  </thead>\n",
              "  <tbody>\n",
              "    <tr>\n",
              "      <th>count</th>\n",
              "      <td>16554663</td>\n",
              "      <td>16554663</td>\n",
              "      <td>16554663</td>\n",
              "    </tr>\n",
              "    <tr>\n",
              "      <th>mean</th>\n",
              "      <td>17585</td>\n",
              "      <td>20201115695081</td>\n",
              "      <td>21</td>\n",
              "    </tr>\n",
              "    <tr>\n",
              "      <th>std</th>\n",
              "      <td>4342</td>\n",
              "      <td>8664375</td>\n",
              "      <td>10</td>\n",
              "    </tr>\n",
              "    <tr>\n",
              "      <th>min</th>\n",
              "      <td>10000</td>\n",
              "      <td>20201031235959</td>\n",
              "      <td>1</td>\n",
              "    </tr>\n",
              "    <tr>\n",
              "      <th>25%</th>\n",
              "      <td>13925</td>\n",
              "      <td>20201108122625</td>\n",
              "      <td>15</td>\n",
              "    </tr>\n",
              "    <tr>\n",
              "      <th>50%</th>\n",
              "      <td>17485</td>\n",
              "      <td>20201116030018</td>\n",
              "      <td>23</td>\n",
              "    </tr>\n",
              "    <tr>\n",
              "      <th>75%</th>\n",
              "      <td>21227</td>\n",
              "      <td>20201123135610</td>\n",
              "      <td>31</td>\n",
              "    </tr>\n",
              "    <tr>\n",
              "      <th>max</th>\n",
              "      <td>24999</td>\n",
              "      <td>20201202185152</td>\n",
              "      <td>42</td>\n",
              "    </tr>\n",
              "  </tbody>\n",
              "</table>\n",
              "</div>"
            ],
            "text/plain": [
              "       user_id           time  errtype\n",
              "count 16554663       16554663 16554663\n",
              "mean     17585 20201115695081       21\n",
              "std       4342        8664375       10\n",
              "min      10000 20201031235959        1\n",
              "25%      13925 20201108122625       15\n",
              "50%      17485 20201116030018       23\n",
              "75%      21227 20201123135610       31\n",
              "max      24999 20201202185152       42"
            ]
          },
          "metadata": {
            "tags": []
          }
        },
        {
          "output_type": "stream",
          "text": [
            "<< train_qual >>\n"
          ],
          "name": "stdout"
        },
        {
          "output_type": "display_data",
          "data": {
            "text/html": [
              "<div>\n",
              "<style scoped>\n",
              "    .dataframe tbody tr th:only-of-type {\n",
              "        vertical-align: middle;\n",
              "    }\n",
              "\n",
              "    .dataframe tbody tr th {\n",
              "        vertical-align: top;\n",
              "    }\n",
              "\n",
              "    .dataframe thead th {\n",
              "        text-align: right;\n",
              "    }\n",
              "</style>\n",
              "<table border=\"1\" class=\"dataframe\">\n",
              "  <thead>\n",
              "    <tr style=\"text-align: right;\">\n",
              "      <th></th>\n",
              "      <th>time</th>\n",
              "      <th>user_id</th>\n",
              "      <th>quality_0</th>\n",
              "      <th>quality_1</th>\n",
              "      <th>quality_2</th>\n",
              "      <th>quality_3</th>\n",
              "      <th>quality_4</th>\n",
              "      <th>quality_6</th>\n",
              "      <th>quality_11</th>\n",
              "      <th>quality_12</th>\n",
              "    </tr>\n",
              "  </thead>\n",
              "  <tbody>\n",
              "    <tr>\n",
              "      <th>count</th>\n",
              "      <td>828624</td>\n",
              "      <td>828624</td>\n",
              "      <td>684192</td>\n",
              "      <td>828624</td>\n",
              "      <td>788511</td>\n",
              "      <td>828624</td>\n",
              "      <td>828624</td>\n",
              "      <td>828624</td>\n",
              "      <td>828624</td>\n",
              "      <td>828624</td>\n",
              "    </tr>\n",
              "    <tr>\n",
              "      <th>mean</th>\n",
              "      <td>20201115421121</td>\n",
              "      <td>17575</td>\n",
              "      <td>4</td>\n",
              "      <td>-0</td>\n",
              "      <td>5</td>\n",
              "      <td>0</td>\n",
              "      <td>0</td>\n",
              "      <td>2</td>\n",
              "      <td>-0</td>\n",
              "      <td>0</td>\n",
              "    </tr>\n",
              "    <tr>\n",
              "      <th>std</th>\n",
              "      <td>8863638</td>\n",
              "      <td>4374</td>\n",
              "      <td>479</td>\n",
              "      <td>1</td>\n",
              "      <td>586</td>\n",
              "      <td>0</td>\n",
              "      <td>0</td>\n",
              "      <td>33</td>\n",
              "      <td>0</td>\n",
              "      <td>0</td>\n",
              "    </tr>\n",
              "    <tr>\n",
              "      <th>min</th>\n",
              "      <td>20201031235000</td>\n",
              "      <td>10000</td>\n",
              "      <td>-1</td>\n",
              "      <td>-1</td>\n",
              "      <td>-1</td>\n",
              "      <td>0</td>\n",
              "      <td>0</td>\n",
              "      <td>-1</td>\n",
              "      <td>-1</td>\n",
              "      <td>0</td>\n",
              "    </tr>\n",
              "    <tr>\n",
              "      <th>25%</th>\n",
              "      <td>20201108102750</td>\n",
              "      <td>13685</td>\n",
              "      <td>0</td>\n",
              "      <td>0</td>\n",
              "      <td>0</td>\n",
              "      <td>0</td>\n",
              "      <td>0</td>\n",
              "      <td>0</td>\n",
              "      <td>0</td>\n",
              "      <td>0</td>\n",
              "    </tr>\n",
              "    <tr>\n",
              "      <th>50%</th>\n",
              "      <td>20201115182500</td>\n",
              "      <td>17597</td>\n",
              "      <td>0</td>\n",
              "      <td>0</td>\n",
              "      <td>0</td>\n",
              "      <td>0</td>\n",
              "      <td>0</td>\n",
              "      <td>0</td>\n",
              "      <td>0</td>\n",
              "      <td>0</td>\n",
              "    </tr>\n",
              "    <tr>\n",
              "      <th>75%</th>\n",
              "      <td>20201123131000</td>\n",
              "      <td>21423</td>\n",
              "      <td>0</td>\n",
              "      <td>0</td>\n",
              "      <td>0</td>\n",
              "      <td>0</td>\n",
              "      <td>0</td>\n",
              "      <td>0</td>\n",
              "      <td>0</td>\n",
              "      <td>0</td>\n",
              "    </tr>\n",
              "    <tr>\n",
              "      <th>max</th>\n",
              "      <td>20201130234000</td>\n",
              "      <td>24997</td>\n",
              "      <td>157667</td>\n",
              "      <td>171</td>\n",
              "      <td>191859</td>\n",
              "      <td>0</td>\n",
              "      <td>0</td>\n",
              "      <td>600</td>\n",
              "      <td>14</td>\n",
              "      <td>14</td>\n",
              "    </tr>\n",
              "  </tbody>\n",
              "</table>\n",
              "</div>"
            ],
            "text/plain": [
              "                time  user_id  quality_0  ...  quality_6  quality_11  quality_12\n",
              "count         828624   828624     684192  ...     828624      828624      828624\n",
              "mean  20201115421121    17575          4  ...          2          -0           0\n",
              "std          8863638     4374        479  ...         33           0           0\n",
              "min   20201031235000    10000         -1  ...         -1          -1           0\n",
              "25%   20201108102750    13685          0  ...          0           0           0\n",
              "50%   20201115182500    17597          0  ...          0           0           0\n",
              "75%   20201123131000    21423          0  ...          0           0           0\n",
              "max   20201130234000    24997     157667  ...        600          14          14\n",
              "\n",
              "[8 rows x 10 columns]"
            ]
          },
          "metadata": {
            "tags": []
          }
        }
      ]
    },
    {
      "cell_type": "markdown",
      "metadata": {
        "id": "ES7HmDhMirzS"
      },
      "source": [
        "Check whether there exist any missing values"
      ]
    },
    {
      "cell_type": "markdown",
      "metadata": {
        "id": "hSpcfBRZi1zk"
      },
      "source": [
        "Check the null values by column_wise"
      ]
    },
    {
      "cell_type": "code",
      "metadata": {
        "colab": {
          "base_uri": "https://localhost:8080/",
          "height": 479
        },
        "id": "XFM_b8nji2Dn",
        "outputId": "d9846077-8a89-44df-94e8-73b0af1eeb39"
      },
      "source": [
        "for x in [train_err, train_qual]:\r\n",
        "  print( \"<<\", get_df_name(x), \">>\" )\r\n",
        "  display( x.isnull().sum() )"
      ],
      "execution_count": 15,
      "outputs": [
        {
          "output_type": "stream",
          "text": [
            "<< train_err >>\n"
          ],
          "name": "stdout"
        },
        {
          "output_type": "display_data",
          "data": {
            "text/plain": [
              "user_id     0\n",
              "time        0\n",
              "model_nm    0\n",
              "fwver       0\n",
              "errtype     0\n",
              "errcode     1\n",
              "dtype: int64"
            ]
          },
          "metadata": {
            "tags": []
          }
        },
        {
          "output_type": "stream",
          "text": [
            "<< train_qual >>\n"
          ],
          "name": "stdout"
        },
        {
          "output_type": "display_data",
          "data": {
            "text/plain": [
              "time               0\n",
              "user_id            0\n",
              "fwver          40080\n",
              "quality_0     144432\n",
              "quality_1          0\n",
              "quality_2      40113\n",
              "quality_3          0\n",
              "quality_4          0\n",
              "quality_5         20\n",
              "quality_6          0\n",
              "quality_7          0\n",
              "quality_8          0\n",
              "quality_9          0\n",
              "quality_10         0\n",
              "quality_11         0\n",
              "quality_12         0\n",
              "dtype: int64"
            ]
          },
          "metadata": {
            "tags": []
          }
        }
      ]
    },
    {
      "cell_type": "markdown",
      "metadata": {
        "id": "sLBcIAq9i6ZF"
      },
      "source": [
        "Check the null values by row_wise"
      ]
    },
    {
      "cell_type": "code",
      "metadata": {
        "colab": {
          "base_uri": "https://localhost:8080/"
        },
        "id": "7UdK9t6ei6Hm",
        "outputId": "3f740032-161b-4a3e-cce3-02eff8c72f73"
      },
      "source": [
        "train_qual.isnull().sum(axis=1).sort_values(ascending=False)"
      ],
      "execution_count": 16,
      "outputs": [
        {
          "output_type": "execute_result",
          "data": {
            "text/plain": [
              "737513    3\n",
              "531421    3\n",
              "531423    3\n",
              "531424    3\n",
              "531425    3\n",
              "         ..\n",
              "523650    0\n",
              "523649    0\n",
              "523648    0\n",
              "523647    0\n",
              "0         0\n",
              "Length: 828624, dtype: int64"
            ]
          },
          "metadata": {
            "tags": []
          },
          "execution_count": 16
        }
      ]
    },
    {
      "cell_type": "markdown",
      "metadata": {
        "id": "sCFcwV9gGPSM"
      },
      "source": [
        "### Missing Values"
      ]
    },
    {
      "cell_type": "code",
      "metadata": {
        "colab": {
          "base_uri": "https://localhost:8080/",
          "height": 463
        },
        "id": "5nke9L2BGRjE",
        "outputId": "2033d99f-1c3a-4928-8713-b85baf25d389"
      },
      "source": [
        "msno.matrix(train_qual)"
      ],
      "execution_count": 17,
      "outputs": [
        {
          "output_type": "execute_result",
          "data": {
            "text/plain": [
              "<matplotlib.axes._subplots.AxesSubplot at 0x7f0006aa1390>"
            ]
          },
          "metadata": {
            "tags": []
          },
          "execution_count": 17
        },
        {
          "output_type": "display_data",
          "data": {
            "image/png": "[encoded data removed]",
            "text/plain": [
              "<Figure size 1800x720 with 2 Axes>"
            ]
          },
          "metadata": {
            "tags": [],
            "needs_background": "light"
          }
        }
      ]
    },
    {
      "cell_type": "code",
      "metadata": {
        "colab": {
          "base_uri": "https://localhost:8080/",
          "height": 283
        },
        "id": "qbEuSZVTGkCn",
        "outputId": "f2a6a42a-678b-40b7-b5bd-49bea122ae34"
      },
      "source": [
        "train_qual[\"quality_0\"].hist()"
      ],
      "execution_count": 18,
      "outputs": [
        {
          "output_type": "execute_result",
          "data": {
            "text/plain": [
              "<matplotlib.axes._subplots.AxesSubplot at 0x7efffe1e9c88>"
            ]
          },
          "metadata": {
            "tags": []
          },
          "execution_count": 18
        },
        {
          "output_type": "display_data",
          "data": {
            "image/png": "[encoded data removed]",
            "text/plain": [
              "<Figure size 432x288 with 1 Axes>"
            ]
          },
          "metadata": {
            "tags": [],
            "needs_background": "light"
          }
        }
      ]
    },
    {
      "cell_type": "code",
      "metadata": {
        "colab": {
          "base_uri": "https://localhost:8080/"
        },
        "id": "oJ-Mq3N8GlGd",
        "outputId": "0bc6576e-8789-4655-c57e-977bc21f59d8"
      },
      "source": [
        "train_qual[\"quality_0\"][ train_qual[\"quality_0\"] < 150000 ].describe()"
      ],
      "execution_count": 19,
      "outputs": [
        {
          "output_type": "execute_result",
          "data": {
            "text/plain": [
              "count   684191\n",
              "mean         4\n",
              "std        440\n",
              "min         -1\n",
              "25%          0\n",
              "50%          0\n",
              "75%          0\n",
              "max     134235\n",
              "Name: quality_0, dtype: float64"
            ]
          },
          "metadata": {
            "tags": []
          },
          "execution_count": 19
        }
      ]
    },
    {
      "cell_type": "code",
      "metadata": {
        "id": "rNI3Fv1sGtab",
        "colab": {
          "base_uri": "https://localhost:8080/"
        },
        "outputId": "a689a4dc-cc5a-4aef-8248-08bca607ae66"
      },
      "source": [
        "train_qual[\"quality_0\"].value_counts()"
      ],
      "execution_count": 21,
      "outputs": [
        {
          "output_type": "execute_result",
          "data": {
            "text/plain": [
              "0       542790\n",
              "-1      130828\n",
              "1         2097\n",
              "2         1252\n",
              "3          518\n",
              "         ...  \n",
              "957          1\n",
              "3835         1\n",
              "959          1\n",
              "3837         1\n",
              "2039         1\n",
              "Name: quality_0, Length: 753, dtype: int64"
            ]
          },
          "metadata": {
            "tags": []
          },
          "execution_count": 21
        }
      ]
    },
    {
      "cell_type": "markdown",
      "metadata": {
        "id": "XjhM0f5YGywD"
      },
      "source": [
        "## train_err, test_err\r\n"
      ]
    },
    {
      "cell_type": "code",
      "metadata": {
        "colab": {
          "base_uri": "https://localhost:8080/",
          "height": 159
        },
        "id": "PCycW2KSGzB7",
        "outputId": "15713006-1709-4763-c3f8-75be3722c50c"
      },
      "source": [
        "display( \"train_err[user_id]\", train_err[\"user_id\"].agg([\"min\", \"max\"]) )\r\n",
        "display( \"test_err[user_id]\", test_err[\"user_id\"].agg([\"min\", \"max\"]) )"
      ],
      "execution_count": 22,
      "outputs": [
        {
          "output_type": "display_data",
          "data": {
            "application/vnd.google.colaboratory.intrinsic+json": {
              "type": "string"
            },
            "text/plain": [
              "'train_err[user_id]'"
            ]
          },
          "metadata": {
            "tags": []
          }
        },
        {
          "output_type": "display_data",
          "data": {
            "text/plain": [
              "min    10000\n",
              "max    24999\n",
              "Name: user_id, dtype: int64"
            ]
          },
          "metadata": {
            "tags": []
          }
        },
        {
          "output_type": "display_data",
          "data": {
            "application/vnd.google.colaboratory.intrinsic+json": {
              "type": "string"
            },
            "text/plain": [
              "'test_err[user_id]'"
            ]
          },
          "metadata": {
            "tags": []
          }
        },
        {
          "output_type": "display_data",
          "data": {
            "text/plain": [
              "min    30000\n",
              "max    44998\n",
              "Name: user_id, dtype: int64"
            ]
          },
          "metadata": {
            "tags": []
          }
        }
      ]
    },
    {
      "cell_type": "code",
      "metadata": {
        "colab": {
          "base_uri": "https://localhost:8080/",
          "height": 159
        },
        "id": "YxPe3BbGG5H9",
        "outputId": "3cc7e42d-515b-412d-ef2e-82e2a240b18b"
      },
      "source": [
        "display( \"train_err[time]\", train_err[\"time\"].agg([\"min\", \"max\"]) )\r\n",
        "display( \"test_err[time]\", test_err[\"time\"].agg([\"min\", \"max\"]) )"
      ],
      "execution_count": 23,
      "outputs": [
        {
          "output_type": "display_data",
          "data": {
            "application/vnd.google.colaboratory.intrinsic+json": {
              "type": "string"
            },
            "text/plain": [
              "'train_err[time]'"
            ]
          },
          "metadata": {
            "tags": []
          }
        },
        {
          "output_type": "display_data",
          "data": {
            "text/plain": [
              "min    20201031235959\n",
              "max    20201202185152\n",
              "Name: time, dtype: int64"
            ]
          },
          "metadata": {
            "tags": []
          }
        },
        {
          "output_type": "display_data",
          "data": {
            "application/vnd.google.colaboratory.intrinsic+json": {
              "type": "string"
            },
            "text/plain": [
              "'test_err[time]'"
            ]
          },
          "metadata": {
            "tags": []
          }
        },
        {
          "output_type": "display_data",
          "data": {
            "text/plain": [
              "min    20201031235959\n",
              "max    20201214120118\n",
              "Name: time, dtype: int64"
            ]
          },
          "metadata": {
            "tags": []
          }
        }
      ]
    },
    {
      "cell_type": "code",
      "metadata": {
        "colab": {
          "base_uri": "https://localhost:8080/",
          "height": 159
        },
        "id": "vuMpjCy6G53I",
        "outputId": "f842bfdd-ac1f-4a4e-ed13-1da47b3d1995"
      },
      "source": [
        "display( \"train_err[errtype]\", train_err[\"errtype\"].agg([\"min\", \"max\"]) )\r\n",
        "display( \"test_err[errtype]\", test_err[\"errtype\"].agg([\"min\", \"max\"]) )"
      ],
      "execution_count": 24,
      "outputs": [
        {
          "output_type": "display_data",
          "data": {
            "application/vnd.google.colaboratory.intrinsic+json": {
              "type": "string"
            },
            "text/plain": [
              "'train_err[errtype]'"
            ]
          },
          "metadata": {
            "tags": []
          }
        },
        {
          "output_type": "display_data",
          "data": {
            "text/plain": [
              "min     1\n",
              "max    42\n",
              "Name: errtype, dtype: int64"
            ]
          },
          "metadata": {
            "tags": []
          }
        },
        {
          "output_type": "display_data",
          "data": {
            "application/vnd.google.colaboratory.intrinsic+json": {
              "type": "string"
            },
            "text/plain": [
              "'test_err[errtype]'"
            ]
          },
          "metadata": {
            "tags": []
          }
        },
        {
          "output_type": "display_data",
          "data": {
            "text/plain": [
              "min     1\n",
              "max    42\n",
              "Name: errtype, dtype: int64"
            ]
          },
          "metadata": {
            "tags": []
          }
        }
      ]
    },
    {
      "cell_type": "markdown",
      "metadata": {
        "id": "8mQyJr4FUWmq"
      },
      "source": [
        "## train_qual, test_qual\r\n"
      ]
    },
    {
      "cell_type": "markdown",
      "metadata": {
        "id": "RVhuXB4dYDsM"
      },
      "source": [
        "#### quality_0 ~ quality_12"
      ]
    },
    {
      "cell_type": "code",
      "metadata": {
        "colab": {
          "base_uri": "https://localhost:8080/",
          "height": 329
        },
        "id": "0Hhxn4mxJgxw",
        "outputId": "3ad9acd7-eece-40ef-a18e-ec5ce2225126"
      },
      "source": [
        "quality_comma = []\r\n",
        "for j in [\"quality_\" + str(j) for j in range(0, 13)]:\r\n",
        "        if (train_qual[j].map(lambda x: len(re.findall(\",\", str(x))) > 0).sum()):\r\n",
        "            display(j, train_qual[j].str.contains(\",\").sum())\r\n",
        "            quality_comma.append(j)\r\n",
        "\r\n",
        "for j in quality_comma:\r\n",
        "        idx_comma = train_qual[j].str.contains(\",\", na=False)\r\n",
        "        train_qual[j][ idx_comma ] = train_qual[j][ idx_comma ].map(lambda x: str(x).split(\",\")[0])\r\n",
        "\r\n",
        "for j in train_qual.filter(regex=\"quality\").columns:\r\n",
        "        train_qual[j] = train_qual[j].astype(float)\r\n",
        "\r\n",
        "\"\"\"## Correlation between quality scores\"\"\"\r\n",
        "\r\n",
        "eda_qual_corr = train_qual.filter(regex=\"quality_[0-9]+\").corr(method = \"spearman\")\r\n",
        "sns.heatmap(eda_qual_corr, cmap=\"coolwarm\", square=True, center=0)"
      ],
      "execution_count": 39,
      "outputs": [
        {
          "output_type": "execute_result",
          "data": {
            "text/plain": [
              "<matplotlib.axes._subplots.AxesSubplot at 0x7fc677e6a080>"
            ]
          },
          "metadata": {
            "tags": []
          },
          "execution_count": 39
        },
        {
          "output_type": "display_data",
          "data": {
            "image/png": "[encoded data removed]",
            "text/plain": [
              "<Figure size 432x288 with 2 Axes>"
            ]
          },
          "metadata": {
            "tags": [],
            "needs_background": "light"
          }
        }
      ]
    },
    {
      "cell_type": "code",
      "metadata": {
        "colab": {
          "base_uri": "https://localhost:8080/",
          "height": 542
        },
        "id": "JlzQVbacXLBu",
        "outputId": "caa1c164-6089-424b-cfa3-fde850d65f1d"
      },
      "source": [
        "quality_comma = []\r\n",
        "for j in [\"quality_\" + str(j) for j in range(0, 13)]:\r\n",
        "        if (test_qual[j].map(lambda x: len(re.findall(\",\", str(x))) > 0).sum()):\r\n",
        "            display(j, test_qual[j].str.contains(\",\").sum())\r\n",
        "            quality_comma.append(j)\r\n",
        "\r\n",
        "for j in quality_comma:\r\n",
        "        idx_comma = test_qual[j].str.contains(\",\", na=False)\r\n",
        "        test_qual[j][ idx_comma ] = test_qual[j][ idx_comma ].map(lambda x: str(x).split(\",\")[0])\r\n",
        "\r\n",
        "for j in test_qual.filter(regex=\"quality\").columns:\r\n",
        "        test_qual[j] = test_qual[j].astype(float)\r\n",
        "\r\n",
        "\"\"\"## Correlation between quality scores\"\"\"\r\n",
        "\r\n",
        "eda_qual_corr = test_qual.filter(regex=\"quality_[0-9]+\").corr(method = \"spearman\")\r\n",
        "sns.heatmap(eda_qual_corr, cmap=\"coolwarm\", square=True, center=0)"
      ],
      "execution_count": 40,
      "outputs": [
        {
          "output_type": "display_data",
          "data": {
            "application/vnd.google.colaboratory.intrinsic+json": {
              "type": "string"
            },
            "text/plain": [
              "'quality_1'"
            ]
          },
          "metadata": {
            "tags": []
          }
        },
        {
          "output_type": "display_data",
          "data": {
            "text/plain": [
              "1"
            ]
          },
          "metadata": {
            "tags": []
          }
        },
        {
          "output_type": "display_data",
          "data": {
            "application/vnd.google.colaboratory.intrinsic+json": {
              "type": "string"
            },
            "text/plain": [
              "'quality_5'"
            ]
          },
          "metadata": {
            "tags": []
          }
        },
        {
          "output_type": "display_data",
          "data": {
            "text/plain": [
              "3876"
            ]
          },
          "metadata": {
            "tags": []
          }
        },
        {
          "output_type": "display_data",
          "data": {
            "application/vnd.google.colaboratory.intrinsic+json": {
              "type": "string"
            },
            "text/plain": [
              "'quality_7'"
            ]
          },
          "metadata": {
            "tags": []
          }
        },
        {
          "output_type": "display_data",
          "data": {
            "text/plain": [
              "4488"
            ]
          },
          "metadata": {
            "tags": []
          }
        },
        {
          "output_type": "display_data",
          "data": {
            "application/vnd.google.colaboratory.intrinsic+json": {
              "type": "string"
            },
            "text/plain": [
              "'quality_8'"
            ]
          },
          "metadata": {
            "tags": []
          }
        },
        {
          "output_type": "display_data",
          "data": {
            "text/plain": [
              "36"
            ]
          },
          "metadata": {
            "tags": []
          }
        },
        {
          "output_type": "display_data",
          "data": {
            "application/vnd.google.colaboratory.intrinsic+json": {
              "type": "string"
            },
            "text/plain": [
              "'quality_9'"
            ]
          },
          "metadata": {
            "tags": []
          }
        },
        {
          "output_type": "display_data",
          "data": {
            "text/plain": [
              "1488"
            ]
          },
          "metadata": {
            "tags": []
          }
        },
        {
          "output_type": "display_data",
          "data": {
            "application/vnd.google.colaboratory.intrinsic+json": {
              "type": "string"
            },
            "text/plain": [
              "'quality_10'"
            ]
          },
          "metadata": {
            "tags": []
          }
        },
        {
          "output_type": "display_data",
          "data": {
            "text/plain": [
              "39324"
            ]
          },
          "metadata": {
            "tags": []
          }
        },
        {
          "output_type": "execute_result",
          "data": {
            "text/plain": [
              "<matplotlib.axes._subplots.AxesSubplot at 0x7fc685999c88>"
            ]
          },
          "metadata": {
            "tags": []
          },
          "execution_count": 40
        },
        {
          "output_type": "display_data",
          "data": {
            "image/png": "[encoded data removed]",
            "text/plain": [
              "<Figure size 432x288 with 2 Axes>"
            ]
          },
          "metadata": {
            "tags": [],
            "needs_background": "light"
          }
        }
      ]
    },
    {
      "cell_type": "markdown",
      "metadata": {
        "id": "SKPqJlpkHZJ2"
      },
      "source": [
        "#### fwver"
      ]
    },
    {
      "cell_type": "code",
      "metadata": {
        "colab": {
          "base_uri": "https://localhost:8080/",
          "height": 390
        },
        "id": "QdfAupTYHiWN",
        "outputId": "b1ba7d52-e379-4da5-f6a5-21ceb8fc80c4"
      },
      "source": [
        "train_err_errtype_set = set(train_err['fwver'])\r\n",
        "test_err_errtype_set = set(test_err['fwver'])\r\n",
        "\r\n",
        "display( \"The number of categories that uniquely exists in the train :\", len( train_err_errtype_set ) )\r\n",
        "display( \"The number of categories that uniquely exists in the test :\", len( test_err_errtype_set ) )\r\n",
        "\r\n",
        "display( \"Existing in train but not in test\", train_err_errtype_set.difference(test_err_errtype_set) )\r\n",
        "display( \"Existing in test but not in train\", test_err_errtype_set.difference(train_err_errtype_set) )"
      ],
      "execution_count": 41,
      "outputs": [
        {
          "output_type": "display_data",
          "data": {
            "application/vnd.google.colaboratory.intrinsic+json": {
              "type": "string"
            },
            "text/plain": [
              "'The number of categories that uniquely exists in the train :'"
            ]
          },
          "metadata": {
            "tags": []
          }
        },
        {
          "output_type": "display_data",
          "data": {
            "text/plain": [
              "37"
            ]
          },
          "metadata": {
            "tags": []
          }
        },
        {
          "output_type": "display_data",
          "data": {
            "application/vnd.google.colaboratory.intrinsic+json": {
              "type": "string"
            },
            "text/plain": [
              "'The number of categories that uniquely exists in the test :'"
            ]
          },
          "metadata": {
            "tags": []
          }
        },
        {
          "output_type": "display_data",
          "data": {
            "text/plain": [
              "40"
            ]
          },
          "metadata": {
            "tags": []
          }
        },
        {
          "output_type": "display_data",
          "data": {
            "application/vnd.google.colaboratory.intrinsic+json": {
              "type": "string"
            },
            "text/plain": [
              "'Existing in train but not in test'"
            ]
          },
          "metadata": {
            "tags": []
          }
        },
        {
          "output_type": "display_data",
          "data": {
            "text/plain": [
              "{'04.16.2641',\n",
              " '04.16.3345',\n",
              " '04.22.1442',\n",
              " '04.33.1095',\n",
              " '05.15.2090',\n",
              " '05.15.2122'}"
            ]
          },
          "metadata": {
            "tags": []
          }
        },
        {
          "output_type": "display_data",
          "data": {
            "application/vnd.google.colaboratory.intrinsic+json": {
              "type": "string"
            },
            "text/plain": [
              "'Existing in test but not in train'"
            ]
          },
          "metadata": {
            "tags": []
          }
        },
        {
          "output_type": "display_data",
          "data": {
            "text/plain": [
              "{'04.22.1170',\n",
              " '04.22.1448',\n",
              " '04.22.1478',\n",
              " '04.22.1608',\n",
              " '04.22.1772',\n",
              " '04.73.2569',\n",
              " '04.73.2577',\n",
              " '10.22.1770',\n",
              " '10.22.1780'}"
            ]
          },
          "metadata": {
            "tags": []
          }
        }
      ]
    },
    {
      "cell_type": "code",
      "metadata": {
        "colab": {
          "base_uri": "https://localhost:8080/"
        },
        "id": "3zL3CKQyHmMG",
        "outputId": "227a6d18-d851-41a6-cb89-707b3e664a4a"
      },
      "source": [
        "train_err[\"fwver\"].value_counts()"
      ],
      "execution_count": 42,
      "outputs": [
        {
          "output_type": "execute_result",
          "data": {
            "text/plain": [
              "04.16.3553    5237816\n",
              "04.22.1750    2874213\n",
              "04.33.1261    2504871\n",
              "05.15.2138    1906479\n",
              "03.11.1167    1505659\n",
              "04.22.1778    1293946\n",
              "04.33.1185     963736\n",
              "04.16.3571     145156\n",
              "04.73.2237      33537\n",
              "05.66.3237      31832\n",
              "04.82.1684      23554\n",
              "04.82.1778       8601\n",
              "04.22.1684       5554\n",
              "05.66.3571       3524\n",
              "04.33.1149       3272\n",
              "04.73.2571       2527\n",
              "04.22.1442       2522\n",
              "03.11.1149       2114\n",
              "10               1534\n",
              "04.16.3569        980\n",
              "04.33.1095        909\n",
              "05.15.2120        706\n",
              "04.33.1125        408\n",
              "04.16.2641        296\n",
              "8.5.3             212\n",
              "05.15.3104        191\n",
              "04.16.3439        142\n",
              "04.16.3345        101\n",
              "04.82.1730         78\n",
              "04.33.1171         58\n",
              "04.22.1656         39\n",
              "03.11.1141         29\n",
              "05.15.2122         23\n",
              "05.15.2092         18\n",
              "05.15.2090         12\n",
              "05.15.2114          9\n",
              "04.22.1666          5\n",
              "Name: fwver, dtype: int64"
            ]
          },
          "metadata": {
            "tags": []
          },
          "execution_count": 42
        }
      ]
    },
    {
      "cell_type": "code",
      "metadata": {
        "colab": {
          "base_uri": "https://localhost:8080/"
        },
        "id": "Hnenep73Ht38",
        "outputId": "63633402-7787-4e03-92b9-466f9d14d61e"
      },
      "source": [
        "# Each individual has at most 4 observations\r\n",
        "print(train_err[[\"user_id\", \"fwver\"]].groupby(\"user_id\").fwver.nunique().value_counts().sum())\r\n",
        "print(train_qual[[\"user_id\", \"fwver\"]].groupby(\"user_id\").fwver.nunique().value_counts().sum())"
      ],
      "execution_count": 35,
      "outputs": [
        {
          "output_type": "stream",
          "text": [
            "15000\n",
            "8281\n"
          ],
          "name": "stdout"
        }
      ]
    },
    {
      "cell_type": "code",
      "metadata": {
        "colab": {
          "base_uri": "https://localhost:8080/"
        },
        "id": "yWmNI2FJHvt9",
        "outputId": "32058468-1daf-4905-b837-8c5a99a66753"
      },
      "source": [
        "# train_err and train_qual can differ\r\n",
        "train_err[[\"user_id\", \"fwver\"]].groupby(\"user_id\").fwver.unique()"
      ],
      "execution_count": 43,
      "outputs": [
        {
          "output_type": "execute_result",
          "data": {
            "text/plain": [
              "user_id\n",
              "10000                [05.15.2138]\n",
              "10001    [04.33.1185, 04.33.1261]\n",
              "10002                [05.15.2138]\n",
              "10003    [04.33.1185, 04.33.1261]\n",
              "10004    [04.22.1750, 04.22.1778]\n",
              "                   ...           \n",
              "24995                [04.33.1261]\n",
              "24996                [05.15.2138]\n",
              "24997    [04.22.1750, 04.22.1778]\n",
              "24998    [04.22.1750, 04.22.1778]\n",
              "24999                [05.15.2138]\n",
              "Name: fwver, Length: 15000, dtype: object"
            ]
          },
          "metadata": {
            "tags": []
          },
          "execution_count": 43
        }
      ]
    },
    {
      "cell_type": "code",
      "metadata": {
        "colab": {
          "base_uri": "https://localhost:8080/"
        },
        "id": "GCaWb6bHH19G",
        "outputId": "6cee4997-c01a-448a-f7dd-88b43f2f7865"
      },
      "source": [
        "train_qual[[\"user_id\", \"fwver\"]].groupby(\"user_id\").fwver.unique()"
      ],
      "execution_count": 44,
      "outputs": [
        {
          "output_type": "execute_result",
          "data": {
            "text/plain": [
              "user_id\n",
              "10000                [05.15.2138]\n",
              "10002                [05.15.2138]\n",
              "10004                [04.22.1750]\n",
              "10005                [04.22.1750]\n",
              "10006    [04.16.3553, 04.33.1261]\n",
              "                   ...           \n",
              "24990                [03.11.1167]\n",
              "24992                [04.22.1750]\n",
              "24993                [05.15.2138]\n",
              "24995                [04.33.1261]\n",
              "24997    [04.22.1750, 04.22.1778]\n",
              "Name: fwver, Length: 8281, dtype: object"
            ]
          },
          "metadata": {
            "tags": []
          },
          "execution_count": 44
        }
      ]
    },
    {
      "cell_type": "code",
      "metadata": {
        "id": "5Yn8TkU3H41A"
      },
      "source": [
        "# The length of unique elements of fwver values from train_err and train_qual\r\n",
        "df_fwver_nunique_count = pd.merge( train_err[[\"user_id\", \"fwver\"]].groupby(\"user_id\").fwver.nunique().reset_index(),\r\n",
        "                                   train_qual[[\"user_id\", \"fwver\"]].groupby(\"user_id\").fwver.nunique().reset_index(),\r\n",
        "                                   how = \"left\", on=\"user_id\" )\r\n",
        "\r\n",
        "df_fwver_tmp = df_fwver_nunique_count[ ~df_fwver_nunique_count.fwver_y.isnull() ].apply(lambda x: str(x[1]) != str(x[2]), axis=1)"
      ],
      "execution_count": 47,
      "outputs": []
    },
    {
      "cell_type": "code",
      "metadata": {
        "id": "Y5JRmxcOIHWW",
        "colab": {
          "base_uri": "https://localhost:8080/"
        },
        "outputId": "9bb44a75-4203-4dff-e376-6fc04dcddba6"
      },
      "source": [
        "# The total number of rows having different fwver counts is 3053\r\n",
        "df_fwver_tmp.sum()\r\n",
        "diff_fwever_btw_err_and_qual = df_fwver_nunique_count.loc[ df_fwver_tmp[df_fwver_tmp].index, : ]"
      ],
      "execution_count": 49,
      "outputs": [
        {
          "output_type": "execute_result",
          "data": {
            "text/plain": [
              "3053"
            ]
          },
          "metadata": {
            "tags": []
          },
          "execution_count": 49
        }
      ]
    },
    {
      "cell_type": "code",
      "metadata": {
        "colab": {
          "base_uri": "https://localhost:8080/"
        },
        "id": "mrr0sG8cIJtD",
        "outputId": "30268cbf-7992-4fbd-b6c7-e27420d2b762"
      },
      "source": [
        "# Among them, 3030 rows have more fwver values in train_err than in train_qual\r\n",
        "( diff_fwever_btw_err_and_qual.fwver_x > diff_fwever_btw_err_and_qual.fwver_y ).sum()"
      ],
      "execution_count": 50,
      "outputs": [
        {
          "output_type": "execute_result",
          "data": {
            "text/plain": [
              "3030"
            ]
          },
          "metadata": {
            "tags": []
          },
          "execution_count": 50
        }
      ]
    },
    {
      "cell_type": "code",
      "metadata": {
        "colab": {
          "base_uri": "https://localhost:8080/",
          "height": 479
        },
        "id": "tvL4c54GIKOp",
        "outputId": "44e14d21-76e0-4681-802b-955b29603627"
      },
      "source": [
        "# That might be because train_err and train_qual sets have different number of observations at time although the same user_id.\r\n",
        "display(train_err.groupby([\"user_id\"]).user_id.count())\r\n",
        "display(train_qual.groupby([\"user_id\"]).user_id.count())"
      ],
      "execution_count": 54,
      "outputs": [
        {
          "output_type": "display_data",
          "data": {
            "text/plain": [
              "user_id\n",
              "10000     317\n",
              "10001    2365\n",
              "10002     306\n",
              "10003     306\n",
              "10004     777\n",
              "         ... \n",
              "24995     194\n",
              "24996       4\n",
              "24997     826\n",
              "24998     155\n",
              "24999     570\n",
              "Name: user_id, Length: 15000, dtype: int64"
            ]
          },
          "metadata": {
            "tags": []
          }
        },
        {
          "output_type": "display_data",
          "data": {
            "text/plain": [
              "user_id\n",
              "10000    24\n",
              "10002    96\n",
              "10004    24\n",
              "10005    24\n",
              "10006    36\n",
              "         ..\n",
              "24990    24\n",
              "24992    36\n",
              "24993    24\n",
              "24995    24\n",
              "24997    24\n",
              "Name: user_id, Length: 8281, dtype: int64"
            ]
          },
          "metadata": {
            "tags": []
          }
        }
      ]
    },
    {
      "cell_type": "code",
      "metadata": {
        "colab": {
          "base_uri": "https://localhost:8080/"
        },
        "id": "qA0UgEOWIWvN",
        "outputId": "1f03ef8a-e490-4c25-cafe-1c40fa9e9a86"
      },
      "source": [
        "len( set(train_err.user_id.unique()).difference(set(train_qual.user_id.unique() )) )\r\n",
        "len( set(train_qual.user_id.unique() ).difference( set(train_err.user_id.unique()) ) )"
      ],
      "execution_count": 55,
      "outputs": [
        {
          "output_type": "execute_result",
          "data": {
            "text/plain": [
              "0"
            ]
          },
          "metadata": {
            "tags": []
          },
          "execution_count": 55
        }
      ]
    },
    {
      "cell_type": "markdown",
      "metadata": {
        "id": "_NPCfr_7IuPZ"
      },
      "source": [
        "# 2.Generating New Variables "
      ]
    },
    {
      "cell_type": "markdown",
      "metadata": {
        "id": "3r8JwAUFZTQ2"
      },
      "source": [
        "## Preprocess Fuction"
      ]
    },
    {
      "cell_type": "code",
      "metadata": {
        "id": "1SSJoWlDIyhL"
      },
      "source": [
        "# Remove rows with a missing value at the column of errcode.\r\n",
        "train_err.drop(train_err.index[train_err[\"errcode\"].isnull()], inplace=True)"
      ],
      "execution_count": 19,
      "outputs": []
    },
    {
      "cell_type": "code",
      "metadata": {
        "id": "sd8fT8CCI1iu"
      },
      "source": [
        "def preprocess_err(df):\r\n",
        "  \r\n",
        "    ########## Date #########\r\n",
        "    time = df['time'].astype(str)\r\n",
        "    df['month'] = [int(x[4:6]) for x in time ] \r\n",
        "    df['day']   = [int(x[6:8]) for x in time ] \r\n",
        "    df['hour']  = [int(x[8:10]) for x in time ] \r\n",
        "\r\n",
        "    #days\r\n",
        "    df['datetime'] = df['time'].apply(make_datetime)\r\n",
        "    min_day = df.datetime.min().date()\r\n",
        "    df['days'] = df.loc[:,'datetime'].dt.date - min_day\r\n",
        "    df['days'] = df['days'].dt.days\r\n",
        "\r\n",
        "    ######### errcode #########\r\n",
        "    err = df[\"errcode\"]\r\n",
        "\r\n",
        "    # New Variable (errcode_numeric) :: whether each variable is numeric or not\r\n",
        "    df[\"errcode_numeric\"] = err.map(lambda x: 1 if str(x).replace(\"-\", \"\").isdigit() else 0)\r\n",
        "\r\n",
        "    # New Variable (errcode_digit) :: the number of digits for each\r\n",
        "    df[\"errcode_digits\"] = err.map(lambda s: len(re.findall(\"[0-9]\", str(s))) if str(s).isdigit() else 0)\r\n",
        "\r\n",
        "    # errcode_sparse\r\n",
        "    idx_errcode_100000 = list(err.value_counts()[err.value_counts() > 100000].index)\r\n",
        "    df[\"errcode_sparse\"] = err\r\n",
        "    df.loc[~err.isin(idx_errcode_100000), \"errcode_sparse\"] = \"sparse\"\r\n",
        "\r\n",
        "    return df\r\n"
      ],
      "execution_count": 20,
      "outputs": []
    },
    {
      "cell_type": "code",
      "metadata": {
        "id": "-h-TPMqtJt6O"
      },
      "source": [
        "def preprocess_qual(df):\r\n",
        "\r\n",
        "    ########## Date #########\r\n",
        "    time = df['time'].astype(str)\r\n",
        "    df['month'] = [int(x[4:6]) for x in time ] \r\n",
        "    df['day']   = [int(x[6:8]) for x in time ] \r\n",
        "    df['hour']  = [int(x[8:10]) for x in time ] \r\n",
        "\r\n",
        "    # days\r\n",
        "    df['datetime'] = df['time'].apply(make_datetime)\r\n",
        "    min_day = df.datetime.min().date()\r\n",
        "    df['days'] = df.loc[:,'datetime'].dt.date - min_day\r\n",
        "    df['days'] = df['days'].dt.days\r\n",
        "\r\n",
        "    ######### quality #########\r\n",
        "    quality_comma = []\r\n",
        "    for j in [\"quality_\" + str(j) for j in range(0, 13)]:\r\n",
        "        if (df[j].map(lambda x: len(re.findall(\",\", str(x))) > 0).sum()):\r\n",
        "            display(j, df[j].str.contains(\",\").sum())\r\n",
        "            quality_comma.append(j)\r\n",
        "\r\n",
        "    for j in quality_comma:\r\n",
        "        idx_comma = df[j].str.contains(\",\", na=False)\r\n",
        "        df[j][ idx_comma ] = df[j][ idx_comma ].map(lambda x: str(x).split(\",\")[0])\r\n",
        "\r\n",
        "    for j in df.filter(regex=\"quality\").columns:\r\n",
        "        df[j] = df[j].astype(float)\r\n",
        "\r\n",
        "    ######## rename variables #########\r\n",
        "    df.rename(columns = {'fwver':'qual_fwver', 'month':'qual_month', 'day':'qual_day', 'hour':'qual_hour',\r\n",
        "                         'days':'qual_days'}, inplace = True)\r\n",
        "\r\n",
        "    return df"
      ],
      "execution_count": 21,
      "outputs": []
    },
    {
      "cell_type": "code",
      "metadata": {
        "id": "eX-v68I8J-os"
      },
      "source": [
        "# err\r\n",
        "train_err = preprocess_err(train_err)"
      ],
      "execution_count": 24,
      "outputs": []
    },
    {
      "cell_type": "code",
      "metadata": {
        "id": "QR2COWiuKGGQ"
      },
      "source": [
        "test_err = preprocess_err(test_err)"
      ],
      "execution_count": 25,
      "outputs": []
    },
    {
      "cell_type": "code",
      "metadata": {
        "id": "jBY7Esz9KZJJ"
      },
      "source": [
        "# qual\r\n",
        "train_qual = preprocess_qual(train_qual)"
      ],
      "execution_count": 64,
      "outputs": []
    },
    {
      "cell_type": "code",
      "metadata": {
        "id": "TzErInUQKZag"
      },
      "source": [
        "test_qual = preprocess_qual(test_qual)"
      ],
      "execution_count": 65,
      "outputs": []
    },
    {
      "cell_type": "code",
      "metadata": {
        "id": "0TFXH-aLLhsf"
      },
      "source": [
        "# save the made train_err, test_err\r\n",
        "train_err.to_csv('gdrive/MyDrive/train_err_made.csv',index=False)\r\n",
        "test_err.to_csv('gdrive/MyDrive/test_err_made.csv',index=False)"
      ],
      "execution_count": 27,
      "outputs": []
    },
    {
      "cell_type": "code",
      "metadata": {
        "id": "4i3xOcCnAuGl"
      },
      "source": [
        "# save the made train_qual, test_qual\r\n",
        "train_qual.to_csv('gdrive/MyDrive/train_qual_made.csv',index=False)\r\n",
        "test_qual.to_csv('gdrive/MyDrive/test_qual_made.csv',index=False)"
      ],
      "execution_count": 67,
      "outputs": []
    },
    {
      "cell_type": "code",
      "metadata": {
        "id": "tVv0MSbLZCwb"
      },
      "source": [
        "# load the made train_err, test_err\r\n",
        "train_err = pd.read_csv('gdrive/MyDrive/train_err_made.csv')\r\n",
        "test_err = pd.read_csv('gdrive/MyDrive/test_err_made.csv')"
      ],
      "execution_count": null,
      "outputs": []
    },
    {
      "cell_type": "code",
      "metadata": {
        "id": "OWphi8HDZEYL"
      },
      "source": [
        "# load the made train_qual, test_qual\r\n",
        "train_qual = pd.read_csv('gdrive/MyDrive/train_qual_made.csv')\r\n",
        "test_qual = pd.read_csv('gdrive/MyDrive/test_qual_made.csv')"
      ],
      "execution_count": 22,
      "outputs": []
    },
    {
      "cell_type": "markdown",
      "metadata": {
        "id": "qMrlUT-8KCGG"
      },
      "source": [
        "## Feature Type"
      ]
    },
    {
      "cell_type": "code",
      "metadata": {
        "colab": {
          "base_uri": "https://localhost:8080/"
        },
        "id": "vLeWdZTfJ_xO",
        "outputId": "2c0d4d67-d0b1-4c27-9ea0-f60f851416c8"
      },
      "source": [
        "print(train_err.head(2))\r\n",
        "print(train_qual.head(2))"
      ],
      "execution_count": 28,
      "outputs": [
        {
          "output_type": "stream",
          "text": [
            "   user_id            time  ... errcode_digits errcode_sparse\n",
            "0    10000  20201101025616  ...              1              1\n",
            "1    10000  20201101030309  ...              1              1\n",
            "\n",
            "[2 rows x 14 columns]\n",
            "             time  user_id  ...             datetime  qual_days\n",
            "0  20201129090000    10000  ...  2020-11-29 09:00:00         29\n",
            "1  20201129090000    10000  ...  2020-11-29 09:00:00         29\n",
            "\n",
            "[2 rows x 21 columns]\n"
          ],
          "name": "stdout"
        }
      ]
    },
    {
      "cell_type": "code",
      "metadata": {
        "colab": {
          "base_uri": "https://localhost:8080/"
        },
        "id": "MqgyiM1fNleM",
        "outputId": "e84c1717-07af-4f02-de78-d6c6e482c079"
      },
      "source": [
        "print(train_err.columns)\r\n",
        "print(train_qual.columns)\r\n",
        "print(test_err.columns)\r\n",
        "print(test_qual.columns)"
      ],
      "execution_count": 29,
      "outputs": [
        {
          "output_type": "stream",
          "text": [
            "Index(['user_id', 'time', 'model_nm', 'fwver', 'errtype', 'errcode', 'month',\n",
            "       'day', 'hour', 'datetime', 'days', 'errcode_numeric', 'errcode_digits',\n",
            "       'errcode_sparse'],\n",
            "      dtype='object')\n",
            "Index(['time', 'user_id', 'qual_fwver', 'quality_0', 'quality_1', 'quality_2',\n",
            "       'quality_3', 'quality_4', 'quality_5', 'quality_6', 'quality_7',\n",
            "       'quality_8', 'quality_9', 'quality_10', 'quality_11', 'quality_12',\n",
            "       'qual_month', 'qual_day', 'qual_hour', 'datetime', 'qual_days'],\n",
            "      dtype='object')\n",
            "Index(['user_id', 'time', 'model_nm', 'fwver', 'errtype', 'errcode', 'month',\n",
            "       'day', 'hour', 'datetime', 'days', 'errcode_numeric', 'errcode_digits',\n",
            "       'errcode_sparse'],\n",
            "      dtype='object')\n",
            "Index(['time', 'user_id', 'qual_fwver', 'quality_0', 'quality_1', 'quality_2',\n",
            "       'quality_3', 'quality_4', 'quality_5', 'quality_6', 'quality_7',\n",
            "       'quality_8', 'quality_9', 'quality_10', 'quality_11', 'quality_12',\n",
            "       'qual_month', 'qual_day', 'qual_hour', 'datetime', 'qual_days'],\n",
            "      dtype='object')\n"
          ],
          "name": "stdout"
        }
      ]
    },
    {
      "cell_type": "code",
      "metadata": {
        "id": "kZnH3pD8Ko_C"
      },
      "source": [
        "# err features\r\n",
        "FEATURES_CONTINUOUS = [\"month\", \"day\", \"hour\", \"days\"]\r\n",
        "FEATURES_CATEGORICAL = [\"model_nm\", \"fwver\", \"errtype\",\r\n",
        "                         \"errcode_numeric\", \"errcode_digits\", \"errcode_sparse\"]\r\n",
        "TARGET = \"problem\""
      ],
      "execution_count": 30,
      "outputs": []
    },
    {
      "cell_type": "code",
      "metadata": {
        "id": "KGj-IpnmZueI"
      },
      "source": [
        "# qual features\r\n",
        "FEATURES_CONTINUOUS = [\"qual_month\", \"qual_day\", \"qual_hour\", \"qual_days\",\r\n",
        "                       \"quality_0\", \"quality_1\", \"quality_2\", \"quality_3\", \"quality_4\", \"quality_5\",\r\n",
        "                       \"quality_6\", \"quality_7\", \"quality_8\", \"quality_9\", \"quality_10\",\r\n",
        "                       \"quality_11\", \"quality_12\"]\r\n",
        "FEATURES_CATEGORICAL = [\"qual_fwver\"]\r\n",
        "TARGET = \"problem\""
      ],
      "execution_count": 31,
      "outputs": []
    },
    {
      "cell_type": "markdown",
      "metadata": {
        "id": "XKx1--yxkA2_"
      },
      "source": [
        "#  3. Encoder"
      ]
    },
    {
      "cell_type": "code",
      "metadata": {
        "id": "EzbWl6NWQjID"
      },
      "source": [
        "train_user_id_max = 24999\r\n",
        "train_user_id_min = 10000\r\n",
        "train_user_number = 15000"
      ],
      "execution_count": 45,
      "outputs": []
    },
    {
      "cell_type": "code",
      "metadata": {
        "id": "-Bvk-0FbQjvf"
      },
      "source": [
        "test_user_id_max = 44998\r\n",
        "test_user_id_min = 30000\r\n",
        "test_user_number = 14999"
      ],
      "execution_count": 46,
      "outputs": []
    },
    {
      "cell_type": "code",
      "metadata": {
        "id": "is1-I5aEx5ah"
      },
      "source": [
        "def isnan(value):\r\n",
        "    try:\r\n",
        "        import math\r\n",
        "        return math.isnan(float(value))\r\n",
        "    except:\r\n",
        "        return False"
      ],
      "execution_count": 34,
      "outputs": []
    },
    {
      "cell_type": "markdown",
      "metadata": {
        "id": "-gcK1I_ka5GF"
      },
      "source": [
        "### Encode Fuction"
      ]
    },
    {
      "cell_type": "markdown",
      "metadata": {
        "id": "rIOvOFgca-a5"
      },
      "source": [
        "**category** variables"
      ]
    },
    {
      "cell_type": "code",
      "metadata": {
        "id": "FtjcVcBYMZBq"
      },
      "source": [
        "def encode_cat(train_df, test_df, var, type):\r\n",
        "  \r\n",
        "    uni_train_var = train_df[var].unique()\r\n",
        "    uni_test_var =  test_df[var].unique()\r\n",
        "\r\n",
        "    li1 = [x for x in uni_train_var if x in uni_test_var]\r\n",
        "    li2 = [x for x in uni_train_var if x not in uni_test_var]\r\n",
        "    li3 = [x for x in uni_test_var if x not in uni_train_var]\r\n",
        "    co_uni_var = np.unique(np.asarray(li1+li2+li3))\r\n",
        "    co_uni_var.sort()\r\n",
        "    co_uni_var = co_uni_var.astype(str)\r\n",
        "\r\n",
        "    if type == 1 : \r\n",
        "      df = train_df\r\n",
        "      user_number = train_user_number\r\n",
        "      user_id_min = train_user_id_min \r\n",
        "    elif type == 2  :\r\n",
        "      df = test_df\r\n",
        "      user_number = test_user_number\r\n",
        "      user_id_min = test_user_id_min\r\n",
        "\r\n",
        "\r\n",
        "    id_var = df[['user_id',var]].values\r\n",
        "    encode = np.zeros((user_number, co_uni_var.shape[0]))\r\n",
        "\r\n",
        "    for person_idx, val in tqdm(id_var):\r\n",
        "      if isnan(val):\r\n",
        "        col = encode.shape[1] - 1\r\n",
        "        encode[np.int(person_idx - user_id_min), col] += 1\r\n",
        "      else :\r\n",
        "        col = np.int(np.where(co_uni_var == str(val))[0])\r\n",
        "        encode[np.int(person_idx - user_id_min), col] += 1\r\n",
        "\r\n",
        "    pdf = pd.DataFrame(encode, columns=[str(var) + '_' + str(x) for x in co_uni_var])\r\n",
        "\r\n",
        "    # model_nm 하나라도 있으면 1, 아니면 0\r\n",
        "    for j in pdf.filter(regex=\"model_nm\").columns:\r\n",
        "      pdf.loc[ pdf[j] > 0, j] = 1\r\n",
        "\r\n",
        "    return(pdf)"
      ],
      "execution_count": 37,
      "outputs": []
    },
    {
      "cell_type": "code",
      "metadata": {
        "colab": {
          "base_uri": "https://localhost:8080/"
        },
        "id": "vMg4wvKsl1ml",
        "outputId": "680f728f-35e1-4d8a-b8b6-bb88d0a87c7a"
      },
      "source": [
        "# train_err category encode\r\n",
        "model_pd = encode_cat(train_err, test_err, \"model_nm\", 1)\r\n",
        "fwver_pd = encode_cat(train_err, test_err, \"fwver\", 1)\r\n",
        "errtype_pd = encode_cat(train_err, test_err, \"errtype\", 1)\r\n",
        "errcode_numeric_pd = encode_cat(train_err, test_err, \"errcode_numeric\", 1)\r\n",
        "errcode_digits_pd = encode_cat(train_err, test_err, \"errcode_digits\", 1)\r\n",
        "errcode_sparse_pd = encode_cat(train_err,test_err, \"errcode_sparse\", 1)"
      ],
      "execution_count": 36,
      "outputs": [
        {
          "output_type": "stream",
          "text": [
            "100%|██████████| 16554662/16554662 [02:17<00:00, 120136.43it/s]\n",
            "100%|██████████| 9/9 [00:00<00:00, 563.19it/s]\n",
            "100%|██████████| 16554662/16554662 [02:23<00:00, 115123.03it/s]\n",
            "0it [00:00, ?it/s]\n",
            "100%|██████████| 16554662/16554662 [02:38<00:00, 104158.61it/s]\n",
            "0it [00:00, ?it/s]\n",
            "100%|██████████| 16554662/16554662 [02:28<00:00, 111238.25it/s]\n",
            "0it [00:00, ?it/s]\n",
            "100%|██████████| 16554662/16554662 [02:29<00:00, 110932.25it/s]\n",
            "0it [00:00, ?it/s]\n",
            "100%|██████████| 16554662/16554662 [02:11<00:00, 125421.04it/s]\n",
            "0it [00:00, ?it/s]\n"
          ],
          "name": "stderr"
        }
      ]
    },
    {
      "cell_type": "code",
      "metadata": {
        "colab": {
          "base_uri": "https://localhost:8080/"
        },
        "id": "VzuO8zy8wy8w",
        "outputId": "ef4053f6-334e-4444-e787-31becc9ee22e"
      },
      "source": [
        "# test_err category encode\r\n",
        "test_model_pd = encode_cat(train_err, test_err, \"model_nm\", 2)\r\n",
        "test_fwver_pd =  encode_cat(train_err, test_err, \"fwver\", 2)\r\n",
        "test_errtype_pd = encode_cat(train_err, test_err, \"errtype\", 2)\r\n",
        "test_errcode_numeric_pd = encode_cat(train_err, test_err, \"errcode_numeric\", 2)\r\n",
        "test_errcode_digits_pd = encode_cat(train_err, test_err, \"errcode_digits\", 2)\r\n",
        "test_errcode_sparse_pd = encode_cat(train_err, test_err, \"errcode_sparse\", 2)"
      ],
      "execution_count": 56,
      "outputs": [
        {
          "output_type": "stream",
          "text": [
            "100%|██████████| 16532648/16532648 [02:17<00:00, 120461.72it/s]\n",
            "100%|██████████| 16532648/16532648 [02:25<00:00, 113860.65it/s]\n",
            "100%|██████████| 16532648/16532648 [02:38<00:00, 104549.04it/s]\n",
            "100%|██████████| 16532648/16532648 [02:28<00:00, 111694.02it/s]\n",
            "100%|██████████| 16532648/16532648 [02:29<00:00, 110481.41it/s]\n",
            "100%|██████████| 16532648/16532648 [02:14<00:00, 122935.77it/s]\n"
          ],
          "name": "stderr"
        }
      ]
    },
    {
      "cell_type": "code",
      "metadata": {
        "colab": {
          "base_uri": "https://localhost:8080/"
        },
        "id": "RHileog-2S90",
        "outputId": "6413943a-9605-42e9-f6f5-6b23e1183327"
      },
      "source": [
        "# train_qual, test_qual category encode\r\n",
        "qual_fwver_pd = encode_cat(train_qual, test_qual, \"qual_fwver\", 1)\r\n",
        "test_qual_fwver_pd = encode_cat(train_qual, test_qual, \"qual_fwver\", 2)"
      ],
      "execution_count": 66,
      "outputs": [
        {
          "output_type": "stream",
          "text": [
            "100%|██████████| 747972/747972 [00:06<00:00, 118376.79it/s]\n"
          ],
          "name": "stderr"
        }
      ]
    },
    {
      "cell_type": "markdown",
      "metadata": {
        "id": "1iedPqbTbJs0"
      },
      "source": [
        "**continuous** variables"
      ]
    },
    {
      "cell_type": "code",
      "metadata": {
        "id": "SMqNzrTUMZio"
      },
      "source": [
        "def npmean(x):\r\n",
        "  return(np.mean(x))\r\n",
        "\r\n",
        "def npmin(x):\r\n",
        "  return(np.min(x))\r\n",
        "\r\n",
        "def npmax(x):\r\n",
        "  return(np.max(x))\r\n",
        "\r\n",
        "def npstd(x):\r\n",
        "  return(np.std(x))"
      ],
      "execution_count": 57,
      "outputs": []
    },
    {
      "cell_type": "code",
      "metadata": {
        "id": "dfdhjuXcMbRO"
      },
      "source": [
        "def encode_qual_time(df):\r\n",
        "  err_time_encode = df.filter(regex=\"month|day|hour|user_id|quality_[0-9]+\").groupby(['user_id']).agg([npmean,npmin,npmax, npstd])\r\n",
        "  err_time_encode.columns = [\"_\".join(x) for x in err_time_encode.columns.ravel()]\r\n",
        "  return(err_time_encode)"
      ],
      "execution_count": 58,
      "outputs": []
    },
    {
      "cell_type": "code",
      "metadata": {
        "id": "1-YmIddMyrRD"
      },
      "source": [
        "train_err_time = encode_qual_time(train_err)\r\n",
        "train_qual_time = encode_qual_time(train_qual)"
      ],
      "execution_count": 41,
      "outputs": []
    },
    {
      "cell_type": "code",
      "metadata": {
        "id": "p1ttPiD_y3I6"
      },
      "source": [
        "test_err_time = encode_qual_time(test_err)\r\n",
        "test_qual_time = encode_qual_time(test_qual)"
      ],
      "execution_count": 59,
      "outputs": []
    },
    {
      "cell_type": "markdown",
      "metadata": {
        "id": "ezBlIRXdbT27"
      },
      "source": [
        "### combine encode data"
      ]
    },
    {
      "cell_type": "code",
      "metadata": {
        "id": "H-1yGoX-N_UB"
      },
      "source": [
        "def err_comb(model, fwver, errtype, errcode_numeric, errcode_digits, errcode_sparse, err_time, type):\r\n",
        "    if type==1 :\r\n",
        "        user_id_min = train_user_id_min  \r\n",
        "    elif type==2:\r\n",
        "        user_id_min = test_user_id_min\r\n",
        "\r\n",
        "    err_encode1 = pd.concat([model, fwver, errtype, errcode_numeric, errcode_digits, errcode_sparse], axis=1).reset_index()\r\n",
        "    err_encode1['user_id']=err_encode1['index']+  user_id_min\r\n",
        "    err_encode1.drop([\"index\"], axis=1, inplace=True)\r\n",
        "    err_encode = pd.merge(err_encode1, err_time, on=\"user_id\" ,how=\"left\")\r\n",
        "\r\n",
        "    cols = [col for col in err_encode if col!='user_id']\r\n",
        "    err_encode = err_encode[cols]\r\n",
        "\r\n",
        "    return(err_encode)"
      ],
      "execution_count": 47,
      "outputs": []
    },
    {
      "cell_type": "code",
      "metadata": {
        "id": "PxddYm4TTjnB"
      },
      "source": [
        "def qual_comb(fwver, qual_time, type):\r\n",
        "      if type==1 :\r\n",
        "        user_id_min = train_user_id_min  \r\n",
        "      elif type==2:\r\n",
        "        user_id_min = test_user_id_min\r\n",
        "\r\n",
        "      qual_encode1 = fwver.reset_index()\r\n",
        "      qual_encode1['user_id']= qual_encode1['index']+ user_id_min\r\n",
        "      qual_encode1.drop([\"index\"], axis=1, inplace=True)\r\n",
        "      qual_encode = pd.merge(qual_encode1, qual_time,on=\"user_id\" ,how=\"left\")\r\n",
        "\r\n",
        "      cols = [col for col in qual_encode if col!='user_id']\r\n",
        "      qual_encode = qual_encode[cols]\r\n",
        "      \r\n",
        "      return(qual_encode)\r\n"
      ],
      "execution_count": 48,
      "outputs": []
    },
    {
      "cell_type": "code",
      "metadata": {
        "id": "l4aHGONS01X0"
      },
      "source": [
        "train_err_encode = err_comb(model_pd, fwver_pd, errtype_pd, errcode_numeric_pd, errcode_digits_pd, errcode_sparse_pd, train_err_time, 1)"
      ],
      "execution_count": 49,
      "outputs": []
    },
    {
      "cell_type": "code",
      "metadata": {
        "id": "ArC4rKP50_5Y"
      },
      "source": [
        "test_err_encode = err_comb(test_model_pd, test_fwver_pd, test_errtype_pd, test_errcode_numeric_pd, test_errcode_digits_pd, test_errcode_sparse_pd, test_err_time, 2)"
      ],
      "execution_count": 60,
      "outputs": []
    },
    {
      "cell_type": "code",
      "metadata": {
        "id": "35UzATVG3RSP"
      },
      "source": [
        "train_qual_encode = qual_comb(qual_fwver_pd, train_qual_time,1)"
      ],
      "execution_count": 67,
      "outputs": []
    },
    {
      "cell_type": "code",
      "metadata": {
        "id": "tUKgbXyS3RSc"
      },
      "source": [
        "test_qual_encode = qual_comb(test_qual_fwver_pd, test_qual_time,2)"
      ],
      "execution_count": 68,
      "outputs": []
    },
    {
      "cell_type": "markdown",
      "metadata": {
        "id": "FOBTWyUqes8E"
      },
      "source": [
        "combine encode"
      ]
    },
    {
      "cell_type": "code",
      "metadata": {
        "id": "OSCKnNvIUgWu"
      },
      "source": [
        "train_comb_encode =pd.concat([train_err_encode, train_qual_encode], axis=1)"
      ],
      "execution_count": 69,
      "outputs": []
    },
    {
      "cell_type": "code",
      "metadata": {
        "id": "M-T_h9Tzn21b"
      },
      "source": [
        "test_comb_encode =pd.concat([test_err_encode, test_qual_encode], axis=1)"
      ],
      "execution_count": 70,
      "outputs": []
    },
    {
      "cell_type": "code",
      "metadata": {
        "colab": {
          "base_uri": "https://localhost:8080/"
        },
        "id": "l2PeCB4TlFxu",
        "outputId": "84770cb7-2478-4807-c82a-6c6da35da9ac"
      },
      "source": [
        "# check dimension\r\n",
        "print(train_err_encode.shape)\r\n",
        "print(test_err_encode.shape)\r\n",
        "print(train_qual_encode.shape)\r\n",
        "print(test_qual_encode.shape)\r\n",
        "print(train_comb_encode.shape)\r\n",
        "print(test_comb_encode.shape)"
      ],
      "execution_count": 71,
      "outputs": [
        {
          "output_type": "stream",
          "text": [
            "(15000, 138)\n",
            "(14999, 138)\n",
            "(15000, 96)\n",
            "(14999, 96)\n",
            "(15000, 234)\n",
            "(14999, 234)\n"
          ],
          "name": "stdout"
        }
      ]
    },
    {
      "cell_type": "code",
      "metadata": {
        "id": "ZWQXVWjXTjnK"
      },
      "source": [
        "# save train_err, train_qual, comb encode data\r\n",
        "train_err_encode.to_csv(\"gdrive/MyDrive/train_err_encode.csv\",index=False)\r\n",
        "train_qual_encode.to_csv(\"gdrive/MyDrive/train_qual_encode.csv\",index=False)\r\n",
        "train_comb_encode.to_csv(\"gdrive/MyDrive/train_comb_encode.csv\",index=False)"
      ],
      "execution_count": 55,
      "outputs": []
    },
    {
      "cell_type": "code",
      "metadata": {
        "id": "OmUFCrWNk8pp"
      },
      "source": [
        "# save test_err, test_qual, comb encode data\r\n",
        "test_err_encode.to_csv(\"gdrive/MyDrive/test_err_encode.csv\",index=False)\r\n",
        "test_qual_encode.to_csv(\"gdrive/MyDrive/test_qual_encode.csv\",index=False)\r\n",
        "test_comb_encode.to_csv(\"gdrive/MyDrive/test_comb_encode.csv\",index=False)"
      ],
      "execution_count": 73,
      "outputs": []
    },
    {
      "cell_type": "code",
      "metadata": {
        "id": "evqyWCrMVHfz"
      },
      "source": [
        "# load\r\n",
        "train_err_encode = pd.read_csv(\"gdrive/MyDrive/train_err_encode.csv\")\r\n",
        "train_qual_encode = pd.read_csv(\"gdrive/MyDrive/train_qual_encode.csv\")\r\n",
        "\r\n",
        "test_err_encode = pd.read_csv(\"gdrive/MyDrive/test_err_encode.csv\")\r\n",
        "test_qual_encode = pd.read_csv(\"gdrive/MyDrive/test_qual_encode.csv\")\r\n",
        "\r\n",
        "train_comb_encode = pd.read_csv(\"gdrive/MyDrive/train_comb_encode.csv\")\r\n",
        "test_comb_encode = pd.read_csv(\"gdrive/MyDrive/test_comb_encode.csv\")"
      ],
      "execution_count": null,
      "outputs": []
    },
    {
      "cell_type": "markdown",
      "metadata": {
        "id": "j7YOsiil8Jpk"
      },
      "source": [
        "# 4. Modeling\r\n",
        "\r\n",
        "\r\n",
        "\r\n"
      ]
    },
    {
      "cell_type": "code",
      "metadata": {
        "colab": {
          "base_uri": "https://localhost:8080/"
        },
        "id": "MLgQSDK_oJE0",
        "outputId": "c6a4b368-9d7f-44a5-8584-584d1a6ad6a9"
      },
      "source": [
        "!pip install GPyOpt\r\n",
        "from sklearn.model_selection import KFold\r\n",
        "from GPyOpt.methods import BayesianOptimization\r\n",
        "import time\r\n",
        "\r\n",
        "gc.collect() #gc 비우기"
      ],
      "execution_count": 128,
      "outputs": [
        {
          "output_type": "execute_result",
          "data": {
            "text/plain": [
              "34491"
            ]
          },
          "metadata": {
            "tags": []
          },
          "execution_count": 128
        }
      ]
    },
    {
      "cell_type": "code",
      "metadata": {
        "colab": {
          "base_uri": "https://localhost:8080/"
        },
        "id": "8NVwTNhno2Me",
        "outputId": "7f809b63-8cab-4b6f-c127-4f014e7f5e90"
      },
      "source": [
        "problem = np.zeros(15000)\r\n",
        "# error와 동일한 방법으로 person_idx - 10000 위치에 \r\n",
        "# person_idx의 problem이 한 번이라도 발생했다면 1\r\n",
        "# 없다면 0\r\n",
        "problem[train_prob.user_id.unique()-10000] = 1\r\n",
        "problem.shape"
      ],
      "execution_count": 129,
      "outputs": [
        {
          "output_type": "execute_result",
          "data": {
            "text/plain": [
              "(15000,)"
            ]
          },
          "metadata": {
            "tags": []
          },
          "execution_count": 129
        }
      ]
    },
    {
      "cell_type": "code",
      "metadata": {
        "id": "A68xXUdYo56j"
      },
      "source": [
        "train_x = train_comb_encode.copy()\r\n",
        "train_y = problem"
      ],
      "execution_count": 130,
      "outputs": []
    },
    {
      "cell_type": "code",
      "metadata": {
        "id": "EPdplV8ds8L3"
      },
      "source": [
        "test_x = test_comb_encode.copy()"
      ],
      "execution_count": 131,
      "outputs": []
    },
    {
      "cell_type": "code",
      "metadata": {
        "colab": {
          "base_uri": "https://localhost:8080/"
        },
        "id": "qARM2FmZzP8f",
        "outputId": "5cebeb21-5ef8-4557-fd1d-fae9e4844fc1"
      },
      "source": [
        "print(train_x.shape)\r\n",
        "print(test_x.shape)"
      ],
      "execution_count": 132,
      "outputs": [
        {
          "output_type": "stream",
          "text": [
            "(15000, 234)\n",
            "(14999, 234)\n"
          ],
          "name": "stdout"
        }
      ]
    },
    {
      "cell_type": "code",
      "metadata": {
        "id": "1yTeZCgToNga"
      },
      "source": [
        "# split_size = 0.35\r\n",
        "# n_estimators = 1000\r\n",
        "# metric = 'auc'\r\n",
        "# ESR = 150\r\n",
        "# seed = 20210124\r\n",
        "# nfold = 10\r\n",
        "# parameters = [2, 20, 1000, 0, 0, 0, 0.1, 0.1]\r\n",
        "# \r\n",
        "# def f_pr_auc(probas_pred, y_true):\r\n",
        "#     labels = y_true.get_label()\r\n",
        "#     p, r, _ = precision_recall_curve(labels, probas_pred)\r\n",
        "#     score = auc(r, p)\r\n",
        "#     return \"pr_auc\", score, True\r\n",
        "\r\n",
        "\r\n",
        "# Optimization objective \r\n",
        "def lgb_score(para):\r\n",
        "    parameters = para[0]\r\n",
        "\r\n",
        "    params = {\r\n",
        "        # 'device':'gpu',\r\n",
        "        'objective': 'binary',\r\n",
        "        'metric': \"auc\",\r\n",
        "        'learning_rate': 0.05, \r\n",
        "        'tree_learner': 'serial',\r\n",
        "        'boost_from_average': 'true',\r\n",
        "        # 'num_boost_round': n_estimators,\r\n",
        "        'boosting_type': 'gbdt',#, 'goss', 'dart'],\r\n",
        "        'max_depth': int(parameters[9]),\r\n",
        "        'num_leaves': int(parameters[1]), \r\n",
        "        'n_estimators' : int(parameters[8]),\r\n",
        "        'learning_rate' : parameters[10],\r\n",
        "        # Tree Depth Regularization\r\n",
        "        'subsample_for_bin': int(parameters[2]), # Number of samples for constructing bin\r\n",
        "        'min_data_in_leaf': int(parameters[0]), # Minimum number of data need in a child(min_data_in_leaf) - Must be motified when using a smaller dataset\r\n",
        "        'min_sum_hessian_in_leaf': parameters[7], # Prune by minimum hessian requirement - Minimum sum of instance weight(hessian) needed in a child(leaf)\r\n",
        "\r\n",
        "        # Regularization L1/L2\r\n",
        "        'reg_alpha': parameters[3], # L1 regularization term on weights (0 is no regular)\r\n",
        "        'reg_lambda': parameters[4], # L2 regularization term on weights\r\n",
        "\r\n",
        "        # Row/Column Sampling\r\n",
        "        'bagging_fraction': parameters[5],# Percentage of rows used per iteration frequency.\r\n",
        "        'bagging_freq': 1,# Iteration frequency to update the selected rows.\r\n",
        "        'feature_fraction': parameters[6], # Percentage of columns used per iteration.\r\n",
        "\r\n",
        "\r\n",
        "        # Dart Specific\r\n",
        "    #     'max_drop': list(np.linspace(1, 70, 5).round(0).astype(int)), # Maximum number of dropped trees on one iteration.\r\n",
        "    #     'rate_drop': list(np.linspace(0, .8, 10).round(2)), # Dropout - Probability to to drop a tree on one iteration.\r\n",
        "    #     'skip_drop': list(np.linspace(.4, .6, 3).round(2)), # Probability of skipping any drop on one iteration. \r\n",
        "    #     'uniform_drop': [False], # Uniform weight application for trees.\r\n",
        "\r\n",
        "        # Imbalanced Dependent Variable\r\n",
        "        'is_unbalance': False, \r\n",
        "\r\n",
        "        'nthread': -1, # Multi-threading\r\n",
        "        'verbose': -1, # Logging Iteration Progression\r\n",
        "        # 'seed': seed # Seed for row sampling RNG.\r\n",
        "    }\r\n",
        "    \r\n",
        "    modelstart= time.time()\r\n",
        "    auc_scores = []\r\n",
        "    k_fold = KFold(n_splits=5, shuffle=True)\r\n",
        "    for train_idx, val_idx in k_fold.split(train_x):\r\n",
        "        # train_idx, val_idx = list( k_fold.split(train_x) )[0]\r\n",
        "        # split train, validation set\r\n",
        "        X = train_x.iloc[train_idx,]\r\n",
        "        y = train_y[train_idx,]\r\n",
        "        valid_x = train_x.iloc[val_idx]\r\n",
        "        valid_y = train_y[val_idx]\r\n",
        "\r\n",
        "        d_train= lgb.Dataset(X, y)\r\n",
        "        d_val  = lgb.Dataset(valid_x, valid_y)\r\n",
        "\r\n",
        "        #run traning\r\n",
        "        model = lgb.train(\r\n",
        "                        params,\r\n",
        "                        train_set       = d_train,\r\n",
        "                        num_boost_round = 100,\r\n",
        "                        valid_sets =[d_train, d_val],\r\n",
        "                        valid_names=['train','valid'],\r\n",
        "                        verbose_eval    = 200, \r\n",
        "                        early_stopping_rounds = 10\r\n",
        "                      \r\n",
        "                        )\r\n",
        "        \r\n",
        "        \r\n",
        "        # cal valid prediction\r\n",
        "        valid_prob = model.predict(valid_x)\r\n",
        "        valid_pred = np.where(valid_prob > 0.5, 1, 0)\r\n",
        "\r\n",
        "        # cal scores\r\n",
        "        auc_score = roc_auc_score(valid_y, valid_prob)\r\n",
        "        auc_scores.append(auc_score)\r\n",
        "\r\n",
        "    runtime = (time.time() - modelstart)/60\r\n",
        "\r\n",
        "    # Get Metrics\r\n",
        "    score = np.mean( auc_score )\r\n",
        "    \r\n",
        "    gpyopt_output.append(\r\n",
        "        [\r\n",
        "        score,\r\n",
        "        params,\r\n",
        "        runtime\r\n",
        "        ]\r\n",
        "    )\r\n",
        "\r\n",
        "    return( np.array( score ) )\r\n",
        "\r\n"
      ],
      "execution_count": 133,
      "outputs": []
    },
    {
      "cell_type": "code",
      "metadata": {
        "colab": {
          "base_uri": "https://localhost:8080/"
        },
        "id": "8Z3AsXT8oScw",
        "outputId": "a8615e0b-f773-4cea-dfc0-1a38e55d5501"
      },
      "source": [
        "bds = [ {'name': 'min_data_in_leaf', 'type': 'continuous', 'domain': (1, 100)},\r\n",
        "        {'name': 'num_leaves', 'type': 'discrete', 'domain': (100, 700)},\r\n",
        "        {'name': 'subsample_for_bin', 'type': 'continuous', 'domain': (10, 250)},\r\n",
        "        {'name': 'reg_alpha', 'type': 'continuous', 'domain': (0, 1)},\r\n",
        "        {'name': 'reg_lambda', 'type': 'continuous', 'domain': (0, 10)},\r\n",
        "        {'name': 'bagging_fraction', 'type': 'continuous', 'domain': (.01, 1)},\r\n",
        "        {'name': 'feature_fraction', 'type': 'continuous', 'domain': (.01, 1)},\r\n",
        "        {'name': 'min_sum_hessian_in_leaf', 'type': 'continuous', 'domain': (1, 50)},\r\n",
        "        {'name': 'n_estimators', 'type': 'discrete', 'domain': (1000, 700)},\r\n",
        "        {'name': 'max_depth', 'type': 'discrete', 'domain': (-5, -1)},\r\n",
        "        {'name': 'learning_rate', 'type': 'continuous', 'domain': (0.01, 0.05)}\r\n",
        "\r\n",
        "      ]\r\n",
        "\r\n",
        "# seed = 20210123\r\n",
        "# %xmode Verbose\r\n",
        "gpyopt_output = []\r\n",
        "optimizer = BayesianOptimization(f=lgb_score, \r\n",
        "                                 domain=bds,\r\n",
        "                                 model_type='GP',\r\n",
        "                                 acquisition_type ='EI',\r\n",
        "                                 acquisition_jitter = 0.05,\r\n",
        "                                 maximize=True,\r\n",
        "                                 exact_feval=True\r\n",
        "                                 )\r\n",
        "\r\n",
        "\r\n",
        "# Only 20 iterations because we have 5 initial random points\r\n",
        "optimizer.run_optimization(max_iter=50)\r\n",
        "optimizer.plot_acquisition()\r\n"
      ],
      "execution_count": 134,
      "outputs": [
        {
          "output_type": "stream",
          "text": [
            "Training until validation scores don't improve for 10 rounds.\n",
            "Early stopping, best iteration is:\n",
            "[61]\ttrain's auc: 0.838869\tvalid's auc: 0.818999\n",
            "Training until validation scores don't improve for 10 rounds.\n",
            "Early stopping, best iteration is:\n",
            "[79]\ttrain's auc: 0.841741\tvalid's auc: 0.808184\n",
            "Training until validation scores don't improve for 10 rounds.\n",
            "Early stopping, best iteration is:\n",
            "[116]\ttrain's auc: 0.833852\tvalid's auc: 0.810182\n",
            "Training until validation scores don't improve for 10 rounds.\n",
            "Early stopping, best iteration is:\n",
            "[45]\ttrain's auc: 0.832746\tvalid's auc: 0.788206\n",
            "Training until validation scores don't improve for 10 rounds.\n",
            "Early stopping, best iteration is:\n",
            "[108]\ttrain's auc: 0.858943\tvalid's auc: 0.798887\n",
            "Training until validation scores don't improve for 10 rounds.\n",
            "Early stopping, best iteration is:\n",
            "[141]\ttrain's auc: 0.923243\tvalid's auc: 0.824727\n",
            "Training until validation scores don't improve for 10 rounds.\n",
            "Early stopping, best iteration is:\n",
            "[157]\ttrain's auc: 0.92875\tvalid's auc: 0.829847\n",
            "Training until validation scores don't improve for 10 rounds.\n",
            "Early stopping, best iteration is:\n",
            "[113]\ttrain's auc: 0.910311\tvalid's auc: 0.812374\n",
            "Training until validation scores don't improve for 10 rounds.\n",
            "Early stopping, best iteration is:\n",
            "[165]\ttrain's auc: 0.933031\tvalid's auc: 0.821405\n",
            "Training until validation scores don't improve for 10 rounds.\n",
            "Early stopping, best iteration is:\n",
            "[95]\ttrain's auc: 0.900887\tvalid's auc: 0.811737\n",
            "Training until validation scores don't improve for 10 rounds.\n",
            "[200]\ttrain's auc: 0.857248\tvalid's auc: 0.799875\n",
            "Early stopping, best iteration is:\n",
            "[200]\ttrain's auc: 0.857248\tvalid's auc: 0.799875\n",
            "Training until validation scores don't improve for 10 rounds.\n",
            "Early stopping, best iteration is:\n",
            "[164]\ttrain's auc: 0.84913\tvalid's auc: 0.814718\n",
            "Training until validation scores don't improve for 10 rounds.\n",
            "[200]\ttrain's auc: 0.839716\tvalid's auc: 0.802021\n",
            "Early stopping, best iteration is:\n",
            "[236]\ttrain's auc: 0.846487\tvalid's auc: 0.80438\n",
            "Training until validation scores don't improve for 10 rounds.\n",
            "[200]\ttrain's auc: 0.853362\tvalid's auc: 0.813709\n",
            "Early stopping, best iteration is:\n",
            "[221]\ttrain's auc: 0.856767\tvalid's auc: 0.814791\n",
            "Training until validation scores don't improve for 10 rounds.\n",
            "[200]\ttrain's auc: 0.85639\tvalid's auc: 0.816643\n",
            "Early stopping, best iteration is:\n",
            "[250]\ttrain's auc: 0.864253\tvalid's auc: 0.817668\n",
            "Training until validation scores don't improve for 10 rounds.\n",
            "Early stopping, best iteration is:\n",
            "[152]\ttrain's auc: 0.87517\tvalid's auc: 0.828684\n",
            "Training until validation scores don't improve for 10 rounds.\n",
            "[200]\ttrain's auc: 0.891996\tvalid's auc: 0.799882\n",
            "Early stopping, best iteration is:\n",
            "[214]\ttrain's auc: 0.895407\tvalid's auc: 0.8004\n",
            "Training until validation scores don't improve for 10 rounds.\n",
            "[200]\ttrain's auc: 0.888067\tvalid's auc: 0.831003\n",
            "Early stopping, best iteration is:\n",
            "[207]\ttrain's auc: 0.889804\tvalid's auc: 0.831103\n",
            "Training until validation scores don't improve for 10 rounds.\n",
            "Early stopping, best iteration is:\n",
            "[187]\ttrain's auc: 0.884511\tvalid's auc: 0.821788\n",
            "Training until validation scores don't improve for 10 rounds.\n",
            "Early stopping, best iteration is:\n",
            "[165]\ttrain's auc: 0.880336\tvalid's auc: 0.80454\n",
            "Training until validation scores don't improve for 10 rounds.\n",
            "Early stopping, best iteration is:\n",
            "[12]\ttrain's auc: 0.803567\tvalid's auc: 0.798273\n",
            "Training until validation scores don't improve for 10 rounds.\n",
            "Early stopping, best iteration is:\n",
            "[146]\ttrain's auc: 0.839025\tvalid's auc: 0.806172\n",
            "Training until validation scores don't improve for 10 rounds.\n",
            "[200]\ttrain's auc: 0.84965\tvalid's auc: 0.797129\n",
            "Early stopping, best iteration is:\n",
            "[299]\ttrain's auc: 0.864229\tvalid's auc: 0.799962\n",
            "Training until validation scores don't improve for 10 rounds.\n",
            "Early stopping, best iteration is:\n",
            "[65]\ttrain's auc: 0.82115\tvalid's auc: 0.81108\n",
            "Training until validation scores don't improve for 10 rounds.\n",
            "[200]\ttrain's auc: 0.849463\tvalid's auc: 0.805098\n",
            "Early stopping, best iteration is:\n",
            "[302]\ttrain's auc: 0.863569\tvalid's auc: 0.808216\n",
            "Training until validation scores don't improve for 10 rounds.\n",
            "[200]\ttrain's auc: 0.838279\tvalid's auc: 0.811966\n",
            "Early stopping, best iteration is:\n",
            "[226]\ttrain's auc: 0.843008\tvalid's auc: 0.813425\n",
            "Training until validation scores don't improve for 10 rounds.\n",
            "Early stopping, best iteration is:\n",
            "[26]\ttrain's auc: 0.793938\tvalid's auc: 0.776735\n",
            "Training until validation scores don't improve for 10 rounds.\n",
            "Early stopping, best iteration is:\n",
            "[29]\ttrain's auc: 0.79129\tvalid's auc: 0.770498\n",
            "Training until validation scores don't improve for 10 rounds.\n",
            "Early stopping, best iteration is:\n",
            "[162]\ttrain's auc: 0.832778\tvalid's auc: 0.797694\n",
            "Training until validation scores don't improve for 10 rounds.\n",
            "Early stopping, best iteration is:\n",
            "[12]\ttrain's auc: 0.785829\tvalid's auc: 0.781425\n",
            "Training until validation scores don't improve for 10 rounds.\n",
            "[200]\ttrain's auc: 0.851184\tvalid's auc: 0.819268\n",
            "Early stopping, best iteration is:\n",
            "[213]\ttrain's auc: 0.85342\tvalid's auc: 0.820183\n",
            "Training until validation scores don't improve for 10 rounds.\n",
            "[200]\ttrain's auc: 0.853125\tvalid's auc: 0.805388\n",
            "Early stopping, best iteration is:\n",
            "[211]\ttrain's auc: 0.855044\tvalid's auc: 0.805631\n",
            "Training until validation scores don't improve for 10 rounds.\n",
            "Early stopping, best iteration is:\n",
            "[10]\ttrain's auc: 0.781374\tvalid's auc: 0.769506\n",
            "Training until validation scores don't improve for 10 rounds.\n",
            "Early stopping, best iteration is:\n",
            "[109]\ttrain's auc: 0.83596\tvalid's auc: 0.81334\n",
            "Training until validation scores don't improve for 10 rounds.\n",
            "Early stopping, best iteration is:\n",
            "[138]\ttrain's auc: 0.843623\tvalid's auc: 0.799307\n",
            "Training until validation scores don't improve for 10 rounds.\n",
            "Early stopping, best iteration is:\n",
            "[155]\ttrain's auc: 0.902554\tvalid's auc: 0.826068\n",
            "Training until validation scores don't improve for 10 rounds.\n",
            "Early stopping, best iteration is:\n",
            "[150]\ttrain's auc: 0.900618\tvalid's auc: 0.817714\n",
            "Training until validation scores don't improve for 10 rounds.\n",
            "Early stopping, best iteration is:\n",
            "[159]\ttrain's auc: 0.90381\tvalid's auc: 0.811155\n",
            "Training until validation scores don't improve for 10 rounds.\n",
            "Early stopping, best iteration is:\n",
            "[98]\ttrain's auc: 0.879279\tvalid's auc: 0.828163\n",
            "Training until validation scores don't improve for 10 rounds.\n",
            "Early stopping, best iteration is:\n",
            "[139]\ttrain's auc: 0.895962\tvalid's auc: 0.820977\n",
            "Training until validation scores don't improve for 10 rounds.\n",
            "Early stopping, best iteration is:\n",
            "[96]\ttrain's auc: 0.870601\tvalid's auc: 0.823557\n",
            "Training until validation scores don't improve for 10 rounds.\n",
            "Early stopping, best iteration is:\n",
            "[101]\ttrain's auc: 0.870671\tvalid's auc: 0.819145\n",
            "Training until validation scores don't improve for 10 rounds.\n",
            "Early stopping, best iteration is:\n",
            "[153]\ttrain's auc: 0.893943\tvalid's auc: 0.813633\n",
            "Training until validation scores don't improve for 10 rounds.\n",
            "Early stopping, best iteration is:\n",
            "[134]\ttrain's auc: 0.886805\tvalid's auc: 0.817003\n",
            "Training until validation scores don't improve for 10 rounds.\n",
            "Early stopping, best iteration is:\n",
            "[155]\ttrain's auc: 0.892464\tvalid's auc: 0.818416\n",
            "Training until validation scores don't improve for 10 rounds.\n",
            "Early stopping, best iteration is:\n",
            "[173]\ttrain's auc: 0.862737\tvalid's auc: 0.804196\n",
            "Training until validation scores don't improve for 10 rounds.\n",
            "Early stopping, best iteration is:\n",
            "[166]\ttrain's auc: 0.858312\tvalid's auc: 0.825936\n",
            "Training until validation scores don't improve for 10 rounds.\n",
            "[200]\ttrain's auc: 0.868363\tvalid's auc: 0.805557\n",
            "Early stopping, best iteration is:\n",
            "[193]\ttrain's auc: 0.866813\tvalid's auc: 0.80569\n",
            "Training until validation scores don't improve for 10 rounds.\n",
            "Early stopping, best iteration is:\n",
            "[112]\ttrain's auc: 0.845144\tvalid's auc: 0.814651\n",
            "Training until validation scores don't improve for 10 rounds.\n",
            "Early stopping, best iteration is:\n",
            "[163]\ttrain's auc: 0.85984\tvalid's auc: 0.808835\n",
            "Training until validation scores don't improve for 10 rounds.\n",
            "Early stopping, best iteration is:\n",
            "[121]\ttrain's auc: 0.909885\tvalid's auc: 0.814\n",
            "Training until validation scores don't improve for 10 rounds.\n",
            "Early stopping, best iteration is:\n",
            "[78]\ttrain's auc: 0.889556\tvalid's auc: 0.824346\n",
            "Training until validation scores don't improve for 10 rounds.\n",
            "Early stopping, best iteration is:\n",
            "[98]\ttrain's auc: 0.896695\tvalid's auc: 0.813656\n",
            "Training until validation scores don't improve for 10 rounds.\n",
            "Early stopping, best iteration is:\n",
            "[105]\ttrain's auc: 0.902633\tvalid's auc: 0.824536\n",
            "Training until validation scores don't improve for 10 rounds.\n",
            "Early stopping, best iteration is:\n",
            "[132]\ttrain's auc: 0.916425\tvalid's auc: 0.811964\n",
            "Training until validation scores don't improve for 10 rounds.\n",
            "Early stopping, best iteration is:\n",
            "[42]\ttrain's auc: 0.857434\tvalid's auc: 0.806603\n",
            "Training until validation scores don't improve for 10 rounds.\n",
            "Early stopping, best iteration is:\n",
            "[108]\ttrain's auc: 0.898352\tvalid's auc: 0.831971\n",
            "Training until validation scores don't improve for 10 rounds.\n",
            "Early stopping, best iteration is:\n",
            "[137]\ttrain's auc: 0.912245\tvalid's auc: 0.81476\n",
            "Training until validation scores don't improve for 10 rounds.\n",
            "Early stopping, best iteration is:\n",
            "[110]\ttrain's auc: 0.899773\tvalid's auc: 0.817944\n",
            "Training until validation scores don't improve for 10 rounds.\n",
            "Early stopping, best iteration is:\n",
            "[111]\ttrain's auc: 0.900043\tvalid's auc: 0.817144\n",
            "Training until validation scores don't improve for 10 rounds.\n",
            "Early stopping, best iteration is:\n",
            "[70]\ttrain's auc: 0.883858\tvalid's auc: 0.800038\n",
            "Training until validation scores don't improve for 10 rounds.\n",
            "Early stopping, best iteration is:\n",
            "[129]\ttrain's auc: 0.911279\tvalid's auc: 0.8081\n",
            "Training until validation scores don't improve for 10 rounds.\n",
            "Early stopping, best iteration is:\n",
            "[104]\ttrain's auc: 0.900174\tvalid's auc: 0.818004\n",
            "Training until validation scores don't improve for 10 rounds.\n",
            "Early stopping, best iteration is:\n",
            "[122]\ttrain's auc: 0.904763\tvalid's auc: 0.820546\n",
            "Training until validation scores don't improve for 10 rounds.\n",
            "Early stopping, best iteration is:\n",
            "[97]\ttrain's auc: 0.894317\tvalid's auc: 0.844773\n",
            "Training until validation scores don't improve for 10 rounds.\n",
            "[200]\ttrain's auc: 0.830291\tvalid's auc: 0.803826\n",
            "[400]\ttrain's auc: 0.849106\tvalid's auc: 0.813138\n",
            "Early stopping, best iteration is:\n",
            "[450]\ttrain's auc: 0.85345\tvalid's auc: 0.814918\n",
            "Training until validation scores don't improve for 10 rounds.\n",
            "[200]\ttrain's auc: 0.833167\tvalid's auc: 0.797405\n",
            "Early stopping, best iteration is:\n",
            "[332]\ttrain's auc: 0.846849\tvalid's auc: 0.802245\n",
            "Training until validation scores don't improve for 10 rounds.\n",
            "Early stopping, best iteration is:\n",
            "[35]\ttrain's auc: 0.804981\tvalid's auc: 0.803415\n",
            "Training until validation scores don't improve for 10 rounds.\n",
            "[200]\ttrain's auc: 0.831699\tvalid's auc: 0.808495\n",
            "Early stopping, best iteration is:\n",
            "[228]\ttrain's auc: 0.834799\tvalid's auc: 0.809878\n",
            "Training until validation scores don't improve for 10 rounds.\n",
            "[200]\ttrain's auc: 0.83175\tvalid's auc: 0.797473\n",
            "Early stopping, best iteration is:\n",
            "[292]\ttrain's auc: 0.841866\tvalid's auc: 0.800812\n",
            "Training until validation scores don't improve for 10 rounds.\n",
            "[200]\ttrain's auc: 0.841617\tvalid's auc: 0.807415\n",
            "Early stopping, best iteration is:\n",
            "[190]\ttrain's auc: 0.840016\tvalid's auc: 0.807445\n",
            "Training until validation scores don't improve for 10 rounds.\n",
            "Early stopping, best iteration is:\n",
            "[180]\ttrain's auc: 0.841355\tvalid's auc: 0.790602\n",
            "Training until validation scores don't improve for 10 rounds.\n",
            "[200]\ttrain's auc: 0.834855\tvalid's auc: 0.802935\n",
            "Early stopping, best iteration is:\n",
            "[194]\ttrain's auc: 0.834108\tvalid's auc: 0.803143\n",
            "Training until validation scores don't improve for 10 rounds.\n",
            "Early stopping, best iteration is:\n",
            "[131]\ttrain's auc: 0.829722\tvalid's auc: 0.818336\n",
            "Training until validation scores don't improve for 10 rounds.\n",
            "Early stopping, best iteration is:\n",
            "[184]\ttrain's auc: 0.827696\tvalid's auc: 0.811512\n",
            "Training until validation scores don't improve for 10 rounds.\n",
            "Early stopping, best iteration is:\n",
            "[110]\ttrain's auc: 0.875454\tvalid's auc: 0.807991\n",
            "Training until validation scores don't improve for 10 rounds.\n",
            "Early stopping, best iteration is:\n",
            "[165]\ttrain's auc: 0.892565\tvalid's auc: 0.826126\n",
            "Training until validation scores don't improve for 10 rounds.\n",
            "Early stopping, best iteration is:\n",
            "[132]\ttrain's auc: 0.880655\tvalid's auc: 0.820783\n",
            "Training until validation scores don't improve for 10 rounds.\n",
            "Early stopping, best iteration is:\n",
            "[135]\ttrain's auc: 0.882739\tvalid's auc: 0.818989\n",
            "Training until validation scores don't improve for 10 rounds.\n",
            "Early stopping, best iteration is:\n",
            "[121]\ttrain's auc: 0.87999\tvalid's auc: 0.807434\n",
            "Training until validation scores don't improve for 10 rounds.\n",
            "[200]\ttrain's auc: 0.829947\tvalid's auc: 0.80573\n",
            "Early stopping, best iteration is:\n",
            "[355]\ttrain's auc: 0.846866\tvalid's auc: 0.813309\n",
            "Training until validation scores don't improve for 10 rounds.\n",
            "[200]\ttrain's auc: 0.831613\tvalid's auc: 0.800831\n",
            "Early stopping, best iteration is:\n",
            "[388]\ttrain's auc: 0.851109\tvalid's auc: 0.806978\n",
            "Training until validation scores don't improve for 10 rounds.\n",
            "Early stopping, best iteration is:\n",
            "[28]\ttrain's auc: 0.803109\tvalid's auc: 0.796439\n",
            "Training until validation scores don't improve for 10 rounds.\n",
            "[200]\ttrain's auc: 0.831597\tvalid's auc: 0.803768\n",
            "Early stopping, best iteration is:\n",
            "[331]\ttrain's auc: 0.846428\tvalid's auc: 0.808268\n",
            "Training until validation scores don't improve for 10 rounds.\n",
            "Early stopping, best iteration is:\n",
            "[44]\ttrain's auc: 0.807918\tvalid's auc: 0.791442\n",
            "Training until validation scores don't improve for 10 rounds.\n",
            "Early stopping, best iteration is:\n",
            "[79]\ttrain's auc: 0.886466\tvalid's auc: 0.822466\n",
            "Training until validation scores don't improve for 10 rounds.\n",
            "Early stopping, best iteration is:\n",
            "[130]\ttrain's auc: 0.909848\tvalid's auc: 0.816687\n",
            "Training until validation scores don't improve for 10 rounds.\n",
            "Early stopping, best iteration is:\n",
            "[95]\ttrain's auc: 0.89381\tvalid's auc: 0.822655\n",
            "Training until validation scores don't improve for 10 rounds.\n",
            "Early stopping, best iteration is:\n",
            "[170]\ttrain's auc: 0.926274\tvalid's auc: 0.814542\n",
            "Training until validation scores don't improve for 10 rounds.\n",
            "Early stopping, best iteration is:\n",
            "[94]\ttrain's auc: 0.895229\tvalid's auc: 0.81886\n",
            "Training until validation scores don't improve for 10 rounds.\n",
            "Early stopping, best iteration is:\n",
            "[4]\ttrain's auc: 0.678403\tvalid's auc: 0.686046\n",
            "Training until validation scores don't improve for 10 rounds.\n",
            "Early stopping, best iteration is:\n",
            "[9]\ttrain's auc: 0.681106\tvalid's auc: 0.675498\n",
            "Training until validation scores don't improve for 10 rounds.\n",
            "Early stopping, best iteration is:\n",
            "[69]\ttrain's auc: 0.704101\tvalid's auc: 0.69889\n",
            "Training until validation scores don't improve for 10 rounds.\n",
            "Early stopping, best iteration is:\n",
            "[167]\ttrain's auc: 0.713463\tvalid's auc: 0.709886\n",
            "Training until validation scores don't improve for 10 rounds.\n",
            "Early stopping, best iteration is:\n",
            "[175]\ttrain's auc: 0.710926\tvalid's auc: 0.710852\n",
            "Training until validation scores don't improve for 10 rounds.\n",
            "[200]\ttrain's auc: 0.86065\tvalid's auc: 0.825273\n",
            "Early stopping, best iteration is:\n",
            "[204]\ttrain's auc: 0.861492\tvalid's auc: 0.825565\n",
            "Training until validation scores don't improve for 10 rounds.\n",
            "Early stopping, best iteration is:\n",
            "[185]\ttrain's auc: 0.858651\tvalid's auc: 0.799009\n",
            "Training until validation scores don't improve for 10 rounds.\n",
            "Early stopping, best iteration is:\n",
            "[133]\ttrain's auc: 0.848016\tvalid's auc: 0.804726\n",
            "Training until validation scores don't improve for 10 rounds.\n",
            "[200]\ttrain's auc: 0.862668\tvalid's auc: 0.811969\n",
            "Early stopping, best iteration is:\n",
            "[262]\ttrain's auc: 0.873217\tvalid's auc: 0.814521\n",
            "Training until validation scores don't improve for 10 rounds.\n",
            "Early stopping, best iteration is:\n",
            "[177]\ttrain's auc: 0.855268\tvalid's auc: 0.81392\n",
            "Training until validation scores don't improve for 10 rounds.\n",
            "Early stopping, best iteration is:\n",
            "[35]\ttrain's auc: 0.81868\tvalid's auc: 0.779608\n",
            "Training until validation scores don't improve for 10 rounds.\n",
            "[200]\ttrain's auc: 0.852525\tvalid's auc: 0.812186\n",
            "[400]\ttrain's auc: 0.87807\tvalid's auc: 0.818012\n",
            "Early stopping, best iteration is:\n",
            "[421]\ttrain's auc: 0.880268\tvalid's auc: 0.818218\n",
            "Training until validation scores don't improve for 10 rounds.\n",
            "Early stopping, best iteration is:\n",
            "[11]\ttrain's auc: 0.798793\tvalid's auc: 0.801499\n",
            "Training until validation scores don't improve for 10 rounds.\n",
            "[200]\ttrain's auc: 0.854478\tvalid's auc: 0.802955\n",
            "Early stopping, best iteration is:\n",
            "[252]\ttrain's auc: 0.862293\tvalid's auc: 0.80438\n",
            "Training until validation scores don't improve for 10 rounds.\n",
            "Early stopping, best iteration is:\n",
            "[9]\ttrain's auc: 0.780105\tvalid's auc: 0.789603\n",
            "Training until validation scores don't improve for 10 rounds.\n",
            "Early stopping, best iteration is:\n",
            "[108]\ttrain's auc: 0.901124\tvalid's auc: 0.809968\n",
            "Training until validation scores don't improve for 10 rounds.\n",
            "Early stopping, best iteration is:\n",
            "[87]\ttrain's auc: 0.888426\tvalid's auc: 0.825945\n",
            "Training until validation scores don't improve for 10 rounds.\n",
            "Early stopping, best iteration is:\n",
            "[79]\ttrain's auc: 0.887233\tvalid's auc: 0.81655\n",
            "Training until validation scores don't improve for 10 rounds.\n",
            "Early stopping, best iteration is:\n",
            "[119]\ttrain's auc: 0.908261\tvalid's auc: 0.822325\n",
            "Training until validation scores don't improve for 10 rounds.\n",
            "Early stopping, best iteration is:\n",
            "[116]\ttrain's auc: 0.905851\tvalid's auc: 0.823568\n",
            "Training until validation scores don't improve for 10 rounds.\n",
            "Early stopping, best iteration is:\n",
            "[184]\ttrain's auc: 0.881498\tvalid's auc: 0.819506\n",
            "Training until validation scores don't improve for 10 rounds.\n",
            "Early stopping, best iteration is:\n",
            "[114]\ttrain's auc: 0.862944\tvalid's auc: 0.80603\n",
            "Training until validation scores don't improve for 10 rounds.\n",
            "Early stopping, best iteration is:\n",
            "[142]\ttrain's auc: 0.867922\tvalid's auc: 0.820076\n",
            "Training until validation scores don't improve for 10 rounds.\n",
            "Early stopping, best iteration is:\n",
            "[158]\ttrain's auc: 0.872202\tvalid's auc: 0.81828\n",
            "Training until validation scores don't improve for 10 rounds.\n",
            "Early stopping, best iteration is:\n",
            "[98]\ttrain's auc: 0.857472\tvalid's auc: 0.804273\n",
            "Training until validation scores don't improve for 10 rounds.\n",
            "Early stopping, best iteration is:\n",
            "[1]\ttrain's auc: 0.5\tvalid's auc: 0.5\n",
            "Training until validation scores don't improve for 10 rounds.\n",
            "Early stopping, best iteration is:\n",
            "[1]\ttrain's auc: 0.5\tvalid's auc: 0.5\n",
            "Training until validation scores don't improve for 10 rounds.\n",
            "Early stopping, best iteration is:\n",
            "[1]\ttrain's auc: 0.5\tvalid's auc: 0.5\n",
            "Training until validation scores don't improve for 10 rounds.\n",
            "Early stopping, best iteration is:\n",
            "[1]\ttrain's auc: 0.5\tvalid's auc: 0.5\n",
            "Training until validation scores don't improve for 10 rounds.\n",
            "Early stopping, best iteration is:\n",
            "[1]\ttrain's auc: 0.5\tvalid's auc: 0.5\n",
            "Training until validation scores don't improve for 10 rounds.\n",
            "Early stopping, best iteration is:\n",
            "[113]\ttrain's auc: 0.888891\tvalid's auc: 0.829314\n",
            "Training until validation scores don't improve for 10 rounds.\n",
            "Early stopping, best iteration is:\n",
            "[160]\ttrain's auc: 0.907966\tvalid's auc: 0.814218\n",
            "Training until validation scores don't improve for 10 rounds.\n",
            "Early stopping, best iteration is:\n",
            "[128]\ttrain's auc: 0.894966\tvalid's auc: 0.817193\n",
            "Training until validation scores don't improve for 10 rounds.\n",
            "Early stopping, best iteration is:\n",
            "[113]\ttrain's auc: 0.890586\tvalid's auc: 0.823554\n",
            "Training until validation scores don't improve for 10 rounds.\n",
            "Early stopping, best iteration is:\n",
            "[96]\ttrain's auc: 0.883935\tvalid's auc: 0.814738\n",
            "Training until validation scores don't improve for 10 rounds.\n",
            "Early stopping, best iteration is:\n",
            "[1]\ttrain's auc: 0.5\tvalid's auc: 0.5\n",
            "Training until validation scores don't improve for 10 rounds.\n",
            "Early stopping, best iteration is:\n",
            "[1]\ttrain's auc: 0.5\tvalid's auc: 0.5\n",
            "Training until validation scores don't improve for 10 rounds.\n",
            "Early stopping, best iteration is:\n",
            "[1]\ttrain's auc: 0.5\tvalid's auc: 0.5\n",
            "Training until validation scores don't improve for 10 rounds.\n",
            "Early stopping, best iteration is:\n",
            "[1]\ttrain's auc: 0.5\tvalid's auc: 0.5\n",
            "Training until validation scores don't improve for 10 rounds.\n",
            "Early stopping, best iteration is:\n",
            "[1]\ttrain's auc: 0.5\tvalid's auc: 0.5\n",
            "Training until validation scores don't improve for 10 rounds.\n",
            "[200]\ttrain's auc: 0.86785\tvalid's auc: 0.80043\n",
            "Early stopping, best iteration is:\n",
            "[343]\ttrain's auc: 0.891707\tvalid's auc: 0.805561\n",
            "Training until validation scores don't improve for 10 rounds.\n",
            "Early stopping, best iteration is:\n",
            "[109]\ttrain's auc: 0.850393\tvalid's auc: 0.798434\n",
            "Training until validation scores don't improve for 10 rounds.\n",
            "Early stopping, best iteration is:\n",
            "[182]\ttrain's auc: 0.863795\tvalid's auc: 0.816307\n",
            "Training until validation scores don't improve for 10 rounds.\n",
            "[200]\ttrain's auc: 0.864523\tvalid's auc: 0.826273\n",
            "Early stopping, best iteration is:\n",
            "[194]\ttrain's auc: 0.86343\tvalid's auc: 0.826423\n",
            "Training until validation scores don't improve for 10 rounds.\n",
            "[200]\ttrain's auc: 0.869284\tvalid's auc: 0.819203\n",
            "Early stopping, best iteration is:\n",
            "[253]\ttrain's auc: 0.879339\tvalid's auc: 0.821881\n",
            "Training until validation scores don't improve for 10 rounds.\n",
            "Early stopping, best iteration is:\n",
            "[125]\ttrain's auc: 0.90137\tvalid's auc: 0.812955\n",
            "Training until validation scores don't improve for 10 rounds.\n",
            "Early stopping, best iteration is:\n",
            "[161]\ttrain's auc: 0.916094\tvalid's auc: 0.81327\n",
            "Training until validation scores don't improve for 10 rounds.\n",
            "Early stopping, best iteration is:\n",
            "[132]\ttrain's auc: 0.900981\tvalid's auc: 0.820126\n",
            "Training until validation scores don't improve for 10 rounds.\n",
            "Early stopping, best iteration is:\n",
            "[52]\ttrain's auc: 0.863431\tvalid's auc: 0.806337\n",
            "Training until validation scores don't improve for 10 rounds.\n",
            "Early stopping, best iteration is:\n",
            "[143]\ttrain's auc: 0.906\tvalid's auc: 0.831952\n",
            "Training until validation scores don't improve for 10 rounds.\n",
            "Early stopping, best iteration is:\n",
            "[119]\ttrain's auc: 0.90651\tvalid's auc: 0.814388\n",
            "Training until validation scores don't improve for 10 rounds.\n",
            "Early stopping, best iteration is:\n",
            "[155]\ttrain's auc: 0.925091\tvalid's auc: 0.815358\n",
            "Training until validation scores don't improve for 10 rounds.\n",
            "Early stopping, best iteration is:\n",
            "[124]\ttrain's auc: 0.909801\tvalid's auc: 0.821908\n",
            "Training until validation scores don't improve for 10 rounds.\n",
            "Early stopping, best iteration is:\n",
            "[13]\ttrain's auc: 0.841044\tvalid's auc: 0.797225\n",
            "Training until validation scores don't improve for 10 rounds.\n",
            "Early stopping, best iteration is:\n",
            "[142]\ttrain's auc: 0.920057\tvalid's auc: 0.816728\n",
            "Training until validation scores don't improve for 10 rounds.\n",
            "Early stopping, best iteration is:\n",
            "[114]\ttrain's auc: 0.90254\tvalid's auc: 0.809513\n",
            "Training until validation scores don't improve for 10 rounds.\n",
            "Early stopping, best iteration is:\n",
            "[117]\ttrain's auc: 0.900535\tvalid's auc: 0.820184\n",
            "Training until validation scores don't improve for 10 rounds.\n",
            "Early stopping, best iteration is:\n",
            "[111]\ttrain's auc: 0.900368\tvalid's auc: 0.822897\n",
            "Training until validation scores don't improve for 10 rounds.\n",
            "Early stopping, best iteration is:\n",
            "[104]\ttrain's auc: 0.899691\tvalid's auc: 0.811611\n",
            "Training until validation scores don't improve for 10 rounds.\n",
            "Early stopping, best iteration is:\n",
            "[110]\ttrain's auc: 0.898464\tvalid's auc: 0.825807\n",
            "Training until validation scores don't improve for 10 rounds.\n",
            "Early stopping, best iteration is:\n",
            "[110]\ttrain's auc: 0.897416\tvalid's auc: 0.820758\n",
            "Training until validation scores don't improve for 10 rounds.\n",
            "Early stopping, best iteration is:\n",
            "[101]\ttrain's auc: 0.895603\tvalid's auc: 0.811559\n",
            "Training until validation scores don't improve for 10 rounds.\n",
            "Early stopping, best iteration is:\n",
            "[139]\ttrain's auc: 0.911651\tvalid's auc: 0.820334\n",
            "Training until validation scores don't improve for 10 rounds.\n",
            "Early stopping, best iteration is:\n",
            "[94]\ttrain's auc: 0.889666\tvalid's auc: 0.82564\n",
            "Training until validation scores don't improve for 10 rounds.\n",
            "Early stopping, best iteration is:\n",
            "[117]\ttrain's auc: 0.90171\tvalid's auc: 0.827771\n",
            "Training until validation scores don't improve for 10 rounds.\n",
            "Early stopping, best iteration is:\n",
            "[138]\ttrain's auc: 0.90806\tvalid's auc: 0.824091\n",
            "Training until validation scores don't improve for 10 rounds.\n",
            "Early stopping, best iteration is:\n",
            "[119]\ttrain's auc: 0.898446\tvalid's auc: 0.823803\n",
            "Training until validation scores don't improve for 10 rounds.\n",
            "Early stopping, best iteration is:\n",
            "[154]\ttrain's auc: 0.914372\tvalid's auc: 0.816207\n",
            "Training until validation scores don't improve for 10 rounds.\n",
            "Early stopping, best iteration is:\n",
            "[106]\ttrain's auc: 0.891513\tvalid's auc: 0.811782\n",
            "Training until validation scores don't improve for 10 rounds.\n",
            "Early stopping, best iteration is:\n",
            "[93]\ttrain's auc: 0.888395\tvalid's auc: 0.808404\n",
            "Training until validation scores don't improve for 10 rounds.\n",
            "Early stopping, best iteration is:\n",
            "[67]\ttrain's auc: 0.879903\tvalid's auc: 0.826333\n",
            "Training until validation scores don't improve for 10 rounds.\n",
            "Early stopping, best iteration is:\n",
            "[135]\ttrain's auc: 0.916372\tvalid's auc: 0.8198\n",
            "Training until validation scores don't improve for 10 rounds.\n",
            "Early stopping, best iteration is:\n",
            "[129]\ttrain's auc: 0.914937\tvalid's auc: 0.822742\n",
            "Training until validation scores don't improve for 10 rounds.\n",
            "Early stopping, best iteration is:\n",
            "[125]\ttrain's auc: 0.911514\tvalid's auc: 0.81801\n",
            "Training until validation scores don't improve for 10 rounds.\n",
            "Early stopping, best iteration is:\n",
            "[91]\ttrain's auc: 0.896628\tvalid's auc: 0.81158\n",
            "Training until validation scores don't improve for 10 rounds.\n",
            "[200]\ttrain's auc: 0.868239\tvalid's auc: 0.805007\n",
            "Early stopping, best iteration is:\n",
            "[264]\ttrain's auc: 0.879613\tvalid's auc: 0.806721\n",
            "Training until validation scores don't improve for 10 rounds.\n",
            "[200]\ttrain's auc: 0.86963\tvalid's auc: 0.815183\n",
            "Early stopping, best iteration is:\n",
            "[200]\ttrain's auc: 0.86963\tvalid's auc: 0.815183\n",
            "Training until validation scores don't improve for 10 rounds.\n",
            "Early stopping, best iteration is:\n",
            "[134]\ttrain's auc: 0.853286\tvalid's auc: 0.80887\n",
            "Training until validation scores don't improve for 10 rounds.\n",
            "Early stopping, best iteration is:\n",
            "[173]\ttrain's auc: 0.860629\tvalid's auc: 0.804163\n",
            "Training until validation scores don't improve for 10 rounds.\n",
            "[200]\ttrain's auc: 0.856795\tvalid's auc: 0.816435\n",
            "Early stopping, best iteration is:\n",
            "[201]\ttrain's auc: 0.857182\tvalid's auc: 0.816511\n",
            "Training until validation scores don't improve for 10 rounds.\n",
            "Early stopping, best iteration is:\n",
            "[99]\ttrain's auc: 0.898366\tvalid's auc: 0.830685\n",
            "Training until validation scores don't improve for 10 rounds.\n",
            "Early stopping, best iteration is:\n",
            "[74]\ttrain's auc: 0.883492\tvalid's auc: 0.824118\n",
            "Training until validation scores don't improve for 10 rounds.\n",
            "Early stopping, best iteration is:\n",
            "[98]\ttrain's auc: 0.901101\tvalid's auc: 0.819104\n",
            "Training until validation scores don't improve for 10 rounds.\n",
            "Early stopping, best iteration is:\n",
            "[135]\ttrain's auc: 0.918359\tvalid's auc: 0.811638\n",
            "Training until validation scores don't improve for 10 rounds.\n",
            "Early stopping, best iteration is:\n",
            "[99]\ttrain's auc: 0.899747\tvalid's auc: 0.806443\n",
            "Training until validation scores don't improve for 10 rounds.\n",
            "Early stopping, best iteration is:\n",
            "[85]\ttrain's auc: 0.892232\tvalid's auc: 0.83014\n",
            "Training until validation scores don't improve for 10 rounds.\n",
            "Early stopping, best iteration is:\n",
            "[128]\ttrain's auc: 0.915202\tvalid's auc: 0.810846\n",
            "Training until validation scores don't improve for 10 rounds.\n",
            "Early stopping, best iteration is:\n",
            "[98]\ttrain's auc: 0.898397\tvalid's auc: 0.8213\n",
            "Training until validation scores don't improve for 10 rounds.\n",
            "Early stopping, best iteration is:\n",
            "[104]\ttrain's auc: 0.904865\tvalid's auc: 0.809832\n",
            "Training until validation scores don't improve for 10 rounds.\n",
            "Early stopping, best iteration is:\n",
            "[123]\ttrain's auc: 0.911144\tvalid's auc: 0.823243\n",
            "Training until validation scores don't improve for 10 rounds.\n",
            "Early stopping, best iteration is:\n",
            "[9]\ttrain's auc: 0.804343\tvalid's auc: 0.808136\n",
            "Training until validation scores don't improve for 10 rounds.\n",
            "Early stopping, best iteration is:\n",
            "[166]\ttrain's auc: 0.859464\tvalid's auc: 0.789048\n",
            "Training until validation scores don't improve for 10 rounds.\n",
            "Early stopping, best iteration is:\n",
            "[10]\ttrain's auc: 0.805141\tvalid's auc: 0.772353\n",
            "Training until validation scores don't improve for 10 rounds.\n",
            "Early stopping, best iteration is:\n",
            "[174]\ttrain's auc: 0.856952\tvalid's auc: 0.826252\n",
            "Training until validation scores don't improve for 10 rounds.\n",
            "Early stopping, best iteration is:\n",
            "[160]\ttrain's auc: 0.855667\tvalid's auc: 0.815084\n",
            "Training until validation scores don't improve for 10 rounds.\n",
            "Early stopping, best iteration is:\n",
            "[36]\ttrain's auc: 0.820463\tvalid's auc: 0.788919\n",
            "Training until validation scores don't improve for 10 rounds.\n",
            "Early stopping, best iteration is:\n",
            "[148]\ttrain's auc: 0.856078\tvalid's auc: 0.812556\n",
            "Training until validation scores don't improve for 10 rounds.\n",
            "Early stopping, best iteration is:\n",
            "[110]\ttrain's auc: 0.846629\tvalid's auc: 0.810181\n",
            "Training until validation scores don't improve for 10 rounds.\n",
            "[200]\ttrain's auc: 0.868643\tvalid's auc: 0.806285\n",
            "Early stopping, best iteration is:\n",
            "[194]\ttrain's auc: 0.867584\tvalid's auc: 0.806497\n",
            "Training until validation scores don't improve for 10 rounds.\n",
            "Early stopping, best iteration is:\n",
            "[166]\ttrain's auc: 0.860766\tvalid's auc: 0.823108\n",
            "Training until validation scores don't improve for 10 rounds.\n",
            "Early stopping, best iteration is:\n",
            "[10]\ttrain's auc: 0.751125\tvalid's auc: 0.735572\n",
            "Training until validation scores don't improve for 10 rounds.\n",
            "Early stopping, best iteration is:\n",
            "[5]\ttrain's auc: 0.757143\tvalid's auc: 0.747323\n",
            "Training until validation scores don't improve for 10 rounds.\n",
            "Early stopping, best iteration is:\n",
            "[10]\ttrain's auc: 0.767546\tvalid's auc: 0.753147\n",
            "Training until validation scores don't improve for 10 rounds.\n",
            "Early stopping, best iteration is:\n",
            "[5]\ttrain's auc: 0.751669\tvalid's auc: 0.756944\n",
            "Training until validation scores don't improve for 10 rounds.\n",
            "Early stopping, best iteration is:\n",
            "[39]\ttrain's auc: 0.775322\tvalid's auc: 0.766429\n",
            "Training until validation scores don't improve for 10 rounds.\n",
            "Early stopping, best iteration is:\n",
            "[15]\ttrain's auc: 0.816568\tvalid's auc: 0.802179\n",
            "Training until validation scores don't improve for 10 rounds.\n",
            "Early stopping, best iteration is:\n",
            "[10]\ttrain's auc: 0.821659\tvalid's auc: 0.795483\n",
            "Training until validation scores don't improve for 10 rounds.\n",
            "Early stopping, best iteration is:\n",
            "[3]\ttrain's auc: 0.813504\tvalid's auc: 0.779385\n",
            "Training until validation scores don't improve for 10 rounds.\n",
            "Early stopping, best iteration is:\n",
            "[34]\ttrain's auc: 0.827417\tvalid's auc: 0.799462\n",
            "Training until validation scores don't improve for 10 rounds.\n",
            "[200]\ttrain's auc: 0.863967\tvalid's auc: 0.804371\n",
            "Early stopping, best iteration is:\n",
            "[384]\ttrain's auc: 0.891682\tvalid's auc: 0.811425\n",
            "Training until validation scores don't improve for 10 rounds.\n",
            "Early stopping, best iteration is:\n",
            "[134]\ttrain's auc: 0.916218\tvalid's auc: 0.810682\n",
            "Training until validation scores don't improve for 10 rounds.\n",
            "Early stopping, best iteration is:\n",
            "[101]\ttrain's auc: 0.898544\tvalid's auc: 0.818332\n",
            "Training until validation scores don't improve for 10 rounds.\n",
            "Early stopping, best iteration is:\n",
            "[89]\ttrain's auc: 0.895663\tvalid's auc: 0.82895\n",
            "Training until validation scores don't improve for 10 rounds.\n",
            "Early stopping, best iteration is:\n",
            "[146]\ttrain's auc: 0.920618\tvalid's auc: 0.81377\n",
            "Training until validation scores don't improve for 10 rounds.\n",
            "Early stopping, best iteration is:\n",
            "[108]\ttrain's auc: 0.905135\tvalid's auc: 0.822663\n",
            "Training until validation scores don't improve for 10 rounds.\n",
            "Early stopping, best iteration is:\n",
            "[24]\ttrain's auc: 0.766001\tvalid's auc: 0.760516\n",
            "Training until validation scores don't improve for 10 rounds.\n",
            "[200]\ttrain's auc: 0.794516\tvalid's auc: 0.780937\n",
            "Early stopping, best iteration is:\n",
            "[274]\ttrain's auc: 0.806461\tvalid's auc: 0.785842\n",
            "Training until validation scores don't improve for 10 rounds.\n",
            "Early stopping, best iteration is:\n",
            "[79]\ttrain's auc: 0.781075\tvalid's auc: 0.776905\n",
            "Training until validation scores don't improve for 10 rounds.\n",
            "[200]\ttrain's auc: 0.800428\tvalid's auc: 0.7668\n",
            "Early stopping, best iteration is:\n",
            "[191]\ttrain's auc: 0.799169\tvalid's auc: 0.7668\n",
            "Training until validation scores don't improve for 10 rounds.\n",
            "Early stopping, best iteration is:\n",
            "[182]\ttrain's auc: 0.80685\tvalid's auc: 0.774571\n",
            "Training until validation scores don't improve for 10 rounds.\n",
            "Early stopping, best iteration is:\n",
            "[161]\ttrain's auc: 0.863029\tvalid's auc: 0.816982\n",
            "Training until validation scores don't improve for 10 rounds.\n",
            "[200]\ttrain's auc: 0.871826\tvalid's auc: 0.807458\n",
            "Early stopping, best iteration is:\n",
            "[215]\ttrain's auc: 0.87492\tvalid's auc: 0.808047\n",
            "Training until validation scores don't improve for 10 rounds.\n",
            "[200]\ttrain's auc: 0.87054\tvalid's auc: 0.819865\n",
            "Early stopping, best iteration is:\n",
            "[239]\ttrain's auc: 0.878859\tvalid's auc: 0.820765\n",
            "Training until validation scores don't improve for 10 rounds.\n",
            "[200]\ttrain's auc: 0.870589\tvalid's auc: 0.812666\n",
            "Early stopping, best iteration is:\n",
            "[247]\ttrain's auc: 0.879944\tvalid's auc: 0.813855\n",
            "Training until validation scores don't improve for 10 rounds.\n",
            "Early stopping, best iteration is:\n",
            "[120]\ttrain's auc: 0.850947\tvalid's auc: 0.812193\n",
            "Training until validation scores don't improve for 10 rounds.\n",
            "Early stopping, best iteration is:\n",
            "[36]\ttrain's auc: 0.699868\tvalid's auc: 0.695199\n",
            "Training until validation scores don't improve for 10 rounds.\n",
            "Early stopping, best iteration is:\n",
            "[10]\ttrain's auc: 0.724684\tvalid's auc: 0.711839\n",
            "Training until validation scores don't improve for 10 rounds.\n",
            "Early stopping, best iteration is:\n",
            "[27]\ttrain's auc: 0.652743\tvalid's auc: 0.643951\n",
            "Training until validation scores don't improve for 10 rounds.\n",
            "Early stopping, best iteration is:\n",
            "[21]\ttrain's auc: 0.682306\tvalid's auc: 0.670538\n",
            "Training until validation scores don't improve for 10 rounds.\n",
            "Early stopping, best iteration is:\n",
            "[26]\ttrain's auc: 0.708448\tvalid's auc: 0.699698\n",
            "Training until validation scores don't improve for 10 rounds.\n",
            "[200]\ttrain's auc: 0.871493\tvalid's auc: 0.826402\n",
            "Early stopping, best iteration is:\n",
            "[223]\ttrain's auc: 0.876499\tvalid's auc: 0.827212\n",
            "Training until validation scores don't improve for 10 rounds.\n",
            "[200]\ttrain's auc: 0.874318\tvalid's auc: 0.803398\n",
            "Early stopping, best iteration is:\n",
            "[227]\ttrain's auc: 0.880052\tvalid's auc: 0.804302\n",
            "Training until validation scores don't improve for 10 rounds.\n",
            "Early stopping, best iteration is:\n",
            "[157]\ttrain's auc: 0.86869\tvalid's auc: 0.823272\n",
            "Training until validation scores don't improve for 10 rounds.\n",
            "[200]\ttrain's auc: 0.876746\tvalid's auc: 0.824901\n",
            "Early stopping, best iteration is:\n",
            "[203]\ttrain's auc: 0.877404\tvalid's auc: 0.825018\n",
            "Training until validation scores don't improve for 10 rounds.\n",
            "Early stopping, best iteration is:\n",
            "[152]\ttrain's auc: 0.865899\tvalid's auc: 0.797873\n",
            "Training until validation scores don't improve for 10 rounds.\n",
            "Early stopping, best iteration is:\n",
            "[97]\ttrain's auc: 0.89463\tvalid's auc: 0.807851\n",
            "Training until validation scores don't improve for 10 rounds.\n",
            "Early stopping, best iteration is:\n",
            "[98]\ttrain's auc: 0.892523\tvalid's auc: 0.817674\n",
            "Training until validation scores don't improve for 10 rounds.\n",
            "Early stopping, best iteration is:\n",
            "[100]\ttrain's auc: 0.894685\tvalid's auc: 0.80613\n",
            "Training until validation scores don't improve for 10 rounds.\n",
            "Early stopping, best iteration is:\n",
            "[158]\ttrain's auc: 0.919654\tvalid's auc: 0.825615\n",
            "Training until validation scores don't improve for 10 rounds.\n",
            "Early stopping, best iteration is:\n",
            "[117]\ttrain's auc: 0.903591\tvalid's auc: 0.830902\n",
            "Training until validation scores don't improve for 10 rounds.\n",
            "Early stopping, best iteration is:\n",
            "[107]\ttrain's auc: 0.923626\tvalid's auc: 0.817905\n",
            "Training until validation scores don't improve for 10 rounds.\n",
            "Early stopping, best iteration is:\n",
            "[81]\ttrain's auc: 0.909518\tvalid's auc: 0.819917\n",
            "Training until validation scores don't improve for 10 rounds.\n",
            "Early stopping, best iteration is:\n",
            "[96]\ttrain's auc: 0.921031\tvalid's auc: 0.804712\n",
            "Training until validation scores don't improve for 10 rounds.\n",
            "Early stopping, best iteration is:\n",
            "[95]\ttrain's auc: 0.917265\tvalid's auc: 0.835081\n",
            "Training until validation scores don't improve for 10 rounds.\n",
            "Early stopping, best iteration is:\n",
            "[120]\ttrain's auc: 0.931971\tvalid's auc: 0.815715\n",
            "Training until validation scores don't improve for 10 rounds.\n",
            "Early stopping, best iteration is:\n",
            "[110]\ttrain's auc: 0.92003\tvalid's auc: 0.803589\n",
            "Training until validation scores don't improve for 10 rounds.\n",
            "Early stopping, best iteration is:\n",
            "[82]\ttrain's auc: 0.901938\tvalid's auc: 0.827275\n",
            "Training until validation scores don't improve for 10 rounds.\n",
            "Early stopping, best iteration is:\n",
            "[138]\ttrain's auc: 0.933015\tvalid's auc: 0.81637\n",
            "Training until validation scores don't improve for 10 rounds.\n",
            "Early stopping, best iteration is:\n",
            "[111]\ttrain's auc: 0.919984\tvalid's auc: 0.813247\n",
            "Training until validation scores don't improve for 10 rounds.\n",
            "Early stopping, best iteration is:\n",
            "[89]\ttrain's auc: 0.907294\tvalid's auc: 0.835495\n",
            "Training until validation scores don't improve for 10 rounds.\n",
            "[200]\ttrain's auc: 0.855225\tvalid's auc: 0.820005\n",
            "Early stopping, best iteration is:\n",
            "[330]\ttrain's auc: 0.876497\tvalid's auc: 0.825039\n",
            "Training until validation scores don't improve for 10 rounds.\n",
            "Early stopping, best iteration is:\n",
            "[14]\ttrain's auc: 0.800569\tvalid's auc: 0.785806\n",
            "Training until validation scores don't improve for 10 rounds.\n",
            "Early stopping, best iteration is:\n",
            "[26]\ttrain's auc: 0.809314\tvalid's auc: 0.788487\n",
            "Training until validation scores don't improve for 10 rounds.\n",
            "Early stopping, best iteration is:\n",
            "[23]\ttrain's auc: 0.811117\tvalid's auc: 0.778739\n",
            "Training until validation scores don't improve for 10 rounds.\n",
            "Early stopping, best iteration is:\n",
            "[26]\ttrain's auc: 0.806929\tvalid's auc: 0.785526\n",
            "Training until validation scores don't improve for 10 rounds.\n",
            "Early stopping, best iteration is:\n",
            "[141]\ttrain's auc: 0.868786\tvalid's auc: 0.80629\n",
            "Training until validation scores don't improve for 10 rounds.\n",
            "Early stopping, best iteration is:\n",
            "[166]\ttrain's auc: 0.875516\tvalid's auc: 0.818034\n",
            "Training until validation scores don't improve for 10 rounds.\n",
            "Early stopping, best iteration is:\n",
            "[175]\ttrain's auc: 0.877163\tvalid's auc: 0.811451\n",
            "Training until validation scores don't improve for 10 rounds.\n",
            "Early stopping, best iteration is:\n",
            "[143]\ttrain's auc: 0.868507\tvalid's auc: 0.819251\n",
            "Training until validation scores don't improve for 10 rounds.\n",
            "Early stopping, best iteration is:\n",
            "[156]\ttrain's auc: 0.869959\tvalid's auc: 0.821962\n",
            "Training until validation scores don't improve for 10 rounds.\n",
            "Early stopping, best iteration is:\n",
            "[10]\ttrain's auc: 0.748945\tvalid's auc: 0.751302\n",
            "Training until validation scores don't improve for 10 rounds.\n",
            "[200]\ttrain's auc: 0.737672\tvalid's auc: 0.751645\n",
            "Early stopping, best iteration is:\n",
            "[196]\ttrain's auc: 0.737455\tvalid's auc: 0.751855\n",
            "Training until validation scores don't improve for 10 rounds.\n",
            "Early stopping, best iteration is:\n",
            "[29]\ttrain's auc: 0.675128\tvalid's auc: 0.646796\n",
            "Training until validation scores don't improve for 10 rounds.\n",
            "Early stopping, best iteration is:\n",
            "[10]\ttrain's auc: 0.719612\tvalid's auc: 0.70324\n",
            "Training until validation scores don't improve for 10 rounds.\n",
            "Early stopping, best iteration is:\n",
            "[24]\ttrain's auc: 0.68875\tvalid's auc: 0.689162\n",
            "Training until validation scores don't improve for 10 rounds.\n",
            "Early stopping, best iteration is:\n",
            "[106]\ttrain's auc: 0.933292\tvalid's auc: 0.830258\n",
            "Training until validation scores don't improve for 10 rounds.\n",
            "Early stopping, best iteration is:\n",
            "[92]\ttrain's auc: 0.926879\tvalid's auc: 0.817481\n",
            "Training until validation scores don't improve for 10 rounds.\n",
            "Early stopping, best iteration is:\n",
            "[76]\ttrain's auc: 0.916291\tvalid's auc: 0.814379\n",
            "Training until validation scores don't improve for 10 rounds.\n",
            "Early stopping, best iteration is:\n",
            "[121]\ttrain's auc: 0.940774\tvalid's auc: 0.823951\n",
            "Training until validation scores don't improve for 10 rounds.\n",
            "Early stopping, best iteration is:\n",
            "[78]\ttrain's auc: 0.917456\tvalid's auc: 0.812344\n",
            "Training until validation scores don't improve for 10 rounds.\n",
            "Early stopping, best iteration is:\n",
            "[156]\ttrain's auc: 0.844313\tvalid's auc: 0.793645\n",
            "Training until validation scores don't improve for 10 rounds.\n",
            "Early stopping, best iteration is:\n",
            "[11]\ttrain's auc: 0.785132\tvalid's auc: 0.790941\n",
            "Training until validation scores don't improve for 10 rounds.\n",
            "Early stopping, best iteration is:\n",
            "[48]\ttrain's auc: 0.798464\tvalid's auc: 0.752244\n",
            "Training until validation scores don't improve for 10 rounds.\n",
            "Early stopping, best iteration is:\n",
            "[14]\ttrain's auc: 0.77991\tvalid's auc: 0.741958\n",
            "Training until validation scores don't improve for 10 rounds.\n",
            "Early stopping, best iteration is:\n",
            "[15]\ttrain's auc: 0.790875\tvalid's auc: 0.749464\n",
            "Training until validation scores don't improve for 10 rounds.\n",
            "Early stopping, best iteration is:\n",
            "[121]\ttrain's auc: 0.90634\tvalid's auc: 0.809951\n",
            "Training until validation scores don't improve for 10 rounds.\n",
            "Early stopping, best iteration is:\n",
            "[128]\ttrain's auc: 0.906467\tvalid's auc: 0.820861\n",
            "Training until validation scores don't improve for 10 rounds.\n",
            "Early stopping, best iteration is:\n",
            "[116]\ttrain's auc: 0.902315\tvalid's auc: 0.825264\n",
            "Training until validation scores don't improve for 10 rounds.\n",
            "Early stopping, best iteration is:\n",
            "[113]\ttrain's auc: 0.901466\tvalid's auc: 0.822645\n",
            "Training until validation scores don't improve for 10 rounds.\n",
            "Early stopping, best iteration is:\n",
            "[86]\ttrain's auc: 0.885648\tvalid's auc: 0.818522\n",
            "Training until validation scores don't improve for 10 rounds.\n",
            "Early stopping, best iteration is:\n",
            "[110]\ttrain's auc: 0.8634\tvalid's auc: 0.815521\n",
            "Training until validation scores don't improve for 10 rounds.\n",
            "Early stopping, best iteration is:\n",
            "[178]\ttrain's auc: 0.889606\tvalid's auc: 0.813434\n",
            "Training until validation scores don't improve for 10 rounds.\n",
            "Early stopping, best iteration is:\n",
            "[169]\ttrain's auc: 0.883624\tvalid's auc: 0.815192\n",
            "Training until validation scores don't improve for 10 rounds.\n",
            "Early stopping, best iteration is:\n",
            "[118]\ttrain's auc: 0.868393\tvalid's auc: 0.823598\n",
            "Training until validation scores don't improve for 10 rounds.\n",
            "Early stopping, best iteration is:\n",
            "[145]\ttrain's auc: 0.876916\tvalid's auc: 0.806613\n"
          ],
          "name": "stdout"
        }
      ]
    },
    {
      "cell_type": "code",
      "metadata": {
        "id": "9atrCp-EoUQJ",
        "colab": {
          "base_uri": "https://localhost:8080/"
        },
        "outputId": "2bb40c7c-5a3a-41ad-98f5-1c053d358553"
      },
      "source": [
        "# Output\r\n",
        "results = pd.DataFrame(gpyopt_output, columns = ['avg_auc', 'parameters', 'runtime'] )\r\n",
        "results.to_csv(\"gpyopt_iterations_output.csv\")\r\n",
        "best_params = results['parameters'].iloc[np.argmax(results.avg_auc)]\r\n",
        "best_params"
      ],
      "execution_count": 135,
      "outputs": [
        {
          "output_type": "execute_result",
          "data": {
            "text/plain": [
              "{'bagging_fraction': 1.0,\n",
              " 'bagging_freq': 1,\n",
              " 'boost_from_average': 'true',\n",
              " 'boosting_type': 'gbdt',\n",
              " 'feature_fraction': 1.0,\n",
              " 'is_unbalance': False,\n",
              " 'learning_rate': 0.05,\n",
              " 'max_depth': -1,\n",
              " 'metric': 'auc',\n",
              " 'min_data_in_leaf': 57,\n",
              " 'min_sum_hessian_in_leaf': 34.086234358169634,\n",
              " 'n_estimators': 700,\n",
              " 'nthread': -1,\n",
              " 'num_leaves': 700,\n",
              " 'objective': 'binary',\n",
              " 'reg_alpha': 1.0,\n",
              " 'reg_lambda': 3.3509106470623164,\n",
              " 'subsample_for_bin': 244,\n",
              " 'tree_learner': 'serial',\n",
              " 'verbose': -1}"
            ]
          },
          "metadata": {
            "tags": []
          },
          "execution_count": 135
        }
      ]
    },
    {
      "cell_type": "code",
      "metadata": {
        "colab": {
          "base_uri": "https://localhost:8080/",
          "height": 741
        },
        "id": "xLVDIpoDoVOZ",
        "outputId": "c8053764-470f-4dd3-90bb-cb020ecba648"
      },
      "source": [
        "import pprint\r\n",
        "\r\n",
        "# Visualize Convergence\r\n",
        "optimizer.plot_convergence()\r\n",
        "\r\n",
        "print(\"Best AUC: {}\".format(optimizer.fx_opt))\r\n",
        "print(\"Best Parameters\")\r\n",
        "pprint.pprint(best_params)"
      ],
      "execution_count": 136,
      "outputs": [
        {
          "output_type": "display_data",
          "data": {
            "image/png": "[encoded data removed]",
            "text/plain": [
              "<Figure size 720x360 with 2 Axes>"
            ]
          },
          "metadata": {
            "tags": [],
            "needs_background": "light"
          }
        },
        {
          "output_type": "stream",
          "text": [
            "Best AUC: -0.8447728233161116\n",
            "Best Parameters\n",
            "{'bagging_fraction': 1.0,\n",
            " 'bagging_freq': 1,\n",
            " 'boost_from_average': 'true',\n",
            " 'boosting_type': 'gbdt',\n",
            " 'feature_fraction': 1.0,\n",
            " 'is_unbalance': False,\n",
            " 'learning_rate': 0.05,\n",
            " 'max_depth': -1,\n",
            " 'metric': 'auc',\n",
            " 'min_data_in_leaf': 57,\n",
            " 'min_sum_hessian_in_leaf': 34.086234358169634,\n",
            " 'n_estimators': 700,\n",
            " 'nthread': -1,\n",
            " 'num_leaves': 700,\n",
            " 'objective': 'binary',\n",
            " 'reg_alpha': 1.0,\n",
            " 'reg_lambda': 3.3509106470623164,\n",
            " 'subsample_for_bin': 244,\n",
            " 'tree_learner': 'serial',\n",
            " 'verbose': -1}\n"
          ],
          "name": "stdout"
        }
      ]
    },
    {
      "cell_type": "code",
      "metadata": {
        "colab": {
          "base_uri": "https://localhost:8080/",
          "height": 667
        },
        "id": "csGrxBU62YUG",
        "outputId": "d70dcf49-1a39-4df4-fd45-add7bb265e0f"
      },
      "source": [
        "d_train= lgb.Dataset(train_x, train_y)\r\n",
        "bestmodel = lgb.train(\r\n",
        "                        best_params,\r\n",
        "                        train_set       = d_train,\r\n",
        "                        num_boost_round = 100,\r\n",
        "                        valid_sets =[d_train],\r\n",
        "                        valid_names=['train'],\r\n",
        "                        verbose_eval    = 200, \r\n",
        "                        early_stopping_rounds = 10\r\n",
        "                        )\r\n",
        "\r\n",
        "import seaborn as sns\r\n",
        "## 변수 중요도 시각화 \r\n",
        "lgb.plot_importance(bestmodel)\r\n",
        "plt.show()\r\n",
        "feature_importance = pd.DataFrame([bestmodel.feature_name() , bestmodel.feature_importance()]).T\r\n",
        "feature_importance.columns = [\"feature\", \"varimp\"]\r\n",
        "feature_importance = feature_importance.sort_values([\"varimp\"], ascending = False)\r\n",
        "sns.barplot(y=\"feature\", x=\"varimp\",data = feature_importance)\r\n",
        "plt.show()"
      ],
      "execution_count": 137,
      "outputs": [
        {
          "output_type": "stream",
          "text": [
            "Training until validation scores don't improve for 10 rounds.\n",
            "[200]\ttrain's auc: 0.937278\n",
            "[400]\ttrain's auc: 0.972981\n",
            "[600]\ttrain's auc: 0.98715\n",
            "Did not meet early stopping. Best iteration is:\n",
            "[700]\ttrain's auc: 0.990858\n"
          ],
          "name": "stdout"
        },
        {
          "output_type": "display_data",
          "data": {
            "image/png": "[encoded data removed]",
            "text/plain": [
              "<Figure size 432x288 with 1 Axes>"
            ]
          },
          "metadata": {
            "tags": [],
            "needs_background": "light"
          }
        },
        {
          "output_type": "display_data",
          "data": {
            "image/png": "[encoded data removed]",
            "text/plain": [
              "<Figure size 432x288 with 1 Axes>"
            ]
          },
          "metadata": {
            "tags": [],
            "needs_background": "light"
          }
        }
      ]
    },
    {
      "cell_type": "markdown",
      "metadata": {
        "id": "qTuIsKtfmAWT"
      },
      "source": [
        "### variable selection"
      ]
    },
    {
      "cell_type": "code",
      "metadata": {
        "id": "c_j_BS672m60"
      },
      "source": [
        "all_features = feature_importance[[\"feature\", \"varimp\"]].sort_values(by=\"varimp\", ascending=False)\r\n",
        "all_features.reset_index(inplace=True)\r\n",
        "important_features = list(all_features['feature'][:200])"
      ],
      "execution_count": 138,
      "outputs": []
    },
    {
      "cell_type": "code",
      "metadata": {
        "colab": {
          "base_uri": "https://localhost:8080/",
          "height": 394
        },
        "id": "xAGQH6cL4hej",
        "outputId": "e8b31322-79ca-479b-d407-c99b60f03e48"
      },
      "source": [
        "li1 = [x for x in train_x.columns if x in important_features]\r\n",
        "df = pd.concat([train_x[li1], pd.Series(train_y)], axis=1)\r\n",
        "corr_matrix = df.corr().abs()\r\n",
        "sns.heatmap(corr_matrix, cmap=\"coolwarm\", square=True, center=0)"
      ],
      "execution_count": 139,
      "outputs": [
        {
          "output_type": "execute_result",
          "data": {
            "text/plain": [
              "<matplotlib.axes._subplots.AxesSubplot at 0x7efffb9d3940>"
            ]
          },
          "metadata": {
            "tags": []
          },
          "execution_count": 139
        },
        {
          "output_type": "display_data",
          "data": {
            "image/png": "[encoded data removed]",
            "text/plain": [
              "<Figure size 432x288 with 2 Axes>"
            ]
          },
          "metadata": {
            "tags": [],
            "needs_background": "light"
          }
        }
      ]
    },
    {
      "cell_type": "code",
      "metadata": {
        "colab": {
          "base_uri": "https://localhost:8080/"
        },
        "id": "8peQl2Nv4m3r",
        "outputId": "23c0066f-5610-4b18-8090-34837ee65abb"
      },
      "source": [
        "# Select upper triangle of correlation matrix\r\n",
        "upper = corr_matrix.where(np.triu(np.ones(corr_matrix.shape), k=1).astype(np.bool))\r\n",
        "upper.columns\r\n",
        "# Find index of feature columns with correlation greater than 0.95\r\n",
        "high_cor = [column for column in upper.columns if any(upper[column] > 0.95)]\r\n",
        "print(len(high_cor))\r\n",
        "print(high_cor)"
      ],
      "execution_count": 140,
      "outputs": [
        {
          "output_type": "stream",
          "text": [
            "38\n",
            "['errtype_12', 'errtype_16', 'errtype_21', 'errtype_23', 'errtype_27', 'errtype_28', 'errtype_37', 'errcode_numeric_0', 'errcode_digits_0', 'errcode_digits_1', 'errcode_digits_4', 'errcode_sparse_0', 'errcode_sparse_80', 'errcode_sparse_85', 'errcode_sparse_B-A8002', 'errcode_sparse_NFANDROID2', 'days_npmean', 'days_npmin', 'days_npmax', 'days_npstd', 'qual_fwver_04.22.1442', 'qual_fwver_04.22.1666', 'qual_fwver_04.33.1125', 'qual_fwver_05.15.2114', 'qual_fwver_05.15.2122', 'quality_0_npstd', 'quality_1_npmin', 'quality_2_npmean', 'quality_2_npmin', 'quality_2_npmax', 'quality_2_npstd', 'quality_6_npmin', 'quality_11_npmin', 'quality_12_npmax', 'qual_days_npmean', 'qual_days_npmin', 'qual_days_npmax', 'qual_days_npstd']\n"
          ],
          "name": "stdout"
        }
      ]
    },
    {
      "cell_type": "code",
      "metadata": {
        "colab": {
          "base_uri": "https://localhost:8080/"
        },
        "id": "NNqQXsn9EH3K",
        "outputId": "9d13a610-c123-42bc-f73e-fcb216fb1ffd"
      },
      "source": [
        "features = [i for i in important_features if i not in high_cor]\r\n",
        "print(len(features))\r\n",
        "print(features)"
      ],
      "execution_count": 141,
      "outputs": [
        {
          "output_type": "stream",
          "text": [
            "162\n",
            "['day_npstd', 'day_npmean', 'hour_npstd', 'hour_npmean', 'errtype_26', 'errtype_15', 'errcode_sparse_sparse', 'errtype_40', 'errtype_5', 'errtype_31', 'errcode_numeric_1', 'errcode_sparse_2', 'errcode_sparse_1', 'errtype_11', 'quality_5_npstd', 'errtype_14', 'qual_hour_npmean', 'errtype_22', 'errcode_digits_2', 'qual_day_npmean', 'errtype_41', 'errcode_sparse_connection_timeout', 'qual_hour_npstd', 'qual_hour_npmin', 'errcode_sparse_active', 'errcode_sparse_14', 'errtype_33', 'qual_day_npmax', 'quality_5_npmean', 'qual_day_npmin', 'errtype_7', 'errtype_17', 'quality_10_npmean', 'errcode_sparse_standby', 'qual_hour_npmax', 'fwver_04.33.1261', 'quality_6_npstd', 'qual_day_npstd', 'errtype_34', 'quality_10_npmax', 'errtype_4', 'errtype_6', 'quality_10_npstd', 'fwver_04.33.1185', 'fwver_04.16.3553', 'quality_5_npmax', 'quality_6_npmean', 'quality_10_npmin', 'errtype_42', 'errtype_13', 'errtype_24', 'fwver_04.22.1778', 'errtype_18', 'fwver_04.22.1750', 'quality_1_npmean', 'quality_1_npstd', 'quality_0_npmean', 'quality_11_npmean', 'quality_7_npmax', 'quality_11_npstd', 'errtype_35', 'errtype_10', 'day_npmin', 'errtype_30', 'errcode_sparse_79', 'errcode_sparse_connection_fail_to_establish', 'fwver_05.15.2138', 'quality_7_npstd', 'quality_6_npmax', 'quality_8_npstd', 'hour_npmin', 'errtype_3', 'errtype_39', 'quality_7_npmean', 'errtype_36', 'errtype_38', 'hour_npmax', 'errtype_2', 'model_nm_model_2', 'errtype_32', 'qual_fwver_04.33.1261', 'quality_7_npmin', 'qual_fwver_05.15.2138', 'qual_fwver_04.33.1185', 'errtype_1', 'quality_1_npmax', 'errcode_sparse_84', 'errtype_25', 'errtype_20', 'errtype_19', 'quality_8_npmean', 'qual_fwver_04.22.1778', 'qual_fwver_04.16.3553', 'model_nm_model_1', 'qual_fwver_04.22.1750', 'model_nm_model_0', 'day_npmax', 'model_nm_model_3', 'quality_8_npmax', 'errcode_digits_6', 'quality_0_npmin', 'fwver_03.11.1167', 'fwver_04.16.3571', 'quality_11_npmax', 'fwver_04.73.2571', 'fwver_04.73.2577', 'month_npstd', 'qual_fwver_03.11.1149', 'qual_fwver_03.11.1167', 'qual_fwver_04.16.3345', 'qual_fwver_04.16.3439', 'month_npmax', 'qual_fwver_04.16.3571', 'quality_3_npstd', 'fwver_04.82.1684', 'qual_fwver_04.22.1684', 'month_npmin', 'month_npmean', 'qual_fwver_04.33.1149', 'qual_fwver_04.82.1684', 'fwver_04.82.1730', 'qual_fwver_04.73.2237', 'fwver_04.82.1778', 'qual_fwver_04.22.1656', 'fwver_04.73.2569', 'fwver_04.22.1666', 'qual_fwver_04.82.1778', 'fwver_04.33.1095', 'qual_fwver_05.66.3237', 'qual_fwver_05.66.3571', 'qual_fwver_09.17.1431', 'qual_fwver_nan', 'fwver_04.33.1149', 'fwver_05.15.2090', 'quality_0_npmax', 'fwver_04.33.1125', 'fwver_05.15.2092', 'fwver_04.22.1772', 'fwver_04.22.1684', 'fwver_05.15.2114', 'fwver_05.15.2120', 'quality_4_npmin', 'quality_3_npmean', 'quality_3_npmin', 'quality_3_npmax', 'qual_fwver_05.15.2120', 'quality_4_npmean', 'quality_12_npstd', 'quality_4_npmax', 'errcode_digits_5', 'quality_5_npmin', 'fwver_04.22.1608', 'fwver_04.22.1478', 'fwver_04.22.1448', 'fwver_05.15.2122', 'fwver_04.22.1442', 'errcode_digits_8', 'errcode_digits_7', 'fwver_04.22.1170', 'errcode_digits_3', 'quality_8_npmin', 'fwver_05.15.3104']\n"
          ],
          "name": "stdout"
        }
      ]
    },
    {
      "cell_type": "code",
      "metadata": {
        "id": "DUY0t5qKEMlP"
      },
      "source": [
        "ft1 = [x for x in train_x.columns if x in features]\r\n",
        "ft2 = [x for x in test_x.columns if x in features]\r\n",
        "train_fts = train_x[ft1]\r\n",
        "test_fts = test_x[ft2]"
      ],
      "execution_count": 142,
      "outputs": []
    },
    {
      "cell_type": "code",
      "metadata": {
        "id": "FyvRGXCLFFmS"
      },
      "source": [
        "train_x = train_fts.copy()\r\n",
        "train_y = problem\r\n",
        "test_x = test_fts.copy()"
      ],
      "execution_count": 143,
      "outputs": []
    },
    {
      "cell_type": "code",
      "metadata": {
        "colab": {
          "base_uri": "https://localhost:8080/"
        },
        "id": "14yQ6gSi0VPr",
        "outputId": "c7d73a36-904a-4271-9866-e815e201c943"
      },
      "source": [
        "print(train_x.shape)\r\n",
        "print(test_x.shape)"
      ],
      "execution_count": 144,
      "outputs": [
        {
          "output_type": "stream",
          "text": [
            "(15000, 160)\n",
            "(14999, 160)\n"
          ],
          "name": "stdout"
        }
      ]
    },
    {
      "cell_type": "code",
      "metadata": {
        "colab": {
          "base_uri": "https://localhost:8080/"
        },
        "id": "XVs0AMsM6-jo",
        "outputId": "daf30c98-25ed-4894-cabf-b72a7353aaa2"
      },
      "source": [
        "# seed = 20210123\r\n",
        "# %xmode Verbose\r\n",
        "gpyopt_output = []\r\n",
        "optimizer = BayesianOptimization(f=lgb_score, \r\n",
        "                                 domain=bds,\r\n",
        "                                 model_type='GP',\r\n",
        "                                 acquisition_type ='EI',\r\n",
        "                                 acquisition_jitter = 0.05,\r\n",
        "                                 maximize=True,\r\n",
        "                                 exact_feval=True\r\n",
        "                                 )\r\n",
        "\r\n",
        "\r\n",
        "# Only 20 iterations because we have 5 initial random points\r\n",
        "optimizer.run_optimization(max_iter=50)\r\n",
        "optimizer.plot_acquisition()\r\n"
      ],
      "execution_count": 145,
      "outputs": [
        {
          "output_type": "stream",
          "text": [
            "Training until validation scores don't improve for 10 rounds.\n",
            "Early stopping, best iteration is:\n",
            "[181]\ttrain's auc: 0.793944\tvalid's auc: 0.783633\n",
            "Training until validation scores don't improve for 10 rounds.\n",
            "Early stopping, best iteration is:\n",
            "[109]\ttrain's auc: 0.786921\tvalid's auc: 0.80118\n",
            "Training until validation scores don't improve for 10 rounds.\n",
            "Early stopping, best iteration is:\n",
            "[56]\ttrain's auc: 0.784077\tvalid's auc: 0.791255\n",
            "Training until validation scores don't improve for 10 rounds.\n",
            "Early stopping, best iteration is:\n",
            "[165]\ttrain's auc: 0.800851\tvalid's auc: 0.788502\n",
            "Training until validation scores don't improve for 10 rounds.\n",
            "[200]\ttrain's auc: 0.803977\tvalid's auc: 0.776713\n",
            "Early stopping, best iteration is:\n",
            "[195]\ttrain's auc: 0.803675\tvalid's auc: 0.776955\n",
            "Training until validation scores don't improve for 10 rounds.\n",
            "Early stopping, best iteration is:\n",
            "[56]\ttrain's auc: 0.85399\tvalid's auc: 0.809312\n",
            "Training until validation scores don't improve for 10 rounds.\n",
            "Early stopping, best iteration is:\n",
            "[96]\ttrain's auc: 0.865039\tvalid's auc: 0.81333\n",
            "Training until validation scores don't improve for 10 rounds.\n",
            "Early stopping, best iteration is:\n",
            "[132]\ttrain's auc: 0.886054\tvalid's auc: 0.814595\n",
            "Training until validation scores don't improve for 10 rounds.\n",
            "Early stopping, best iteration is:\n",
            "[94]\ttrain's auc: 0.871281\tvalid's auc: 0.805282\n",
            "Training until validation scores don't improve for 10 rounds.\n",
            "Early stopping, best iteration is:\n",
            "[86]\ttrain's auc: 0.87187\tvalid's auc: 0.81345\n",
            "Training until validation scores don't improve for 10 rounds.\n",
            "Early stopping, best iteration is:\n",
            "[183]\ttrain's auc: 0.8522\tvalid's auc: 0.802467\n",
            "Training until validation scores don't improve for 10 rounds.\n",
            "Early stopping, best iteration is:\n",
            "[121]\ttrain's auc: 0.842694\tvalid's auc: 0.800422\n",
            "Training until validation scores don't improve for 10 rounds.\n",
            "[200]\ttrain's auc: 0.855387\tvalid's auc: 0.80927\n",
            "Early stopping, best iteration is:\n",
            "[216]\ttrain's auc: 0.858413\tvalid's auc: 0.810058\n",
            "Training until validation scores don't improve for 10 rounds.\n",
            "Early stopping, best iteration is:\n",
            "[132]\ttrain's auc: 0.840841\tvalid's auc: 0.820556\n",
            "Training until validation scores don't improve for 10 rounds.\n",
            "Early stopping, best iteration is:\n",
            "[175]\ttrain's auc: 0.852094\tvalid's auc: 0.81352\n",
            "Training until validation scores don't improve for 10 rounds.\n",
            "Early stopping, best iteration is:\n",
            "[164]\ttrain's auc: 0.892758\tvalid's auc: 0.820946\n",
            "Training until validation scores don't improve for 10 rounds.\n",
            "Early stopping, best iteration is:\n",
            "[107]\ttrain's auc: 0.872529\tvalid's auc: 0.801029\n",
            "Training until validation scores don't improve for 10 rounds.\n",
            "Early stopping, best iteration is:\n",
            "[144]\ttrain's auc: 0.883411\tvalid's auc: 0.814814\n",
            "Training until validation scores don't improve for 10 rounds.\n",
            "Early stopping, best iteration is:\n",
            "[147]\ttrain's auc: 0.88662\tvalid's auc: 0.803195\n",
            "Training until validation scores don't improve for 10 rounds.\n",
            "Early stopping, best iteration is:\n",
            "[123]\ttrain's auc: 0.87577\tvalid's auc: 0.835016\n",
            "Training until validation scores don't improve for 10 rounds.\n",
            "Early stopping, best iteration is:\n",
            "[11]\ttrain's auc: 0.795977\tvalid's auc: 0.78668\n",
            "Training until validation scores don't improve for 10 rounds.\n",
            "Early stopping, best iteration is:\n",
            "[4]\ttrain's auc: 0.78792\tvalid's auc: 0.785478\n",
            "Training until validation scores don't improve for 10 rounds.\n",
            "Early stopping, best iteration is:\n",
            "[37]\ttrain's auc: 0.804156\tvalid's auc: 0.792729\n",
            "Training until validation scores don't improve for 10 rounds.\n",
            "Early stopping, best iteration is:\n",
            "[10]\ttrain's auc: 0.797817\tvalid's auc: 0.785675\n",
            "Training until validation scores don't improve for 10 rounds.\n",
            "[200]\ttrain's auc: 0.8448\tvalid's auc: 0.796237\n",
            "Early stopping, best iteration is:\n",
            "[192]\ttrain's auc: 0.843698\tvalid's auc: 0.796403\n",
            "Training until validation scores don't improve for 10 rounds.\n",
            "Early stopping, best iteration is:\n",
            "[47]\ttrain's auc: 0.783146\tvalid's auc: 0.77405\n",
            "Training until validation scores don't improve for 10 rounds.\n",
            "Early stopping, best iteration is:\n",
            "[9]\ttrain's auc: 0.765954\tvalid's auc: 0.753566\n",
            "Training until validation scores don't improve for 10 rounds.\n",
            "Early stopping, best iteration is:\n",
            "[6]\ttrain's auc: 0.767073\tvalid's auc: 0.764594\n",
            "Training until validation scores don't improve for 10 rounds.\n",
            "Early stopping, best iteration is:\n",
            "[10]\ttrain's auc: 0.766074\tvalid's auc: 0.752797\n",
            "Training until validation scores don't improve for 10 rounds.\n",
            "[200]\ttrain's auc: 0.830982\tvalid's auc: 0.789053\n",
            "Early stopping, best iteration is:\n",
            "[336]\ttrain's auc: 0.853012\tvalid's auc: 0.796981\n",
            "Training until validation scores don't improve for 10 rounds.\n",
            "Early stopping, best iteration is:\n",
            "[102]\ttrain's auc: 0.870999\tvalid's auc: 0.812044\n",
            "Training until validation scores don't improve for 10 rounds.\n",
            "Early stopping, best iteration is:\n",
            "[157]\ttrain's auc: 0.887677\tvalid's auc: 0.811398\n",
            "Training until validation scores don't improve for 10 rounds.\n",
            "Early stopping, best iteration is:\n",
            "[164]\ttrain's auc: 0.887387\tvalid's auc: 0.809032\n",
            "Training until validation scores don't improve for 10 rounds.\n",
            "Early stopping, best iteration is:\n",
            "[6]\ttrain's auc: 0.805888\tvalid's auc: 0.805392\n",
            "Training until validation scores don't improve for 10 rounds.\n",
            "Early stopping, best iteration is:\n",
            "[8]\ttrain's auc: 0.815524\tvalid's auc: 0.798421\n",
            "Training until validation scores don't improve for 10 rounds.\n",
            "[200]\ttrain's auc: 0.828363\tvalid's auc: 0.795941\n",
            "Early stopping, best iteration is:\n",
            "[307]\ttrain's auc: 0.839366\tvalid's auc: 0.8006\n",
            "Training until validation scores don't improve for 10 rounds.\n",
            "[200]\ttrain's auc: 0.833491\tvalid's auc: 0.80335\n",
            "[400]\ttrain's auc: 0.853388\tvalid's auc: 0.809157\n",
            "Early stopping, best iteration is:\n",
            "[514]\ttrain's auc: 0.861524\tvalid's auc: 0.811395\n",
            "Training until validation scores don't improve for 10 rounds.\n",
            "[200]\ttrain's auc: 0.826435\tvalid's auc: 0.817756\n",
            "Early stopping, best iteration is:\n",
            "[236]\ttrain's auc: 0.830022\tvalid's auc: 0.818888\n",
            "Training until validation scores don't improve for 10 rounds.\n",
            "Early stopping, best iteration is:\n",
            "[32]\ttrain's auc: 0.811756\tvalid's auc: 0.784107\n",
            "Training until validation scores don't improve for 10 rounds.\n",
            "Early stopping, best iteration is:\n",
            "[12]\ttrain's auc: 0.805063\tvalid's auc: 0.784834\n",
            "Training until validation scores don't improve for 10 rounds.\n",
            "Early stopping, best iteration is:\n",
            "[17]\ttrain's auc: 0.837571\tvalid's auc: 0.797539\n",
            "Training until validation scores don't improve for 10 rounds.\n",
            "Early stopping, best iteration is:\n",
            "[3]\ttrain's auc: 0.819479\tvalid's auc: 0.777822\n",
            "Training until validation scores don't improve for 10 rounds.\n",
            "Early stopping, best iteration is:\n",
            "[26]\ttrain's auc: 0.838737\tvalid's auc: 0.804888\n",
            "Training until validation scores don't improve for 10 rounds.\n",
            "[200]\ttrain's auc: 0.882879\tvalid's auc: 0.825665\n",
            "Early stopping, best iteration is:\n",
            "[235]\ttrain's auc: 0.890852\tvalid's auc: 0.826971\n",
            "Training until validation scores don't improve for 10 rounds.\n",
            "[200]\ttrain's auc: 0.885457\tvalid's auc: 0.811831\n",
            "Early stopping, best iteration is:\n",
            "[260]\ttrain's auc: 0.897734\tvalid's auc: 0.81476\n",
            "Training until validation scores don't improve for 10 rounds.\n",
            "Early stopping, best iteration is:\n",
            "[101]\ttrain's auc: 0.875581\tvalid's auc: 0.799982\n",
            "Training until validation scores don't improve for 10 rounds.\n",
            "Early stopping, best iteration is:\n",
            "[43]\ttrain's auc: 0.843332\tvalid's auc: 0.807752\n",
            "Training until validation scores don't improve for 10 rounds.\n",
            "Early stopping, best iteration is:\n",
            "[118]\ttrain's auc: 0.877169\tvalid's auc: 0.821521\n",
            "Training until validation scores don't improve for 10 rounds.\n",
            "Early stopping, best iteration is:\n",
            "[111]\ttrain's auc: 0.877729\tvalid's auc: 0.817126\n",
            "Training until validation scores don't improve for 10 rounds.\n",
            "Early stopping, best iteration is:\n",
            "[143]\ttrain's auc: 0.890483\tvalid's auc: 0.821836\n",
            "Training until validation scores don't improve for 10 rounds.\n",
            "Early stopping, best iteration is:\n",
            "[173]\ttrain's auc: 0.88009\tvalid's auc: 0.824575\n",
            "Training until validation scores don't improve for 10 rounds.\n",
            "Early stopping, best iteration is:\n",
            "[143]\ttrain's auc: 0.870455\tvalid's auc: 0.814006\n",
            "Training until validation scores don't improve for 10 rounds.\n",
            "Early stopping, best iteration is:\n",
            "[122]\ttrain's auc: 0.866955\tvalid's auc: 0.805305\n",
            "Training until validation scores don't improve for 10 rounds.\n",
            "Early stopping, best iteration is:\n",
            "[87]\ttrain's auc: 0.853369\tvalid's auc: 0.812509\n",
            "Training until validation scores don't improve for 10 rounds.\n",
            "Early stopping, best iteration is:\n",
            "[7]\ttrain's auc: 0.798838\tvalid's auc: 0.78224\n",
            "Training until validation scores don't improve for 10 rounds.\n",
            "Early stopping, best iteration is:\n",
            "[68]\ttrain's auc: 0.853073\tvalid's auc: 0.819469\n",
            "Training until validation scores don't improve for 10 rounds.\n",
            "Early stopping, best iteration is:\n",
            "[103]\ttrain's auc: 0.871413\tvalid's auc: 0.810863\n",
            "Training until validation scores don't improve for 10 rounds.\n",
            "Early stopping, best iteration is:\n",
            "[148]\ttrain's auc: 0.882102\tvalid's auc: 0.80253\n",
            "Training until validation scores don't improve for 10 rounds.\n",
            "Early stopping, best iteration is:\n",
            "[122]\ttrain's auc: 0.87599\tvalid's auc: 0.802134\n",
            "Training until validation scores don't improve for 10 rounds.\n",
            "Early stopping, best iteration is:\n",
            "[100]\ttrain's auc: 0.866541\tvalid's auc: 0.83125\n",
            "Training until validation scores don't improve for 10 rounds.\n",
            "Early stopping, best iteration is:\n",
            "[125]\ttrain's auc: 0.892952\tvalid's auc: 0.814209\n",
            "Training until validation scores don't improve for 10 rounds.\n",
            "Early stopping, best iteration is:\n",
            "[121]\ttrain's auc: 0.891483\tvalid's auc: 0.818922\n",
            "Training until validation scores don't improve for 10 rounds.\n",
            "Early stopping, best iteration is:\n",
            "[144]\ttrain's auc: 0.898038\tvalid's auc: 0.812914\n",
            "Training until validation scores don't improve for 10 rounds.\n",
            "Early stopping, best iteration is:\n",
            "[174]\ttrain's auc: 0.91068\tvalid's auc: 0.827631\n",
            "Training until validation scores don't improve for 10 rounds.\n",
            "Early stopping, best iteration is:\n",
            "[156]\ttrain's auc: 0.904813\tvalid's auc: 0.809505\n",
            "Training until validation scores don't improve for 10 rounds.\n",
            "Early stopping, best iteration is:\n",
            "[158]\ttrain's auc: 0.8876\tvalid's auc: 0.811714\n",
            "Training until validation scores don't improve for 10 rounds.\n",
            "Early stopping, best iteration is:\n",
            "[130]\ttrain's auc: 0.874318\tvalid's auc: 0.822707\n",
            "Training until validation scores don't improve for 10 rounds.\n",
            "Early stopping, best iteration is:\n",
            "[103]\ttrain's auc: 0.867643\tvalid's auc: 0.81427\n",
            "Training until validation scores don't improve for 10 rounds.\n",
            "Early stopping, best iteration is:\n",
            "[44]\ttrain's auc: 0.838502\tvalid's auc: 0.809909\n",
            "Training until validation scores don't improve for 10 rounds.\n",
            "Early stopping, best iteration is:\n",
            "[103]\ttrain's auc: 0.865699\tvalid's auc: 0.814973\n",
            "Training until validation scores don't improve for 10 rounds.\n",
            "[200]\ttrain's auc: 0.893982\tvalid's auc: 0.825364\n",
            "Early stopping, best iteration is:\n",
            "[272]\ttrain's auc: 0.910577\tvalid's auc: 0.827739\n",
            "Training until validation scores don't improve for 10 rounds.\n",
            "Early stopping, best iteration is:\n",
            "[15]\ttrain's auc: 0.839965\tvalid's auc: 0.779723\n",
            "Training until validation scores don't improve for 10 rounds.\n",
            "[200]\ttrain's auc: 0.893721\tvalid's auc: 0.827706\n",
            "Early stopping, best iteration is:\n",
            "[226]\ttrain's auc: 0.900131\tvalid's auc: 0.82874\n",
            "Training until validation scores don't improve for 10 rounds.\n",
            "[200]\ttrain's auc: 0.892256\tvalid's auc: 0.820246\n",
            "Early stopping, best iteration is:\n",
            "[222]\ttrain's auc: 0.897625\tvalid's auc: 0.820975\n",
            "Training until validation scores don't improve for 10 rounds.\n",
            "[200]\ttrain's auc: 0.897211\tvalid's auc: 0.814841\n",
            "Early stopping, best iteration is:\n",
            "[241]\ttrain's auc: 0.906727\tvalid's auc: 0.815459\n",
            "Training until validation scores don't improve for 10 rounds.\n",
            "[200]\ttrain's auc: 0.915807\tvalid's auc: 0.831091\n",
            "Early stopping, best iteration is:\n",
            "[261]\ttrain's auc: 0.930336\tvalid's auc: 0.833046\n",
            "Training until validation scores don't improve for 10 rounds.\n",
            "[200]\ttrain's auc: 0.914423\tvalid's auc: 0.800212\n",
            "Early stopping, best iteration is:\n",
            "[304]\ttrain's auc: 0.938721\tvalid's auc: 0.80381\n",
            "Training until validation scores don't improve for 10 rounds.\n",
            "Early stopping, best iteration is:\n",
            "[27]\ttrain's auc: 0.854613\tvalid's auc: 0.804682\n",
            "Training until validation scores don't improve for 10 rounds.\n",
            "[200]\ttrain's auc: 0.915766\tvalid's auc: 0.803824\n",
            "Early stopping, best iteration is:\n",
            "[207]\ttrain's auc: 0.917719\tvalid's auc: 0.803955\n",
            "Training until validation scores don't improve for 10 rounds.\n",
            "[200]\ttrain's auc: 0.916682\tvalid's auc: 0.82454\n",
            "Early stopping, best iteration is:\n",
            "[210]\ttrain's auc: 0.91928\tvalid's auc: 0.82486\n",
            "Training until validation scores don't improve for 10 rounds.\n",
            "[200]\ttrain's auc: 0.919629\tvalid's auc: 0.810109\n",
            "Early stopping, best iteration is:\n",
            "[229]\ttrain's auc: 0.927312\tvalid's auc: 0.810937\n",
            "Training until validation scores don't improve for 10 rounds.\n",
            "[200]\ttrain's auc: 0.919693\tvalid's auc: 0.827661\n",
            "Early stopping, best iteration is:\n",
            "[206]\ttrain's auc: 0.921436\tvalid's auc: 0.827893\n",
            "Training until validation scores don't improve for 10 rounds.\n",
            "Early stopping, best iteration is:\n",
            "[14]\ttrain's auc: 0.845378\tvalid's auc: 0.801334\n",
            "Training until validation scores don't improve for 10 rounds.\n",
            "[200]\ttrain's auc: 0.919417\tvalid's auc: 0.813869\n",
            "Early stopping, best iteration is:\n",
            "[213]\ttrain's auc: 0.923006\tvalid's auc: 0.814293\n",
            "Training until validation scores don't improve for 10 rounds.\n",
            "Early stopping, best iteration is:\n",
            "[144]\ttrain's auc: 0.898779\tvalid's auc: 0.826346\n",
            "Training until validation scores don't improve for 10 rounds.\n",
            "Early stopping, best iteration is:\n",
            "[157]\ttrain's auc: 0.850554\tvalid's auc: 0.81145\n",
            "Training until validation scores don't improve for 10 rounds.\n",
            "Early stopping, best iteration is:\n",
            "[125]\ttrain's auc: 0.848315\tvalid's auc: 0.817195\n",
            "Training until validation scores don't improve for 10 rounds.\n",
            "Early stopping, best iteration is:\n",
            "[132]\ttrain's auc: 0.853015\tvalid's auc: 0.803749\n",
            "Training until validation scores don't improve for 10 rounds.\n",
            "[200]\ttrain's auc: 0.861199\tvalid's auc: 0.816099\n",
            "Early stopping, best iteration is:\n",
            "[227]\ttrain's auc: 0.866289\tvalid's auc: 0.817125\n",
            "Training until validation scores don't improve for 10 rounds.\n",
            "Early stopping, best iteration is:\n",
            "[175]\ttrain's auc: 0.862146\tvalid's auc: 0.811984\n",
            "Training until validation scores don't improve for 10 rounds.\n",
            "Early stopping, best iteration is:\n",
            "[186]\ttrain's auc: 0.849666\tvalid's auc: 0.800129\n",
            "Training until validation scores don't improve for 10 rounds.\n",
            "Early stopping, best iteration is:\n",
            "[152]\ttrain's auc: 0.841053\tvalid's auc: 0.815805\n",
            "Training until validation scores don't improve for 10 rounds.\n",
            "Early stopping, best iteration is:\n",
            "[131]\ttrain's auc: 0.838606\tvalid's auc: 0.802953\n",
            "Training until validation scores don't improve for 10 rounds.\n",
            "Early stopping, best iteration is:\n",
            "[182]\ttrain's auc: 0.846076\tvalid's auc: 0.794322\n",
            "Training until validation scores don't improve for 10 rounds.\n",
            "Early stopping, best iteration is:\n",
            "[64]\ttrain's auc: 0.81533\tvalid's auc: 0.810355\n",
            "Training until validation scores don't improve for 10 rounds.\n",
            "[200]\ttrain's auc: 0.806895\tvalid's auc: 0.804033\n",
            "Early stopping, best iteration is:\n",
            "[263]\ttrain's auc: 0.811994\tvalid's auc: 0.807938\n",
            "Training until validation scores don't improve for 10 rounds.\n",
            "Early stopping, best iteration is:\n",
            "[71]\ttrain's auc: 0.78371\tvalid's auc: 0.777517\n",
            "Training until validation scores don't improve for 10 rounds.\n",
            "[200]\ttrain's auc: 0.811617\tvalid's auc: 0.784295\n",
            "Early stopping, best iteration is:\n",
            "[244]\ttrain's auc: 0.815107\tvalid's auc: 0.785673\n",
            "Training until validation scores don't improve for 10 rounds.\n",
            "Early stopping, best iteration is:\n",
            "[9]\ttrain's auc: 0.730084\tvalid's auc: 0.719417\n",
            "Training until validation scores don't improve for 10 rounds.\n",
            "Early stopping, best iteration is:\n",
            "[175]\ttrain's auc: 0.801735\tvalid's auc: 0.805813\n",
            "Training until validation scores don't improve for 10 rounds.\n",
            "Early stopping, best iteration is:\n",
            "[147]\ttrain's auc: 0.889561\tvalid's auc: 0.81355\n",
            "Training until validation scores don't improve for 10 rounds.\n",
            "Early stopping, best iteration is:\n",
            "[104]\ttrain's auc: 0.871511\tvalid's auc: 0.807208\n",
            "Training until validation scores don't improve for 10 rounds.\n",
            "Early stopping, best iteration is:\n",
            "[137]\ttrain's auc: 0.884625\tvalid's auc: 0.82503\n",
            "Training until validation scores don't improve for 10 rounds.\n",
            "Early stopping, best iteration is:\n",
            "[88]\ttrain's auc: 0.863183\tvalid's auc: 0.818728\n",
            "Training until validation scores don't improve for 10 rounds.\n",
            "Early stopping, best iteration is:\n",
            "[123]\ttrain's auc: 0.881446\tvalid's auc: 0.815129\n",
            "Training until validation scores don't improve for 10 rounds.\n",
            "Early stopping, best iteration is:\n",
            "[78]\ttrain's auc: 0.888484\tvalid's auc: 0.829605\n",
            "Training until validation scores don't improve for 10 rounds.\n",
            "Early stopping, best iteration is:\n",
            "[139]\ttrain's auc: 0.923356\tvalid's auc: 0.813181\n",
            "Training until validation scores don't improve for 10 rounds.\n",
            "Early stopping, best iteration is:\n",
            "[127]\ttrain's auc: 0.916348\tvalid's auc: 0.814231\n",
            "Training until validation scores don't improve for 10 rounds.\n",
            "Early stopping, best iteration is:\n",
            "[113]\ttrain's auc: 0.908624\tvalid's auc: 0.808866\n",
            "Training until validation scores don't improve for 10 rounds.\n",
            "Early stopping, best iteration is:\n",
            "[139]\ttrain's auc: 0.92071\tvalid's auc: 0.82426\n",
            "Training until validation scores don't improve for 10 rounds.\n",
            "Early stopping, best iteration is:\n",
            "[115]\ttrain's auc: 0.813125\tvalid's auc: 0.788587\n",
            "Training until validation scores don't improve for 10 rounds.\n",
            "Early stopping, best iteration is:\n",
            "[151]\ttrain's auc: 0.811994\tvalid's auc: 0.816197\n",
            "Training until validation scores don't improve for 10 rounds.\n",
            "Early stopping, best iteration is:\n",
            "[37]\ttrain's auc: 0.7984\tvalid's auc: 0.801533\n",
            "Training until validation scores don't improve for 10 rounds.\n",
            "Early stopping, best iteration is:\n",
            "[180]\ttrain's auc: 0.818894\tvalid's auc: 0.791857\n",
            "Training until validation scores don't improve for 10 rounds.\n",
            "Early stopping, best iteration is:\n",
            "[158]\ttrain's auc: 0.820378\tvalid's auc: 0.793276\n",
            "Training until validation scores don't improve for 10 rounds.\n",
            "Early stopping, best iteration is:\n",
            "[66]\ttrain's auc: 0.878751\tvalid's auc: 0.803774\n",
            "Training until validation scores don't improve for 10 rounds.\n",
            "Early stopping, best iteration is:\n",
            "[180]\ttrain's auc: 0.93184\tvalid's auc: 0.832598\n",
            "Training until validation scores don't improve for 10 rounds.\n",
            "Early stopping, best iteration is:\n",
            "[178]\ttrain's auc: 0.931221\tvalid's auc: 0.816508\n",
            "Training until validation scores don't improve for 10 rounds.\n",
            "Early stopping, best iteration is:\n",
            "[132]\ttrain's auc: 0.914082\tvalid's auc: 0.81875\n",
            "Training until validation scores don't improve for 10 rounds.\n",
            "Early stopping, best iteration is:\n",
            "[123]\ttrain's auc: 0.909815\tvalid's auc: 0.814964\n",
            "Training until validation scores don't improve for 10 rounds.\n",
            "Early stopping, best iteration is:\n",
            "[103]\ttrain's auc: 0.922489\tvalid's auc: 0.820833\n",
            "Training until validation scores don't improve for 10 rounds.\n",
            "Early stopping, best iteration is:\n",
            "[92]\ttrain's auc: 0.917332\tvalid's auc: 0.818688\n",
            "Training until validation scores don't improve for 10 rounds.\n",
            "Early stopping, best iteration is:\n",
            "[80]\ttrain's auc: 0.911767\tvalid's auc: 0.801058\n",
            "Training until validation scores don't improve for 10 rounds.\n",
            "Early stopping, best iteration is:\n",
            "[114]\ttrain's auc: 0.927873\tvalid's auc: 0.827121\n",
            "Training until validation scores don't improve for 10 rounds.\n",
            "Early stopping, best iteration is:\n",
            "[97]\ttrain's auc: 0.920531\tvalid's auc: 0.82619\n",
            "Training until validation scores don't improve for 10 rounds.\n",
            "[200]\ttrain's auc: 0.852326\tvalid's auc: 0.80433\n",
            "Early stopping, best iteration is:\n",
            "[265]\ttrain's auc: 0.861877\tvalid's auc: 0.807177\n",
            "Training until validation scores don't improve for 10 rounds.\n",
            "Early stopping, best iteration is:\n",
            "[17]\ttrain's auc: 0.810258\tvalid's auc: 0.794199\n",
            "Training until validation scores don't improve for 10 rounds.\n",
            "[200]\ttrain's auc: 0.851582\tvalid's auc: 0.813941\n",
            "Early stopping, best iteration is:\n",
            "[199]\ttrain's auc: 0.851432\tvalid's auc: 0.814029\n",
            "Training until validation scores don't improve for 10 rounds.\n",
            "Early stopping, best iteration is:\n",
            "[60]\ttrain's auc: 0.822946\tvalid's auc: 0.806503\n",
            "Training until validation scores don't improve for 10 rounds.\n",
            "[200]\ttrain's auc: 0.851252\tvalid's auc: 0.802471\n",
            "Early stopping, best iteration is:\n",
            "[268]\ttrain's auc: 0.861442\tvalid's auc: 0.805669\n",
            "Training until validation scores don't improve for 10 rounds.\n",
            "Early stopping, best iteration is:\n",
            "[180]\ttrain's auc: 0.854412\tvalid's auc: 0.806015\n",
            "Training until validation scores don't improve for 10 rounds.\n",
            "Early stopping, best iteration is:\n",
            "[188]\ttrain's auc: 0.857222\tvalid's auc: 0.817868\n",
            "Training until validation scores don't improve for 10 rounds.\n",
            "[200]\ttrain's auc: 0.863104\tvalid's auc: 0.810845\n",
            "Early stopping, best iteration is:\n",
            "[195]\ttrain's auc: 0.861948\tvalid's auc: 0.811111\n",
            "Training until validation scores don't improve for 10 rounds.\n",
            "Early stopping, best iteration is:\n",
            "[187]\ttrain's auc: 0.854218\tvalid's auc: 0.822618\n",
            "Training until validation scores don't improve for 10 rounds.\n",
            "Early stopping, best iteration is:\n",
            "[149]\ttrain's auc: 0.849384\tvalid's auc: 0.798579\n",
            "Training until validation scores don't improve for 10 rounds.\n",
            "Early stopping, best iteration is:\n",
            "[3]\ttrain's auc: 0.773286\tvalid's auc: 0.754345\n",
            "Training until validation scores don't improve for 10 rounds.\n",
            "Early stopping, best iteration is:\n",
            "[57]\ttrain's auc: 0.784791\tvalid's auc: 0.792287\n",
            "Training until validation scores don't improve for 10 rounds.\n",
            "Early stopping, best iteration is:\n",
            "[160]\ttrain's auc: 0.795473\tvalid's auc: 0.786685\n",
            "Training until validation scores don't improve for 10 rounds.\n",
            "[200]\ttrain's auc: 0.79869\tvalid's auc: 0.790036\n",
            "[400]\ttrain's auc: 0.807492\tvalid's auc: 0.795755\n",
            "Early stopping, best iteration is:\n",
            "[564]\ttrain's auc: 0.813045\tvalid's auc: 0.799559\n",
            "Training until validation scores don't improve for 10 rounds.\n",
            "Early stopping, best iteration is:\n",
            "[14]\ttrain's auc: 0.763878\tvalid's auc: 0.778131\n",
            "Training until validation scores don't improve for 10 rounds.\n",
            "[200]\ttrain's auc: 0.879893\tvalid's auc: 0.815546\n",
            "Early stopping, best iteration is:\n",
            "[291]\ttrain's auc: 0.900767\tvalid's auc: 0.818086\n",
            "Training until validation scores don't improve for 10 rounds.\n",
            "[200]\ttrain's auc: 0.883696\tvalid's auc: 0.810044\n",
            "Early stopping, best iteration is:\n",
            "[269]\ttrain's auc: 0.900666\tvalid's auc: 0.811962\n",
            "Training until validation scores don't improve for 10 rounds.\n",
            "[200]\ttrain's auc: 0.880047\tvalid's auc: 0.82172\n",
            "Early stopping, best iteration is:\n",
            "[247]\ttrain's auc: 0.892462\tvalid's auc: 0.823756\n",
            "Training until validation scores don't improve for 10 rounds.\n",
            "[200]\ttrain's auc: 0.881666\tvalid's auc: 0.810312\n",
            "Early stopping, best iteration is:\n",
            "[288]\ttrain's auc: 0.902695\tvalid's auc: 0.813785\n",
            "Training until validation scores don't improve for 10 rounds.\n",
            "[200]\ttrain's auc: 0.882705\tvalid's auc: 0.818013\n",
            "Early stopping, best iteration is:\n",
            "[190]\ttrain's auc: 0.879932\tvalid's auc: 0.818066\n",
            "Training until validation scores don't improve for 10 rounds.\n",
            "[200]\ttrain's auc: 0.847792\tvalid's auc: 0.812218\n",
            "Early stopping, best iteration is:\n",
            "[194]\ttrain's auc: 0.846914\tvalid's auc: 0.812242\n",
            "Training until validation scores don't improve for 10 rounds.\n",
            "[200]\ttrain's auc: 0.847691\tvalid's auc: 0.809634\n",
            "Early stopping, best iteration is:\n",
            "[251]\ttrain's auc: 0.855468\tvalid's auc: 0.81176\n",
            "Training until validation scores don't improve for 10 rounds.\n",
            "Early stopping, best iteration is:\n",
            "[178]\ttrain's auc: 0.844487\tvalid's auc: 0.807789\n",
            "Training until validation scores don't improve for 10 rounds.\n",
            "Early stopping, best iteration is:\n",
            "[8]\ttrain's auc: 0.806149\tvalid's auc: 0.795916\n",
            "Training until validation scores don't improve for 10 rounds.\n",
            "Early stopping, best iteration is:\n",
            "[37]\ttrain's auc: 0.817825\tvalid's auc: 0.794432\n",
            "Training until validation scores don't improve for 10 rounds.\n",
            "Early stopping, best iteration is:\n",
            "[134]\ttrain's auc: 0.915866\tvalid's auc: 0.835703\n",
            "Training until validation scores don't improve for 10 rounds.\n",
            "Early stopping, best iteration is:\n",
            "[110]\ttrain's auc: 0.904073\tvalid's auc: 0.824437\n",
            "Training until validation scores don't improve for 10 rounds.\n",
            "Early stopping, best iteration is:\n",
            "[158]\ttrain's auc: 0.927503\tvalid's auc: 0.809984\n",
            "Training until validation scores don't improve for 10 rounds.\n",
            "Early stopping, best iteration is:\n",
            "[173]\ttrain's auc: 0.931982\tvalid's auc: 0.808941\n",
            "Training until validation scores don't improve for 10 rounds.\n",
            "Early stopping, best iteration is:\n",
            "[78]\ttrain's auc: 0.889355\tvalid's auc: 0.809979\n",
            "Training until validation scores don't improve for 10 rounds.\n",
            "Early stopping, best iteration is:\n",
            "[158]\ttrain's auc: 0.904404\tvalid's auc: 0.81416\n",
            "Training until validation scores don't improve for 10 rounds.\n",
            "[200]\ttrain's auc: 0.914938\tvalid's auc: 0.829332\n",
            "Early stopping, best iteration is:\n",
            "[206]\ttrain's auc: 0.916552\tvalid's auc: 0.829811\n",
            "Training until validation scores don't improve for 10 rounds.\n",
            "[200]\ttrain's auc: 0.916795\tvalid's auc: 0.823951\n",
            "Early stopping, best iteration is:\n",
            "[201]\ttrain's auc: 0.917038\tvalid's auc: 0.823981\n",
            "Training until validation scores don't improve for 10 rounds.\n",
            "Early stopping, best iteration is:\n",
            "[28]\ttrain's auc: 0.853418\tvalid's auc: 0.785201\n",
            "Training until validation scores don't improve for 10 rounds.\n",
            "Early stopping, best iteration is:\n",
            "[153]\ttrain's auc: 0.900518\tvalid's auc: 0.814569\n",
            "Training until validation scores don't improve for 10 rounds.\n",
            "Early stopping, best iteration is:\n",
            "[22]\ttrain's auc: 0.813071\tvalid's auc: 0.821059\n",
            "Training until validation scores don't improve for 10 rounds.\n",
            "Early stopping, best iteration is:\n",
            "[12]\ttrain's auc: 0.814402\tvalid's auc: 0.765634\n",
            "Training until validation scores don't improve for 10 rounds.\n",
            "[200]\ttrain's auc: 0.88134\tvalid's auc: 0.807515\n",
            "Early stopping, best iteration is:\n",
            "[306]\ttrain's auc: 0.907133\tvalid's auc: 0.813572\n",
            "Training until validation scores don't improve for 10 rounds.\n",
            "Early stopping, best iteration is:\n",
            "[34]\ttrain's auc: 0.822052\tvalid's auc: 0.788142\n",
            "Training until validation scores don't improve for 10 rounds.\n",
            "Early stopping, best iteration is:\n",
            "[44]\ttrain's auc: 0.829388\tvalid's auc: 0.783637\n",
            "Training until validation scores don't improve for 10 rounds.\n",
            "[200]\ttrain's auc: 0.826216\tvalid's auc: 0.804466\n",
            "Early stopping, best iteration is:\n",
            "[209]\ttrain's auc: 0.827294\tvalid's auc: 0.804862\n",
            "Training until validation scores don't improve for 10 rounds.\n",
            "Early stopping, best iteration is:\n",
            "[6]\ttrain's auc: 0.78591\tvalid's auc: 0.77355\n",
            "Training until validation scores don't improve for 10 rounds.\n",
            "Early stopping, best iteration is:\n",
            "[100]\ttrain's auc: 0.792944\tvalid's auc: 0.807729\n",
            "Training until validation scores don't improve for 10 rounds.\n",
            "[200]\ttrain's auc: 0.831277\tvalid's auc: 0.804564\n",
            "Early stopping, best iteration is:\n",
            "[202]\ttrain's auc: 0.831456\tvalid's auc: 0.804799\n",
            "Training until validation scores don't improve for 10 rounds.\n",
            "Early stopping, best iteration is:\n",
            "[156]\ttrain's auc: 0.820153\tvalid's auc: 0.801447\n",
            "Training until validation scores don't improve for 10 rounds.\n",
            "Early stopping, best iteration is:\n",
            "[15]\ttrain's auc: 0.791775\tvalid's auc: 0.796797\n",
            "Training until validation scores don't improve for 10 rounds.\n",
            "Early stopping, best iteration is:\n",
            "[44]\ttrain's auc: 0.798381\tvalid's auc: 0.787534\n",
            "Training until validation scores don't improve for 10 rounds.\n",
            "Early stopping, best iteration is:\n",
            "[80]\ttrain's auc: 0.807833\tvalid's auc: 0.793914\n",
            "Training until validation scores don't improve for 10 rounds.\n",
            "Early stopping, best iteration is:\n",
            "[125]\ttrain's auc: 0.814655\tvalid's auc: 0.788433\n",
            "Training until validation scores don't improve for 10 rounds.\n",
            "Early stopping, best iteration is:\n",
            "[109]\ttrain's auc: 0.808514\tvalid's auc: 0.791453\n",
            "Training until validation scores don't improve for 10 rounds.\n",
            "Early stopping, best iteration is:\n",
            "[22]\ttrain's auc: 0.751742\tvalid's auc: 0.754048\n",
            "Training until validation scores don't improve for 10 rounds.\n",
            "Early stopping, best iteration is:\n",
            "[21]\ttrain's auc: 0.748536\tvalid's auc: 0.739222\n",
            "Training until validation scores don't improve for 10 rounds.\n",
            "Early stopping, best iteration is:\n",
            "[11]\ttrain's auc: 0.743308\tvalid's auc: 0.736414\n",
            "Training until validation scores don't improve for 10 rounds.\n",
            "[200]\ttrain's auc: 0.794121\tvalid's auc: 0.78451\n",
            "Early stopping, best iteration is:\n",
            "[209]\ttrain's auc: 0.795715\tvalid's auc: 0.785273\n",
            "Training until validation scores don't improve for 10 rounds.\n",
            "Early stopping, best iteration is:\n",
            "[136]\ttrain's auc: 0.786686\tvalid's auc: 0.779303\n",
            "Training until validation scores don't improve for 10 rounds.\n",
            "Early stopping, best iteration is:\n",
            "[185]\ttrain's auc: 0.911513\tvalid's auc: 0.826054\n",
            "Training until validation scores don't improve for 10 rounds.\n",
            "[200]\ttrain's auc: 0.915711\tvalid's auc: 0.810915\n",
            "Early stopping, best iteration is:\n",
            "[238]\ttrain's auc: 0.924792\tvalid's auc: 0.811916\n",
            "Training until validation scores don't improve for 10 rounds.\n",
            "[200]\ttrain's auc: 0.912098\tvalid's auc: 0.820429\n",
            "Early stopping, best iteration is:\n",
            "[271]\ttrain's auc: 0.929706\tvalid's auc: 0.822714\n",
            "Training until validation scores don't improve for 10 rounds.\n",
            "Early stopping, best iteration is:\n",
            "[150]\ttrain's auc: 0.899929\tvalid's auc: 0.814599\n",
            "Training until validation scores don't improve for 10 rounds.\n",
            "Early stopping, best iteration is:\n",
            "[166]\ttrain's auc: 0.904282\tvalid's auc: 0.828331\n",
            "Training until validation scores don't improve for 10 rounds.\n",
            "Early stopping, best iteration is:\n",
            "[13]\ttrain's auc: 0.786059\tvalid's auc: 0.784964\n",
            "Training until validation scores don't improve for 10 rounds.\n",
            "Early stopping, best iteration is:\n",
            "[37]\ttrain's auc: 0.798657\tvalid's auc: 0.767684\n",
            "Training until validation scores don't improve for 10 rounds.\n",
            "Early stopping, best iteration is:\n",
            "[16]\ttrain's auc: 0.79033\tvalid's auc: 0.782232\n",
            "Training until validation scores don't improve for 10 rounds.\n",
            "Early stopping, best iteration is:\n",
            "[7]\ttrain's auc: 0.772081\tvalid's auc: 0.77882\n",
            "Training until validation scores don't improve for 10 rounds.\n",
            "Early stopping, best iteration is:\n",
            "[170]\ttrain's auc: 0.806575\tvalid's auc: 0.810231\n",
            "Training until validation scores don't improve for 10 rounds.\n",
            "Early stopping, best iteration is:\n",
            "[114]\ttrain's auc: 0.902507\tvalid's auc: 0.818846\n",
            "Training until validation scores don't improve for 10 rounds.\n",
            "Early stopping, best iteration is:\n",
            "[93]\ttrain's auc: 0.890588\tvalid's auc: 0.820933\n",
            "Training until validation scores don't improve for 10 rounds.\n",
            "Early stopping, best iteration is:\n",
            "[124]\ttrain's auc: 0.904238\tvalid's auc: 0.822732\n",
            "Training until validation scores don't improve for 10 rounds.\n",
            "Early stopping, best iteration is:\n",
            "[106]\ttrain's auc: 0.897495\tvalid's auc: 0.812\n",
            "Training until validation scores don't improve for 10 rounds.\n",
            "Early stopping, best iteration is:\n",
            "[77]\ttrain's auc: 0.881106\tvalid's auc: 0.807789\n",
            "Training until validation scores don't improve for 10 rounds.\n",
            "Early stopping, best iteration is:\n",
            "[124]\ttrain's auc: 0.802872\tvalid's auc: 0.788577\n",
            "Training until validation scores don't improve for 10 rounds.\n",
            "Early stopping, best iteration is:\n",
            "[59]\ttrain's auc: 0.799995\tvalid's auc: 0.774534\n",
            "Training until validation scores don't improve for 10 rounds.\n",
            "Early stopping, best iteration is:\n",
            "[156]\ttrain's auc: 0.810404\tvalid's auc: 0.808598\n",
            "Training until validation scores don't improve for 10 rounds.\n",
            "Early stopping, best iteration is:\n",
            "[111]\ttrain's auc: 0.804419\tvalid's auc: 0.804693\n",
            "Training until validation scores don't improve for 10 rounds.\n",
            "Early stopping, best iteration is:\n",
            "[123]\ttrain's auc: 0.810885\tvalid's auc: 0.791372\n",
            "Training until validation scores don't improve for 10 rounds.\n",
            "Early stopping, best iteration is:\n",
            "[77]\ttrain's auc: 0.853432\tvalid's auc: 0.802257\n",
            "Training until validation scores don't improve for 10 rounds.\n",
            "Early stopping, best iteration is:\n",
            "[81]\ttrain's auc: 0.852828\tvalid's auc: 0.805244\n",
            "Training until validation scores don't improve for 10 rounds.\n",
            "Early stopping, best iteration is:\n",
            "[83]\ttrain's auc: 0.853285\tvalid's auc: 0.81504\n",
            "Training until validation scores don't improve for 10 rounds.\n",
            "Early stopping, best iteration is:\n",
            "[157]\ttrain's auc: 0.877896\tvalid's auc: 0.821197\n",
            "Training until validation scores don't improve for 10 rounds.\n",
            "Early stopping, best iteration is:\n",
            "[119]\ttrain's auc: 0.86722\tvalid's auc: 0.807076\n",
            "Training until validation scores don't improve for 10 rounds.\n",
            "Early stopping, best iteration is:\n",
            "[92]\ttrain's auc: 0.908487\tvalid's auc: 0.811353\n",
            "Training until validation scores don't improve for 10 rounds.\n",
            "Early stopping, best iteration is:\n",
            "[103]\ttrain's auc: 0.912584\tvalid's auc: 0.825331\n",
            "Training until validation scores don't improve for 10 rounds.\n",
            "Early stopping, best iteration is:\n",
            "[154]\ttrain's auc: 0.937233\tvalid's auc: 0.807756\n",
            "Training until validation scores don't improve for 10 rounds.\n",
            "Early stopping, best iteration is:\n",
            "[120]\ttrain's auc: 0.924964\tvalid's auc: 0.825263\n",
            "Training until validation scores don't improve for 10 rounds.\n",
            "Early stopping, best iteration is:\n",
            "[87]\ttrain's auc: 0.90271\tvalid's auc: 0.823316\n",
            "Training until validation scores don't improve for 10 rounds.\n",
            "Early stopping, best iteration is:\n",
            "[32]\ttrain's auc: 0.836547\tvalid's auc: 0.788723\n",
            "Training until validation scores don't improve for 10 rounds.\n",
            "Early stopping, best iteration is:\n",
            "[181]\ttrain's auc: 0.880731\tvalid's auc: 0.81424\n",
            "Training until validation scores don't improve for 10 rounds.\n",
            "[200]\ttrain's auc: 0.884506\tvalid's auc: 0.821131\n",
            "Early stopping, best iteration is:\n",
            "[221]\ttrain's auc: 0.88963\tvalid's auc: 0.821814\n",
            "Training until validation scores don't improve for 10 rounds.\n",
            "[200]\ttrain's auc: 0.885879\tvalid's auc: 0.835272\n",
            "Early stopping, best iteration is:\n",
            "[224]\ttrain's auc: 0.891501\tvalid's auc: 0.835906\n",
            "Training until validation scores don't improve for 10 rounds.\n",
            "[200]\ttrain's auc: 0.889163\tvalid's auc: 0.808815\n",
            "Early stopping, best iteration is:\n",
            "[242]\ttrain's auc: 0.898335\tvalid's auc: 0.8105\n",
            "Training until validation scores don't improve for 10 rounds.\n",
            "Early stopping, best iteration is:\n",
            "[125]\ttrain's auc: 0.864024\tvalid's auc: 0.824056\n",
            "Training until validation scores don't improve for 10 rounds.\n",
            "Early stopping, best iteration is:\n",
            "[83]\ttrain's auc: 0.850699\tvalid's auc: 0.809575\n",
            "Training until validation scores don't improve for 10 rounds.\n",
            "Early stopping, best iteration is:\n",
            "[121]\ttrain's auc: 0.86686\tvalid's auc: 0.807837\n",
            "Training until validation scores don't improve for 10 rounds.\n",
            "Early stopping, best iteration is:\n",
            "[184]\ttrain's auc: 0.880678\tvalid's auc: 0.797377\n",
            "Training until validation scores don't improve for 10 rounds.\n",
            "Early stopping, best iteration is:\n",
            "[115]\ttrain's auc: 0.858082\tvalid's auc: 0.833108\n",
            "Training until validation scores don't improve for 10 rounds.\n",
            "[200]\ttrain's auc: 0.900393\tvalid's auc: 0.808732\n",
            "Early stopping, best iteration is:\n",
            "[221]\ttrain's auc: 0.905419\tvalid's auc: 0.809301\n",
            "Training until validation scores don't improve for 10 rounds.\n",
            "[200]\ttrain's auc: 0.896454\tvalid's auc: 0.824614\n",
            "Early stopping, best iteration is:\n",
            "[292]\ttrain's auc: 0.918261\tvalid's auc: 0.8277\n",
            "Training until validation scores don't improve for 10 rounds.\n",
            "Early stopping, best iteration is:\n",
            "[82]\ttrain's auc: 0.861805\tvalid's auc: 0.817012\n",
            "Training until validation scores don't improve for 10 rounds.\n",
            "[200]\ttrain's auc: 0.90248\tvalid's auc: 0.810871\n",
            "Early stopping, best iteration is:\n",
            "[300]\ttrain's auc: 0.924672\tvalid's auc: 0.81439\n",
            "Training until validation scores don't improve for 10 rounds.\n",
            "[200]\ttrain's auc: 0.89951\tvalid's auc: 0.815575\n",
            "Early stopping, best iteration is:\n",
            "[211]\ttrain's auc: 0.902301\tvalid's auc: 0.816214\n",
            "Training until validation scores don't improve for 10 rounds.\n",
            "Early stopping, best iteration is:\n",
            "[28]\ttrain's auc: 0.809191\tvalid's auc: 0.787287\n",
            "Training until validation scores don't improve for 10 rounds.\n",
            "Early stopping, best iteration is:\n",
            "[18]\ttrain's auc: 0.797598\tvalid's auc: 0.793713\n",
            "Training until validation scores don't improve for 10 rounds.\n",
            "Early stopping, best iteration is:\n",
            "[25]\ttrain's auc: 0.805048\tvalid's auc: 0.786768\n",
            "Training until validation scores don't improve for 10 rounds.\n",
            "Early stopping, best iteration is:\n",
            "[51]\ttrain's auc: 0.808144\tvalid's auc: 0.78951\n",
            "Training until validation scores don't improve for 10 rounds.\n",
            "Early stopping, best iteration is:\n",
            "[29]\ttrain's auc: 0.802815\tvalid's auc: 0.786372\n",
            "Training until validation scores don't improve for 10 rounds.\n",
            "[200]\ttrain's auc: 0.913587\tvalid's auc: 0.837039\n",
            "Early stopping, best iteration is:\n",
            "[237]\ttrain's auc: 0.922984\tvalid's auc: 0.838431\n",
            "Training until validation scores don't improve for 10 rounds.\n",
            "[200]\ttrain's auc: 0.916253\tvalid's auc: 0.805077\n",
            "Early stopping, best iteration is:\n",
            "[327]\ttrain's auc: 0.943464\tvalid's auc: 0.80856\n",
            "Training until validation scores don't improve for 10 rounds.\n",
            "[200]\ttrain's auc: 0.913663\tvalid's auc: 0.814885\n",
            "Early stopping, best iteration is:\n",
            "[363]\ttrain's auc: 0.94746\tvalid's auc: 0.81987\n",
            "Training until validation scores don't improve for 10 rounds.\n",
            "[200]\ttrain's auc: 0.914785\tvalid's auc: 0.813818\n",
            "Early stopping, best iteration is:\n",
            "[263]\ttrain's auc: 0.93004\tvalid's auc: 0.816347\n",
            "Training until validation scores don't improve for 10 rounds.\n",
            "Early stopping, best iteration is:\n",
            "[40]\ttrain's auc: 0.865045\tvalid's auc: 0.808997\n",
            "Training until validation scores don't improve for 10 rounds.\n",
            "[200]\ttrain's auc: 0.904863\tvalid's auc: 0.806663\n",
            "Early stopping, best iteration is:\n",
            "[231]\ttrain's auc: 0.912653\tvalid's auc: 0.807292\n",
            "Training until validation scores don't improve for 10 rounds.\n",
            "[200]\ttrain's auc: 0.904363\tvalid's auc: 0.822591\n",
            "Early stopping, best iteration is:\n",
            "[223]\ttrain's auc: 0.910696\tvalid's auc: 0.82358\n",
            "Training until validation scores don't improve for 10 rounds.\n",
            "Early stopping, best iteration is:\n",
            "[175]\ttrain's auc: 0.89779\tvalid's auc: 0.813665\n",
            "Training until validation scores don't improve for 10 rounds.\n",
            "Early stopping, best iteration is:\n",
            "[30]\ttrain's auc: 0.850623\tvalid's auc: 0.800263\n",
            "Training until validation scores don't improve for 10 rounds.\n",
            "[200]\ttrain's auc: 0.902558\tvalid's auc: 0.824251\n",
            "Early stopping, best iteration is:\n",
            "[195]\ttrain's auc: 0.901291\tvalid's auc: 0.824447\n",
            "Training until validation scores don't improve for 10 rounds.\n",
            "Early stopping, best iteration is:\n",
            "[1]\ttrain's auc: 0.5\tvalid's auc: 0.5\n",
            "Training until validation scores don't improve for 10 rounds.\n",
            "Early stopping, best iteration is:\n",
            "[1]\ttrain's auc: 0.5\tvalid's auc: 0.5\n",
            "Training until validation scores don't improve for 10 rounds.\n",
            "Early stopping, best iteration is:\n",
            "[1]\ttrain's auc: 0.5\tvalid's auc: 0.5\n",
            "Training until validation scores don't improve for 10 rounds.\n",
            "Early stopping, best iteration is:\n",
            "[1]\ttrain's auc: 0.5\tvalid's auc: 0.5\n",
            "Training until validation scores don't improve for 10 rounds.\n",
            "Early stopping, best iteration is:\n",
            "[1]\ttrain's auc: 0.5\tvalid's auc: 0.5\n",
            "Training until validation scores don't improve for 10 rounds.\n",
            "Early stopping, best iteration is:\n",
            "[121]\ttrain's auc: 0.904865\tvalid's auc: 0.829305\n",
            "Training until validation scores don't improve for 10 rounds.\n",
            "Early stopping, best iteration is:\n",
            "[126]\ttrain's auc: 0.90763\tvalid's auc: 0.810665\n",
            "Training until validation scores don't improve for 10 rounds.\n",
            "Early stopping, best iteration is:\n",
            "[143]\ttrain's auc: 0.914067\tvalid's auc: 0.8119\n",
            "Training until validation scores don't improve for 10 rounds.\n",
            "[200]\ttrain's auc: 0.934143\tvalid's auc: 0.829687\n",
            "Early stopping, best iteration is:\n",
            "[203]\ttrain's auc: 0.934988\tvalid's auc: 0.829739\n",
            "Training until validation scores don't improve for 10 rounds.\n",
            "Early stopping, best iteration is:\n",
            "[31]\ttrain's auc: 0.855656\tvalid's auc: 0.80962\n",
            "Training until validation scores don't improve for 10 rounds.\n",
            "Early stopping, best iteration is:\n",
            "[123]\ttrain's auc: 0.875788\tvalid's auc: 0.827886\n",
            "Training until validation scores don't improve for 10 rounds.\n",
            "Early stopping, best iteration is:\n",
            "[155]\ttrain's auc: 0.886382\tvalid's auc: 0.825893\n",
            "Training until validation scores don't improve for 10 rounds.\n",
            "[200]\ttrain's auc: 0.901186\tvalid's auc: 0.794553\n",
            "Early stopping, best iteration is:\n",
            "[204]\ttrain's auc: 0.902283\tvalid's auc: 0.794701\n",
            "Training until validation scores don't improve for 10 rounds.\n",
            "Early stopping, best iteration is:\n",
            "[185]\ttrain's auc: 0.894442\tvalid's auc: 0.814518\n",
            "Training until validation scores don't improve for 10 rounds.\n",
            "Early stopping, best iteration is:\n",
            "[140]\ttrain's auc: 0.881559\tvalid's auc: 0.821215\n",
            "Training until validation scores don't improve for 10 rounds.\n",
            "Early stopping, best iteration is:\n",
            "[116]\ttrain's auc: 0.920012\tvalid's auc: 0.82002\n",
            "Training until validation scores don't improve for 10 rounds.\n",
            "Early stopping, best iteration is:\n",
            "[115]\ttrain's auc: 0.919976\tvalid's auc: 0.818697\n",
            "Training until validation scores don't improve for 10 rounds.\n",
            "Early stopping, best iteration is:\n",
            "[163]\ttrain's auc: 0.939247\tvalid's auc: 0.81847\n",
            "Training until validation scores don't improve for 10 rounds.\n",
            "Early stopping, best iteration is:\n",
            "[130]\ttrain's auc: 0.925545\tvalid's auc: 0.827093\n",
            "Training until validation scores don't improve for 10 rounds.\n",
            "Early stopping, best iteration is:\n",
            "[137]\ttrain's auc: 0.929346\tvalid's auc: 0.812985\n",
            "Training until validation scores don't improve for 10 rounds.\n",
            "Early stopping, best iteration is:\n",
            "[163]\ttrain's auc: 0.938126\tvalid's auc: 0.804218\n",
            "Training until validation scores don't improve for 10 rounds.\n",
            "Early stopping, best iteration is:\n",
            "[100]\ttrain's auc: 0.909901\tvalid's auc: 0.819465\n",
            "Training until validation scores don't improve for 10 rounds.\n",
            "Early stopping, best iteration is:\n",
            "[131]\ttrain's auc: 0.922325\tvalid's auc: 0.833519\n",
            "Training until validation scores don't improve for 10 rounds.\n",
            "Early stopping, best iteration is:\n",
            "[127]\ttrain's auc: 0.922139\tvalid's auc: 0.831979\n",
            "Training until validation scores don't improve for 10 rounds.\n",
            "Early stopping, best iteration is:\n",
            "[119]\ttrain's auc: 0.919389\tvalid's auc: 0.810716\n",
            "Training until validation scores don't improve for 10 rounds.\n",
            "Early stopping, best iteration is:\n",
            "[169]\ttrain's auc: 0.903456\tvalid's auc: 0.81752\n",
            "Training until validation scores don't improve for 10 rounds.\n",
            "Early stopping, best iteration is:\n",
            "[177]\ttrain's auc: 0.905027\tvalid's auc: 0.812833\n",
            "Training until validation scores don't improve for 10 rounds.\n",
            "[200]\ttrain's auc: 0.912851\tvalid's auc: 0.81721\n",
            "Early stopping, best iteration is:\n",
            "[243]\ttrain's auc: 0.923985\tvalid's auc: 0.819201\n",
            "Training until validation scores don't improve for 10 rounds.\n",
            "[200]\ttrain's auc: 0.911641\tvalid's auc: 0.823755\n",
            "Early stopping, best iteration is:\n",
            "[221]\ttrain's auc: 0.917311\tvalid's auc: 0.824318\n",
            "Training until validation scores don't improve for 10 rounds.\n",
            "Early stopping, best iteration is:\n",
            "[170]\ttrain's auc: 0.902388\tvalid's auc: 0.813979\n",
            "Training until validation scores don't improve for 10 rounds.\n",
            "Early stopping, best iteration is:\n",
            "[103]\ttrain's auc: 0.922307\tvalid's auc: 0.817731\n",
            "Training until validation scores don't improve for 10 rounds.\n",
            "Early stopping, best iteration is:\n",
            "[51]\ttrain's auc: 0.886308\tvalid's auc: 0.818877\n",
            "Training until validation scores don't improve for 10 rounds.\n",
            "Early stopping, best iteration is:\n",
            "[149]\ttrain's auc: 0.946289\tvalid's auc: 0.814811\n",
            "Training until validation scores don't improve for 10 rounds.\n",
            "Early stopping, best iteration is:\n",
            "[137]\ttrain's auc: 0.940175\tvalid's auc: 0.828048\n",
            "Training until validation scores don't improve for 10 rounds.\n",
            "Early stopping, best iteration is:\n",
            "[105]\ttrain's auc: 0.924955\tvalid's auc: 0.825494\n"
          ],
          "name": "stdout"
        }
      ]
    },
    {
      "cell_type": "code",
      "metadata": {
        "colab": {
          "base_uri": "https://localhost:8080/"
        },
        "id": "4kb98oPQ6-js",
        "outputId": "d494b730-021b-4325-9b5f-08a4a9a778e4"
      },
      "source": [
        "# Output\r\n",
        "results = pd.DataFrame(gpyopt_output, columns = ['avg_auc', 'parameters', 'runtime'] )\r\n",
        "results.to_csv(\"gpyopt_iterations_output.csv\")\r\n",
        "best_params = results['parameters'].iloc[np.argmax(results.avg_auc)]\r\n",
        "best_params"
      ],
      "execution_count": 146,
      "outputs": [
        {
          "output_type": "execute_result",
          "data": {
            "text/plain": [
              "{'bagging_fraction': 0.465706966729812,\n",
              " 'bagging_freq': 1,\n",
              " 'boost_from_average': 'true',\n",
              " 'boosting_type': 'gbdt',\n",
              " 'feature_fraction': 0.3927372791532985,\n",
              " 'is_unbalance': False,\n",
              " 'learning_rate': 0.04520083526165548,\n",
              " 'max_depth': -1,\n",
              " 'metric': 'auc',\n",
              " 'min_data_in_leaf': 20,\n",
              " 'min_sum_hessian_in_leaf': 17.969167504082467,\n",
              " 'n_estimators': 1000,\n",
              " 'nthread': -1,\n",
              " 'num_leaves': 700,\n",
              " 'objective': 'binary',\n",
              " 'reg_alpha': 0.15068175030756736,\n",
              " 'reg_lambda': 3.619910579717293,\n",
              " 'subsample_for_bin': 133,\n",
              " 'tree_learner': 'serial',\n",
              " 'verbose': -1}"
            ]
          },
          "metadata": {
            "tags": []
          },
          "execution_count": 146
        }
      ]
    },
    {
      "cell_type": "code",
      "metadata": {
        "colab": {
          "base_uri": "https://localhost:8080/",
          "height": 741
        },
        "id": "vaLwypiv6-jt",
        "outputId": "5804e82d-9cfb-4a0b-ca81-dcbbc69058f9"
      },
      "source": [
        "import pprint\r\n",
        "\r\n",
        "# Visualize Convergence\r\n",
        "optimizer.plot_convergence()\r\n",
        "\r\n",
        "print(\"Best AUC: {}\".format(optimizer.fx_opt))\r\n",
        "print(\"Best Parameters\")\r\n",
        "pprint.pprint(best_params)"
      ],
      "execution_count": 147,
      "outputs": [
        {
          "output_type": "display_data",
          "data": {
            "image/png": "[encoded data removed]",
            "text/plain": [
              "<Figure size 720x360 with 2 Axes>"
            ]
          },
          "metadata": {
            "tags": [],
            "needs_background": "light"
          }
        },
        {
          "output_type": "stream",
          "text": [
            "Best AUC: -0.8350164484184823\n",
            "Best Parameters\n",
            "{'bagging_fraction': 0.465706966729812,\n",
            " 'bagging_freq': 1,\n",
            " 'boost_from_average': 'true',\n",
            " 'boosting_type': 'gbdt',\n",
            " 'feature_fraction': 0.3927372791532985,\n",
            " 'is_unbalance': False,\n",
            " 'learning_rate': 0.04520083526165548,\n",
            " 'max_depth': -1,\n",
            " 'metric': 'auc',\n",
            " 'min_data_in_leaf': 20,\n",
            " 'min_sum_hessian_in_leaf': 17.969167504082467,\n",
            " 'n_estimators': 1000,\n",
            " 'nthread': -1,\n",
            " 'num_leaves': 700,\n",
            " 'objective': 'binary',\n",
            " 'reg_alpha': 0.15068175030756736,\n",
            " 'reg_lambda': 3.619910579717293,\n",
            " 'subsample_for_bin': 133,\n",
            " 'tree_learner': 'serial',\n",
            " 'verbose': -1}\n"
          ],
          "name": "stdout"
        }
      ]
    },
    {
      "cell_type": "code",
      "metadata": {
        "colab": {
          "base_uri": "https://localhost:8080/",
          "height": 703
        },
        "id": "0OsTfZde6-ju",
        "outputId": "16fbfa9f-66d5-4880-dc9c-4380b17ba84c"
      },
      "source": [
        "d_train= lgb.Dataset(train_x, train_y)\r\n",
        "bestmodel = lgb.train(\r\n",
        "                        best_params,\r\n",
        "                        train_set       = d_train,\r\n",
        "                        num_boost_round = 100,\r\n",
        "                        valid_sets =[d_train],\r\n",
        "                        valid_names=['train'],\r\n",
        "                        verbose_eval    = 200, \r\n",
        "                        early_stopping_rounds = 10\r\n",
        "                        )\r\n",
        "\r\n",
        "import seaborn as sns\r\n",
        "## 변수 중요도 시각화 \r\n",
        "lgb.plot_importance(bestmodel)\r\n",
        "plt.show()\r\n",
        "feature_importance = pd.DataFrame([bestmodel.feature_name() , bestmodel.feature_importance()]).T\r\n",
        "feature_importance.columns = [\"feature\", \"varimp\"]\r\n",
        "feature_importance = feature_importance.sort_values([\"varimp\"], ascending = False)\r\n",
        "sns.barplot(y=\"feature\", x=\"varimp\",data = feature_importance)\r\n",
        "plt.show()"
      ],
      "execution_count": 148,
      "outputs": [
        {
          "output_type": "stream",
          "text": [
            "Training until validation scores don't improve for 10 rounds.\n",
            "[200]\ttrain's auc: 0.903362\n",
            "[400]\ttrain's auc: 0.939926\n",
            "[600]\ttrain's auc: 0.96067\n",
            "[800]\ttrain's auc: 0.973772\n",
            "[1000]\ttrain's auc: 0.981915\n",
            "Did not meet early stopping. Best iteration is:\n",
            "[1000]\ttrain's auc: 0.981915\n"
          ],
          "name": "stdout"
        },
        {
          "output_type": "display_data",
          "data": {
            "image/png": "[encoded data removed]",
            "text/plain": [
              "<Figure size 432x288 with 1 Axes>"
            ]
          },
          "metadata": {
            "tags": [],
            "needs_background": "light"
          }
        },
        {
          "output_type": "display_data",
          "data": {
            "image/png": "[encoded data removed]",
            "text/plain": [
              "<Figure size 432x288 with 1 Axes>"
            ]
          },
          "metadata": {
            "tags": [],
            "needs_background": "light"
          }
        }
      ]
    },
    {
      "cell_type": "code",
      "metadata": {
        "colab": {
          "base_uri": "https://localhost:8080/"
        },
        "id": "sbtYi9vLrvH0",
        "outputId": "46cfafef-a2e2-40cf-f20c-72622dc75068"
      },
      "source": [
        "lgb_models = []\r\n",
        "\r\n",
        "nfold = 5\r\n",
        "folds = KFold(n_splits=nfold, shuffle=True)\r\n",
        "for fold_, (train_index, valid_index) in enumerate(folds.split(train_x, train_y)):\r\n",
        "  train_x_i = train_x.iloc[train_index,]\r\n",
        "  train_y_i = train_y[train_index]\r\n",
        "\r\n",
        "  val_x_i = train_x.iloc[valid_index,]\r\n",
        "  val_y_i = train_y[valid_index]\r\n",
        "  \r\n",
        "  d_train= lgb.Dataset(train_x_i, train_y_i)\r\n",
        "  d_val= lgb.Dataset(val_x_i, val_y_i)\r\n",
        "\r\n",
        "  lgb_models.append( lgb.train(\r\n",
        "                        best_params,\r\n",
        "                        train_set       = d_train,\r\n",
        "                        num_boost_round = 100,\r\n",
        "                        valid_sets =[d_train, d_val],\r\n",
        "                        valid_names=['train', 'val'],\r\n",
        "                        verbose_eval    = 200, \r\n",
        "                        early_stopping_rounds = 10\r\n",
        "                        ) )\r\n",
        "  \r\n"
      ],
      "execution_count": 149,
      "outputs": [
        {
          "output_type": "stream",
          "text": [
            "Training until validation scores don't improve for 10 rounds.\n",
            "Early stopping, best iteration is:\n",
            "[79]\ttrain's auc: 0.85971\tval's auc: 0.808461\n",
            "Training until validation scores don't improve for 10 rounds.\n",
            "Early stopping, best iteration is:\n",
            "[128]\ttrain's auc: 0.876812\tval's auc: 0.821726\n",
            "Training until validation scores don't improve for 10 rounds.\n",
            "Early stopping, best iteration is:\n",
            "[123]\ttrain's auc: 0.878781\tval's auc: 0.823522\n",
            "Training until validation scores don't improve for 10 rounds.\n",
            "Early stopping, best iteration is:\n",
            "[112]\ttrain's auc: 0.876506\tval's auc: 0.808606\n",
            "Training until validation scores don't improve for 10 rounds.\n",
            "Early stopping, best iteration is:\n",
            "[135]\ttrain's auc: 0.885571\tval's auc: 0.820198\n"
          ],
          "name": "stdout"
        }
      ]
    },
    {
      "cell_type": "markdown",
      "metadata": {
        "id": "X-nv9CKVmQjM"
      },
      "source": [
        "### save submit .csv"
      ]
    },
    {
      "cell_type": "code",
      "metadata": {
        "id": "dwNyENhzs2fB"
      },
      "source": [
        "# 예측\r\n",
        "pred_y_list = []\r\n",
        "for model in lgb_models:\r\n",
        "    pred_y = model.predict(test_x)\r\n",
        "    pred_y_list.append(pred_y.reshape(-1,1))\r\n",
        "    \r\n",
        "pred_ensemble = np.mean(pred_y_list, axis = 0)"
      ],
      "execution_count": 150,
      "outputs": []
    },
    {
      "cell_type": "code",
      "metadata": {
        "colab": {
          "base_uri": "https://localhost:8080/"
        },
        "id": "082NbShStEHO",
        "outputId": "f94903dd-8060-4549-c122-ba29d5a93d90"
      },
      "source": [
        "pred_ensemble"
      ],
      "execution_count": 151,
      "outputs": [
        {
          "output_type": "execute_result",
          "data": {
            "text/plain": [
              "array([[0.88370915],\n",
              "       [0.22040754],\n",
              "       [0.32037834],\n",
              "       ...,\n",
              "       [0.57448306],\n",
              "       [0.8700196 ],\n",
              "       [0.37657574]])"
            ]
          },
          "metadata": {
            "tags": []
          },
          "execution_count": 151
        }
      ]
    },
    {
      "cell_type": "code",
      "metadata": {
        "id": "XjwMbxv4yNXK"
      },
      "source": [
        "sample_submission['problem'] = pred_ensemble.reshape(-1)"
      ],
      "execution_count": 152,
      "outputs": []
    },
    {
      "cell_type": "code",
      "metadata": {
        "colab": {
          "base_uri": "https://localhost:8080/",
          "height": 411
        },
        "id": "JNhJcCkcxS3O",
        "outputId": "5f2f7dd3-6a19-4650-98b2-2277ce358b64"
      },
      "source": [
        "sample_submission.to_csv(\"gdrive/MyDrive/data/dacon_2101130.csv\", index = False)\r\n",
        "sample_submission"
      ],
      "execution_count": 153,
      "outputs": [
        {
          "output_type": "execute_result",
          "data": {
            "text/html": [
              "<div>\n",
              "<style scoped>\n",
              "    .dataframe tbody tr th:only-of-type {\n",
              "        vertical-align: middle;\n",
              "    }\n",
              "\n",
              "    .dataframe tbody tr th {\n",
              "        vertical-align: top;\n",
              "    }\n",
              "\n",
              "    .dataframe thead th {\n",
              "        text-align: right;\n",
              "    }\n",
              "</style>\n",
              "<table border=\"1\" class=\"dataframe\">\n",
              "  <thead>\n",
              "    <tr style=\"text-align: right;\">\n",
              "      <th></th>\n",
              "      <th>user_id</th>\n",
              "      <th>problem</th>\n",
              "    </tr>\n",
              "  </thead>\n",
              "  <tbody>\n",
              "    <tr>\n",
              "      <th>0</th>\n",
              "      <td>30000</td>\n",
              "      <td>1</td>\n",
              "    </tr>\n",
              "    <tr>\n",
              "      <th>1</th>\n",
              "      <td>30001</td>\n",
              "      <td>0</td>\n",
              "    </tr>\n",
              "    <tr>\n",
              "      <th>2</th>\n",
              "      <td>30002</td>\n",
              "      <td>0</td>\n",
              "    </tr>\n",
              "    <tr>\n",
              "      <th>3</th>\n",
              "      <td>30003</td>\n",
              "      <td>1</td>\n",
              "    </tr>\n",
              "    <tr>\n",
              "      <th>4</th>\n",
              "      <td>30004</td>\n",
              "      <td>1</td>\n",
              "    </tr>\n",
              "    <tr>\n",
              "      <th>...</th>\n",
              "      <td>...</td>\n",
              "      <td>...</td>\n",
              "    </tr>\n",
              "    <tr>\n",
              "      <th>14994</th>\n",
              "      <td>44994</td>\n",
              "      <td>0</td>\n",
              "    </tr>\n",
              "    <tr>\n",
              "      <th>14995</th>\n",
              "      <td>44995</td>\n",
              "      <td>0</td>\n",
              "    </tr>\n",
              "    <tr>\n",
              "      <th>14996</th>\n",
              "      <td>44996</td>\n",
              "      <td>1</td>\n",
              "    </tr>\n",
              "    <tr>\n",
              "      <th>14997</th>\n",
              "      <td>44997</td>\n",
              "      <td>1</td>\n",
              "    </tr>\n",
              "    <tr>\n",
              "      <th>14998</th>\n",
              "      <td>44998</td>\n",
              "      <td>0</td>\n",
              "    </tr>\n",
              "  </tbody>\n",
              "</table>\n",
              "<p>14999 rows × 2 columns</p>\n",
              "</div>"
            ],
            "text/plain": [
              "       user_id  problem\n",
              "0        30000        1\n",
              "1        30001        0\n",
              "2        30002        0\n",
              "3        30003        1\n",
              "4        30004        1\n",
              "...        ...      ...\n",
              "14994    44994        0\n",
              "14995    44995        0\n",
              "14996    44996        1\n",
              "14997    44997        1\n",
              "14998    44998        0\n",
              "\n",
              "[14999 rows x 2 columns]"
            ]
          },
          "metadata": {
            "tags": []
          },
          "execution_count": 153
        }
      ]
    }
  ]
}